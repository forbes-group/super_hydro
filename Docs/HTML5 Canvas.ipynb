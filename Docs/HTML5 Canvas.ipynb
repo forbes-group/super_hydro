{
 "cells": [
  {
   "cell_type": "markdown",
   "metadata": {},
   "source": [
    "Here we explore properties of the HTML5 Canvas."
   ]
  },
  {
   "cell_type": "code",
   "execution_count": null,
   "metadata": {},
   "outputs": [],
   "source": [
    "%%javascript\n",
    "IPython.OutputArea.prototype._should_scroll = function(lines) { return false; }"
   ]
  },
  {
   "cell_type": "markdown",
   "metadata": {},
   "source": [
    "# Explicit"
   ]
  },
  {
   "cell_type": "markdown",
   "metadata": {},
   "source": [
    "We start with some explicit manipulations of a canvas:"
   ]
  },
  {
   "cell_type": "code",
   "execution_count": null,
   "metadata": {},
   "outputs": [],
   "source": [
    "%%html\n",
    "<style type=\"text/css\">\n",
    "    canvas {\n",
    "        border: 1px solid black;\n",
    "    }\n",
    "</style>\n",
    "<canvas></canvas>"
   ]
  },
  {
   "cell_type": "code",
   "execution_count": null,
   "metadata": {},
   "outputs": [],
   "source": [
    "from matplotlib import cm\n",
    "import numpy as np\n",
    "x = np.linspace(-2,2,100)\n",
    "y = np.linspace(-2,2,100)\n",
    "z = np.exp(-x**2 + y*x)\n",
    "data = cm.viridis(z, bytes=True)"
   ]
  },
  {
   "cell_type": "markdown",
   "metadata": {},
   "source": [
    "\n",
    "* https://gist.github.com/sanbor/e9c8b57c5759d1ff382a"
   ]
  },
  {
   "cell_type": "code",
   "execution_count": null,
   "metadata": {},
   "outputs": [],
   "source": [
    "%%javascript\n",
    "var canvas = document.querySelector('canvas');\n",
    "canvas.width = 200;\n",
    "canvas.height = 200;\n",
    "var ctx = canvas.getContext('2d');\n",
    "var raw_data = new Uint8ClampedArray([255,0,0,255, 0,255,0,255, 0,0,255,255, \n",
    "                                      255,255,0,255, 0,255,255,255, 255,0,255,255, \n",
    "                                      255,255,255,255, 0,255,0,255, 0,0,255,255])\n",
    "var image_data = new ImageData(raw_data, 3)\n",
    "canvas.width = 4;\n",
    "canvas.height = 4;\n",
    "ctx.imageSmoothingQuality = \"high\"\n",
    "ctx.imageSmoothingEnabled = false\n",
    "ctx.putImageData(image_data, 0, 0);\n",
    "ctx.drawImage(canvas, \n",
    "              0, 0, 3, 3, \n",
    "              0, 0, canvas.width, canvas.height);\n"
   ]
  },
  {
   "cell_type": "code",
   "execution_count": null,
   "metadata": {},
   "outputs": [],
   "source": [
    "var kernel = IPython.notebook.kernel;\n",
    "function handle_output(data) {\n",
    "    console.log(data.msg_type);\n",
    "    debugger;\n",
    "    raw_data = data.content.text;\n",
    "}\n",
    "var callbacks = {iopub : {output : handle_output,}}\n",
    "kernel.execute(\"print(_data)\", callbacks)"
   ]
  },
  {
   "cell_type": "code",
   "execution_count": null,
   "metadata": {},
   "outputs": [],
   "source": [
    "debugger;\n",
    "var data = new kernel.execute('print(data)');\n",
    "var image_data = new ImageData(raw_data, 100);\n",
    "ctx.putImageData(image_data, 0, 0);\n"
   ]
  },
  {
   "cell_type": "markdown",
   "metadata": {},
   "source": [
    "# Widget"
   ]
  },
  {
   "cell_type": "markdown",
   "metadata": {},
   "source": [
    "Here is our widget.  This is not installed - we load and execute all of the javascript explicitly."
   ]
  },
  {
   "cell_type": "code",
   "execution_count": null,
   "metadata": {},
   "outputs": [],
   "source": [
    "import mmf_setup.set_path.hgroot\n",
    "from importlib import reload\n",
    "from super_hydro.client import canvas_widget"
   ]
  },
  {
   "cell_type": "code",
   "execution_count": null,
   "metadata": {},
   "outputs": [],
   "source": [
    "reload(canvas_widget)\n",
    "canvas_widget.display_js()   # Load javascript\n",
    "canvas = canvas_widget.Canvas()\n",
    "display(canvas)\n",
    "\n",
    "from matplotlib import cm\n",
    "import numpy as np\n",
    "x = np.linspace(-2,2,200)[:, None]\n",
    "y = np.linspace(-2,2,100)[None, :]\n",
    "z = np.exp(-x**2 - (y**2-x)**2)\n",
    "data = cm.viridis(z, bytes=True)\n",
    "canvas.width = 1000\n",
    "canvas.height = 1000\n",
    "#canvas.rgba = data"
   ]
  },
  {
   "cell_type": "code",
   "execution_count": null,
   "metadata": {},
   "outputs": [],
   "source": [
    "import time\n",
    "from matplotlib import cm\n",
    "import numpy as np\n",
    "Nx, Ny = (512, 512)\n",
    "x = np.linspace(-2,2,Nx)[:, None]\n",
    "y = np.linspace(-2,2,Ny)[None, :]\n",
    "\n",
    "def get_data(t):\n",
    "    z = np.exp(-x**2 - (y**2-x*np.cos(t))**2)\n",
    "    return cm.viridis(z, bytes=True)\n",
    "\n",
    "tic = time.time()\n",
    "Nt = 100\n",
    "for t in np.linspace(0, 10*np.pi, Nt):\n",
    "    canvas.rgba = get_data(t)\n",
    "print(f\"{Nt/(time.time() - tic):.1f}fps\")\n",
    "    "
   ]
  },
  {
   "cell_type": "code",
   "execution_count": null,
   "metadata": {},
   "outputs": [],
   "source": [
    "from matplotlib import cm\n",
    "import numpy as np\n",
    "x = np.linspace(-2,2,100)[:, None]\n",
    "y = np.linspace(-2,2,100)[None, :]\n",
    "z = np.exp(-x**2 - (y**2-x)**2)\n",
    "data = cm.viridis(z, bytes=True)\n",
    "canvas.width = 256\n",
    "canvas.height = 256\n",
    "canvas.rgba = data"
   ]
  },
  {
   "cell_type": "code",
   "execution_count": null,
   "metadata": {},
   "outputs": [],
   "source": []
  }
 ],
 "metadata": {
  "kernelspec": {
   "display_name": "Python [conda env:super-hydro]",
   "language": "python",
   "name": "conda-env-super-hydro-py"
  },
  "language_info": {
   "codemirror_mode": {
    "name": "ipython",
    "version": 3
   },
   "file_extension": ".py",
   "mimetype": "text/x-python",
   "name": "python",
   "nbconvert_exporter": "python",
   "pygments_lexer": "ipython3",
   "version": "3.7.3"
  },
  "toc": {
   "base_numbering": 1,
   "nav_menu": {},
   "number_sections": true,
   "sideBar": true,
   "skip_h1_title": false,
   "title_cell": "Table of Contents",
   "title_sidebar": "Contents",
   "toc_cell": false,
   "toc_position": {},
   "toc_section_display": true,
   "toc_window_display": false
  }
 },
 "nbformat": 4,
 "nbformat_minor": 2
}
