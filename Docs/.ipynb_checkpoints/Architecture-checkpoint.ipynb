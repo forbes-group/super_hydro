{
 "cells": [
  {
   "cell_type": "markdown",
   "metadata": {
    "toc": true
   },
   "source": [
    "<h1>Table of Contents<span class=\"tocSkip\"></span></h1>\n",
    "<div class=\"toc\"><ul class=\"toc-item\"><li><span><a href=\"#Architecture\" data-toc-modified-id=\"Architecture-1\"><span class=\"toc-item-num\">1&nbsp;&nbsp;</span>Architecture</a></span><ul class=\"toc-item\"><li><span><a href=\"#Name:-&quot;super_hydro&quot;\" data-toc-modified-id=\"Name:-&quot;super_hydro&quot;-1.1\"><span class=\"toc-item-num\">1.1&nbsp;&nbsp;</span>Name: \"super_hydro\"</a></span></li></ul></li><li><span><a href=\"#Programming-API\" data-toc-modified-id=\"Programming-API-2\"><span class=\"toc-item-num\">2&nbsp;&nbsp;</span>Programming API</a></span></li><li><span><a href=\"#Configuration\" data-toc-modified-id=\"Configuration-3\"><span class=\"toc-item-num\">3&nbsp;&nbsp;</span>Configuration</a></span></li><li><span><a href=\"#Communication\" data-toc-modified-id=\"Communication-4\"><span class=\"toc-item-num\">4&nbsp;&nbsp;</span>Communication</a></span></li><li><span><a href=\"#Logging\" data-toc-modified-id=\"Logging-5\"><span class=\"toc-item-num\">5&nbsp;&nbsp;</span>Logging</a></span></li><li><span><a href=\"#Synchronization\" data-toc-modified-id=\"Synchronization-6\"><span class=\"toc-item-num\">6&nbsp;&nbsp;</span>Synchronization</a></span></li><li><span><a href=\"#Potential\" data-toc-modified-id=\"Potential-7\"><span class=\"toc-item-num\">7&nbsp;&nbsp;</span>Potential</a></span></li><li><span><a href=\"#References\" data-toc-modified-id=\"References-8\"><span class=\"toc-item-num\">8&nbsp;&nbsp;</span>References</a></span></li></ul></div>"
   ]
  },
  {
   "cell_type": "markdown",
   "metadata": {},
   "source": [
    "# Architecture"
   ]
  },
  {
   "cell_type": "markdown",
   "metadata": {},
   "source": [
    "Here we describe our basic architecture of our application, including configuration and communication protocols.  Our application consists of a server and multiple clients.  The server performs the computation, while the clients display the results and provide real-time inputs and controls.\n",
    "\n",
    "For stability, we use [ØMQ] via the [pyzmq](https://pyzmq.readthedocs.io/en/latest/) library to implement the base level communication layer and define a simple protocol.\n",
    "\n",
    "[ØMQ]: http://zeromq.org"
   ]
  },
  {
   "cell_type": "markdown",
   "metadata": {},
   "source": [
    "## Name: \"super_hydro\""
   ]
  },
  {
   "cell_type": "markdown",
   "metadata": {},
   "source": [
    "As of 9 September 2018, there are only 69 matches on Google for the search term [\"super_hydro\"](https://www.google.com/search?q=%22super_hydro%22) (with quotes) and most are squirreled away (email addresses, etc.)  This seems like a safe choice for a project name.  For comparison [\"SuperHydro\"](https://www.google.com/search?q=%22SuperHydro%22) returned about 21k matches.\n",
    "\n",
    "* Environment variables will be prefixed with `SUPER_HYDRO_` to minimize conflicts.\n",
    "* The main module is `super_hydro`.\n",
    "* Config files will use `super_hydro`."
   ]
  },
  {
   "cell_type": "markdown",
   "metadata": {},
   "source": [
    "# Programming API"
   ]
  },
  {
   "cell_type": "markdown",
   "metadata": {},
   "source": [
    "The code is structured into three logical units, each defined in a separate submodule.  Interfaces are defined in `super_hydro.interfaces`.\n",
    "\n",
    "* **`super_hydro.physics`**: This modules contains all of the physics.  Components here define a `Model` class that implements the `supero_hydro.interfaces.IModel` interface defining a particular physics problem.  All of the detailed computations are described in these files.\n",
    "\n",
    "* **`super_hydro.server`**: This is the computation server.  It will run the computation engine, and listen for connection requests from clients who want to interact or view the simulation.  The server should generally be run on a fairly high-performance computer – ideally equipped with an NVIDIA GPU.\n",
    "\n",
    "* **`super_hydro.client`**: This is the client.  Clients are generally designed to be lightweight in both their dependencies and performance characteristics so that clients can be installed and run on as many platforms as possible, including mobile devices.  A more heavyweight client might be designed that offloads some of the calculations to improve UI performance.  For example, updating tracer-particle positions so that they move smoothly even if background frame updates are slow due to network issues.  I would really like to make a web-client, but have not yet found a suitable framework.\n",
    "\n",
    "Current Configuration:\n",
    "* May 2019: The client is written in python using [Kivy](https://kivy.org/#home).  This works reasonably well, but has some limitations with configuration and installation.  The server currently performs all computations, including tracer-particles and incorporates these into the image displayed on the clients."
   ]
  },
  {
   "cell_type": "markdown",
   "metadata": {},
   "source": [
    "# Configuration"
   ]
  },
  {
   "cell_type": "markdown",
   "metadata": {},
   "source": [
    "Configuration takes place in several layers.  From lowest to highest precedence, we have:\n",
    "\n",
    "1. **Defaults hard-coded into the program:** These are coded in the `params` dictionaries of the physics models.  See for example `physics/gpe.py::GPEBase`.\n",
    "2. **Environmental variables:**\n",
    "3. **Configuration files:**\n",
    "4. **Command-line options:** E.g.:\n",
    "\n",
    "   ```bash\n",
    "   conda activate super_hydro\n",
    "   python bin/server --model=gpe.BECBreather --Nx=256 Ny=256\n",
    "   ```\n",
    "\n",
    "The [ConfigArgParse](https://github.com/bw2/ConfigArgParse) library seems to provide this behavior out of the box, so we start with this.  A couple of comments:\n",
    "\n",
    "* Options with a long name `--option` can be set in a config file with the same name.\n",
    "* Options without `-` or `--` are positional.\n",
    "* Sections are not used (by design) but can be included as comments in the config files.\n",
    "\n",
    "Configuration options are specified in the [`super_hydro/config.py`](/edit/super_hydro/config.py) file which reads these from various config files (`~/.config/super_hydro.conf` or `./super_hydro.conf` preferred), environment variables, or command-line arguments."
   ]
  },
  {
   "cell_type": "markdown",
   "metadata": {},
   "source": [
    "*An alternative [strategy suggested by Von Welch](http://blog.vwelch.com/2011/04/combining-configparser-and-argparse.html) combines [`configparser`](https://docs.python.org/3/library/configparser.html) for reading the config files with [`argparse`](https://docs.python.org/3/library/argparse.html) for processing the command line.*"
   ]
  },
  {
   "cell_type": "markdown",
   "metadata": {},
   "source": [
    "To configure the communication layer, the server must have an IP address (URL) specifying where it is located, and a port on which it listens for connections.  These are specified in the application config file."
   ]
  },
  {
   "cell_type": "markdown",
   "metadata": {},
   "source": [
    "# Communication"
   ]
  },
  {
   "cell_type": "markdown",
   "metadata": {},
   "source": [
    "The main communication pathway is between the server, which runs the computation, and the client, which provides the visualization and interaction.  This communication will generally take place across a network (using [ØMQ]) which allows the server to run on high-performance hardware, but to simplify development and debugging, we also provide a direction python connection so that a seperate server need not be run.\n",
    "\n",
    "Communication between the client and server is driven by the clients through a [request-reply](http://zguide.zeromq.org/page:all#Messaging-Patterns) pattern where the client requests actions of or data from the server.  This interface is defined through the following methods of the server:\n",
    "\n",
    "* `do(msg)`:\n",
    "* `get(msg)`:\n",
    "* `set(msg, obj)`:\n",
    "* `get_array(msg)`: Sending arrays requires a bit more work, so we separate these methods.\n",
    "* `set_array(msg, array)`:\n",
    "\n",
    "\n",
    "* `do_*`: Simple request for the server to do something such as start, stop, pause, resume, etc.  No arguments are passed other than the byte-string such as `b'do_start'`.\n",
    "* `set_*`: Set a variable on the server.  This allows the client to set a parameter of the server such as the cooling, position of the external potential, etc.  The message to the server contains two parts: first the byte-string such as `b'set_cooling'` is sent.  Once the server responds, the client sends the data in a JSON encoding.\n",
    "* `set_array_*`: \n",
    "* `get_*`: Get a variable from the server.  The message to the server contains two parts: first the byte-string such as `b'set_cooling'` is sent.  Once the server responds, the client sends the data in a JSON encoding.\n",
    "\n",
    "\n",
    "\n",
    "[ØMQ]: http://zeromq.org"
   ]
  },
  {
   "cell_type": "markdown",
   "metadata": {},
   "source": [
    "To simplify communication we use [ØMQ] via the [pyzmq](https://pyzmq.readthedocs.io/en/latest/) library to implement the base level communication layer and define a simple protocol through `Client` and `Server` classes in [`super_hydro/communication.py`](/edit/super_hydro/communication.py).\n",
    "\n",
    "Currently we used the [**Request-reply**](http://zguide.zeromq.org/page:all#Messaging-Patterns) pattern where the client drives all communication through a `send()/recv()` pair and the server responds with a `recv()/send()` pair.  We implement the following transactions, initiated by the client: \n",
    "\n",
    "*(Unless otherwise specified, all data discussed must be [`bytes`](https://docs.python.org/3/library/stdtypes.html#bytes) objects (ascii strings) which can be sent without encoding.)*\n",
    "\n",
    "* **Request:** The client requests something from the server by sending a message.  This could be a request for simple information or to perform an action such as **Pause**.  The server responds with a simple message.\n",
    "\n",
    "  * **Client->Server**: `bytes`\n",
    "  * **Server->Client**: `bytes`\n",
    "\n",
    "  ```python\n",
    "  # Python eg\n",
    "  client.send(msg)\n",
    "  response = client.recv()\n",
    "  ```\n",
    "\n",
    "* **Get:** The client requests for some encoded data to be returned.\n",
    "\n",
    "  * **Client->Server**: `bytes`\n",
    "  * **Server->Client**: (`bytes`, `data`)\n",
    "\n",
    "  ```python\n",
    "  client.send(msg)\n",
    "  result = client.recv_json()\n",
    "  ```\n",
    "\n",
    "* **Send:** The client sends encoded data to the server.\n",
    "\n",
    "  ```python\n",
    "  client.send(msg)\n",
    "  response = client.recv_json()\n",
    "  client.send_json(data)\n",
    "  response = client.recv_json()\n",
    "  ```\n",
    "\n",
    "\n",
    "* **GetArray:** The client requests an array.  For efficiency we provide a custom encoding for arrays:\n",
    "\n",
    "  ```python\n",
    "  client.send(msg)\n",
    "  result = client.recv_array()\n",
    "  ```\n",
    "  \n",
    "* **SendArray:** The client sends an array to the server.  For efficiency we provide a custom encoding for arrays:\n",
    "\n",
    "  ```python\n",
    "  client.send(msg)\n",
    "  response = client.recv()\n",
    "  client.send_array(data))\n",
    "  response = client.recv()\n",
    "  ```  \n",
    "  \n",
    "[ØMQ]: http://zeromq.org"
   ]
  },
  {
   "cell_type": "markdown",
   "metadata": {},
   "source": [
    "Note: all messages should be byte objects, not strings (i.e. `msg=b\"Window.size\"` not `msg=\"Window.size\"`).\n",
    "\n",
    "Data (`obj`s) are serialized using `send_json` and `recv_json` except for NumPy arrays which have custom serializations as suggested in the [pyzmq docs](https://pyzmq.readthedocs.io/en/latest/serialization.html?highlight=buffer)."
   ]
  },
  {
   "cell_type": "markdown",
   "metadata": {},
   "source": [
    "Currently the code employs the `zmq.REQ` (Server) and `zmq.REP` (Client) socket types for which each message requires a send and receive.  This is simply [described here](https://learning-0mq-with-pyzmq.readthedocs.io/en/latest/pyzmq/patterns/client_server.html) but may not allow multiple clients to connect to the server.  (It definitely allows a client to connect with multiple servers, but this is not the pattern we want.)"
   ]
  },
  {
   "cell_type": "code",
   "execution_count": null,
   "metadata": {},
   "outputs": [],
   "source": [
    "import numpy as np\n",
    "A = np.random.random((128, 128)) + 1j\n",
    "%timeit A.tostring()\n",
    "%timeit A.tobytes()"
   ]
  },
  {
   "cell_type": "code",
   "execution_count": null,
   "metadata": {},
   "outputs": [],
   "source": [
    "s = A.tobytes()\n",
    "B = np.frombuffer(A, dtype=complex).reshape(A.shape)\n",
    "C = np.frombuffer(s, dtype=complex).reshape(A.shape)\n",
    "assert np.allclose(A, C)\n",
    "assert np.allclose(A, B)\n",
    "\n",
    "%timeit np.frombuffer(A, dtype=complex).reshape(A.shape)\n",
    "%timeit np.frombuffer(s, dtype=complex).reshape(A.shape)"
   ]
  },
  {
   "cell_type": "code",
   "execution_count": null,
   "metadata": {},
   "outputs": [],
   "source": [
    "# Here you can test what types of objects have simple json reps.\n",
    "import json\n",
    "\n",
    "json.dumps({'a': \"Unknown\"})"
   ]
  },
  {
   "cell_type": "markdown",
   "metadata": {},
   "source": [
    "# Logging"
   ]
  },
  {
   "cell_type": "markdown",
   "metadata": {},
   "source": [
    "Logging is currently done through the [`logging`](https://docs.python.org/3/library/logging.html) module through the `Logger` class in [`super_hydro/utils.py`](/edit/super_hydro/utils.py).  Two mechanisms are provided in the code:\n",
    "\n",
    "* Output a message at a specified logging level (default is INFO):\n",
    "\n",
    "  ```python\n",
    "  log(msg, level=logging.INFO)\n",
    "  ```\n",
    "  \n",
    "* Frame a task with messages at the start and end with a specified logging level:\n",
    "\n",
    "  ```python\n",
    "  with log_task(msg, level=logging.INFO):\n",
    "      ...\n",
    "  ```\n",
    "\n",
    "For the clients, we might want to use the logging facilities of the front end."
   ]
  },
  {
   "cell_type": "markdown",
   "metadata": {},
   "source": [
    "# Synchronization"
   ]
  },
  {
   "cell_type": "markdown",
   "metadata": {},
   "source": [
    "Here we discuss some synchronization strategies:\n",
    "\n",
    "* **Client Driven**: This is how the current version of the code works.  The server advances the simulation by the specified number of `steps` every time the client asks the server to `get(b\"Density\")`.  This is done using `kivy.clock.Clock.schedule_interval`.  The advantage of this is that the clients (who do the visualization) never miss a frame.  The disadvantage is that the simulation is slowed down since it must work in lock-step with the client, communication, etc.\n",
    "\n",
    "* **Server Driven**: In this case, the server might run as fast as possible, and the clients just update when they can."
   ]
  },
  {
   "cell_type": "markdown",
   "metadata": {},
   "source": [
    "# Potential"
   ]
  },
  {
   "cell_type": "code",
   "execution_count": null,
   "metadata": {},
   "outputs": [],
   "source": [
    "import sys\n",
    "sys.path.append('..')\n",
    "%pylab inline --no-import-all\n",
    "from super_hydro import utils\n",
    "x = np.linspace(0,1,100)\n",
    "plt.plot(x, utils.mstep(x-0.8, 0.2))"
   ]
  },
  {
   "cell_type": "markdown",
   "metadata": {},
   "source": [
    "# References"
   ]
  },
  {
   "cell_type": "markdown",
   "metadata": {},
   "source": [
    "* [Which is the best way to allow configuration options be overridden at the command line in Python?\n",
    "](https://stackoverflow.com/questions/3609852/which-is-the-best-way-to-allow-configuration-options-be-overridden-at-the-comman/5826167)\n",
    "* https://github.com/lebedov/msgpack-numpy"
   ]
  }
 ],
 "metadata": {
  "kernelspec": {
   "display_name": "Python 3",
   "language": "python",
   "name": "python3"
  },
  "language_info": {
   "codemirror_mode": {
    "name": "ipython",
    "version": 3
   },
   "file_extension": ".py",
   "mimetype": "text/x-python",
   "name": "python",
   "nbconvert_exporter": "python",
   "pygments_lexer": "ipython3",
   "version": "3.6.9"
  },
  "toc": {
   "base_numbering": 1,
   "nav_menu": {},
   "number_sections": true,
   "sideBar": true,
   "skip_h1_title": false,
   "title_cell": "Table of Contents",
   "title_sidebar": "Contents",
   "toc_cell": true,
   "toc_position": {
    "height": "calc(100% - 180px)",
    "left": "10px",
    "top": "150px",
    "width": "244.1875px"
   },
   "toc_section_display": true,
   "toc_window_display": true
  }
 },
 "nbformat": 4,
 "nbformat_minor": 2
}
