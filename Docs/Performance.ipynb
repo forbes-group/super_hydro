{
 "cells": [
  {
   "cell_type": "markdown",
   "metadata": {},
   "source": [
    "# Performance"
   ]
  },
  {
   "cell_type": "markdown",
   "metadata": {},
   "source": [
    "Here we explore the performance of some aspects of the code."
   ]
  },
  {
   "cell_type": "markdown",
   "metadata": {},
   "source": [
    "## Current Summary\n",
    "\n",
    "Currently, using IPyWidgets with an appropriate Image widget is fast enough for interactive displaying, but there are some issues:\n",
    "\n",
    "**Issues**\n",
    "* Decent performance can be realized with the JPEG format, but this does not support alpha channels like PNG.  PNG is significantly slower.\n",
    "* The Image widget is [currently broken on CoLaboratory](https://github.com/googlecolab/colabtools/issues/587).\n",
    "* There is no way to click or drag on the Image widget, so we are stuck with sliders etc.\n",
    "\n",
    "**Options**\n",
    "* [Jupyter Canvas Widget](https://github.com/Who8MyLunch/Jupyter_Canvas_Widget)"
   ]
  },
  {
   "cell_type": "markdown",
   "metadata": {},
   "source": [
    "# Display"
   ]
  },
  {
   "cell_type": "markdown",
   "metadata": {},
   "source": [
    "The main visual element of the program is the rapid update of an image from the server.  Here we explore some options for updating in a notebook to see what performance we can get.  For demonstration purposes we update a random frame."
   ]
  },
  {
   "cell_type": "code",
   "execution_count": null,
   "metadata": {},
   "outputs": [],
   "source": [
    "import threading\n",
    "import time\n",
    "def run():\n",
    "    n = 1\n",
    "    while True:\n",
    "        print(n)\n",
    "        time.sleep(1)\n",
    "        n += 1\n",
    "t = threading.Thread(target=run)\n",
    "t.start()"
   ]
  },
  {
   "cell_type": "code",
   "execution_count": null,
   "metadata": {},
   "outputs": [],
   "source": [
    "t.join()"
   ]
  },
  {
   "cell_type": "code",
   "execution_count": null,
   "metadata": {
    "init_cell": true
   },
   "outputs": [
    {
     "data": {
      "application/javascript": [
       "\n",
       "IPython.OutputArea.prototype._should_scroll = function(lines) { return false; }\n"
      ],
      "text/plain": [
       "<IPython.core.display.Javascript object>"
      ]
     },
     "metadata": {},
     "output_type": "display_data"
    }
   ],
   "source": [
    "%%javascript\n",
    "\n",
    "IPython.OutputArea.prototype._should_scroll = function(lines) { return false; }"
   ]
  },
  {
   "cell_type": "code",
   "execution_count": null,
   "metadata": {},
   "outputs": [],
   "source": []
  },
  {
   "cell_type": "code",
   "execution_count": null,
   "metadata": {
    "init_cell": true
   },
   "outputs": [],
   "source": [
    "import io\n",
    "import time\n",
    "from PIL import Image\n",
    "import numpy as np\n",
    "from matplotlib import cm\n",
    "Nxy = (1280, 720)  # 720p resolution\n",
    "#Nxy = (512, 512)\n",
    "\n",
    "def get_data(t=None, Nxy=Nxy, t_=[0.0], dt=0.1):\n",
    "    Nx, Ny = Nxy\n",
    "    if t is None:\n",
    "        t_[0] += dt\n",
    "        t = t_[0]\n",
    "    x = np.linspace(-2,2,Nx)[:, None]\n",
    "    y = np.linspace(-2,2,Ny)[None, :]\n",
    "    n = np.exp(-x**2 - np.cos(np.log(1+t)*x)**2*(y**2 - np.sin(3*t)*x)**2)\n",
    "    return n\n",
    "    #data = cm.viridis(n, bytes=True)\n",
    "    #psi = np.random.random(Nxy + (2,)).view(dtype=complex).reshape(Nxy)-0.5-0.5j\n",
    "    #n = abs(psi)**2\n",
    "    return n/n.max()\n",
    "\n",
    "def data_to_rgba(data):\n",
    "    \"\"\"Convert the data to RGBA data\"\"\"\n",
    "    return cm.viridis(data.T, bytes=True)\n",
    "\n",
    "def rgba_to_png(rgba, size=None):\n",
    "    b = io.BytesIO()\n",
    "    img = Image.fromarray(rgba)\n",
    "    if size is not None:\n",
    "        img = img.resize(size)\n",
    "    img.save(b, 'PNG')\n",
    "    return b.getvalue()\n",
    "    \n",
    "def rgba_to_jpeg(rgba, size=None):\n",
    "    \"\"\"JPEG formatter, but discards alpha\"\"\"\n",
    "    b = io.BytesIO()\n",
    "    img = Image.fromarray(rgba[..., :3])\n",
    "    if size is not None:\n",
    "        img = img.resize(size)\n",
    "    img.save(b, 'JPEG')\n",
    "    return b.getvalue()\n",
    "\n",
    "def fps(f, N=10):\n",
    "    tic = time.time()\n",
    "    for n in range(N):\n",
    "        f()\n",
    "    toc = time.time()\n",
    "    fps = N/(toc-tic)\n",
    "    print(f\"{fps:.1f}fps\")\n",
    "    return fps"
   ]
  },
  {
   "cell_type": "code",
   "execution_count": null,
   "metadata": {},
   "outputs": [],
   "source": [
    "display(Image.fromarray(data_to_rgba(get_data())))\n",
    "\n",
    "print(\"data: \", end='');fps(lambda: get_data());\n",
    "print(\"rgba: \", end='');fps(lambda: data_to_rgba(get_data()));\n",
    "print(\"png: \", end='');fps(lambda: rgba_to_png(data_to_rgba(get_data())));\n",
    "print(\"jpeg: \", end='');fps(lambda: rgba_to_jpeg(data_to_rgba(get_data())));\n",
    "print(\"Image: \", end='');fps(lambda: Image.fromarray(data_to_rgba(get_data())));"
   ]
  },
  {
   "cell_type": "markdown",
   "metadata": {},
   "source": [
    "On my computer, generating random data at this resolution and converting it to an array for display is fast enough to get ~20fps.  Converting to an image with PNG is prohibatively slow, but JPEG is margina.  Now we look into displaying this."
   ]
  },
  {
   "cell_type": "markdown",
   "metadata": {},
   "source": [
    "## HTML5 Canvas"
   ]
  },
  {
   "cell_type": "markdown",
   "metadata": {},
   "source": [
    "Here is our custom HTML5 Canvas widget.  It is currently fast enough, though performance could probably be improved (at least with modern browsers that support ImageBitmaps)."
   ]
  },
  {
   "cell_type": "code",
   "execution_count": null,
   "metadata": {},
   "outputs": [],
   "source": []
  },
  {
   "cell_type": "code",
   "execution_count": null,
   "metadata": {},
   "outputs": [],
   "source": [
    "import mmf_setup.set_path.hgroot\n",
    "import ipywidgets as widgets\n",
    "from ipywidgets import Label, VBox, IntSlider\n",
    "from importlib import reload\n",
    "from super_hydro.client import canvas_widget;reload(canvas_widget)\n",
    "from super_hydro.contexts import NoInterrupt\n",
    "canvas_widget.display_js()   # Load javascript\n",
    "canvas = canvas_widget.Canvas()\n",
    "canvas.width = 500\n",
    "canvas.height = 0\n",
    "canvas.tracer_size = \"1\"\n",
    "proxy = 1\n",
    "\n",
    "canvas.fg_object = {\n",
    "    \"tracer\": [[\"tracer\", 1280, 720, 20, \"red\", 0.5, 0, 0],\n",
    "    [\"tracer\", 400, 50, 300, \"green\", 0.5, -1, 1]]\n",
    "}\n",
    "\n",
    "proxy_2 = canvas.fg_object\n",
    "\n",
    "msg = Label()\n",
    "display(VBox([canvas, msg]))\n",
    "\n",
    "with NoInterrupt() as interrupted:\n",
    "    tic = time.time()\n",
    "    toc = 0\n",
    "    frame = 0\n",
    "    while frame < 200 and not interrupted:\n",
    "        canvas.rgba = data_to_rgba(get_data())\n",
    "        toc = time.time()\n",
    "        frame += 1\n",
    "        proxy_2[\"tracer\"][0][1] -= 10\n",
    "        proxy_2[\"tracer\"][1][7] += 0.01\n",
    "        canvas.fg_object = proxy_2\n",
    "        proxy += 1\n",
    "        canvas.tracer_size = str(proxy)\n",
    "        msg.value = f\"{frame/(toc-tic):.2f}fps\"\n",
    "        "
   ]
  },
  {
   "cell_type": "code",
   "execution_count": null,
   "metadata": {},
   "outputs": [],
   "source": [
    "from super_hydro.client import canvas_widget;reload(canvas_widget)\n",
    "canvas_widget.display_js()   # Load javascript\n",
    "canvas = canvas_widget.Canvas()\n",
    "canvas.rgba = data_to_rgba(get_data())\n",
    "display(canvas)"
   ]
  },
  {
   "cell_type": "code",
   "execution_count": null,
   "metadata": {},
   "outputs": [],
   "source": [
    "print(canvas.fg_object[\"tracer\"][0][6])"
   ]
  },
  {
   "cell_type": "markdown",
   "metadata": {},
   "source": [
    "## Pillow"
   ]
  },
  {
   "cell_type": "markdown",
   "metadata": {},
   "source": [
    "Here is a straightfoward attempt with the pillow (PIL) library:"
   ]
  },
  {
   "cell_type": "code",
   "execution_count": null,
   "metadata": {},
   "outputs": [],
   "source": [
    "import time\n",
    "from mmf_setup.set_path import hgroot\n",
    "from super_hydro.contexts import NoInterrupt\n",
    "from PIL import Image\n",
    "from IPython.display import display, clear_output\n",
    "with NoInterrupt() as interrupted:\n",
    "    tic = time.time()\n",
    "    toc = 0\n",
    "    frame = 0\n",
    "    while frame < 10 and not interrupted:\n",
    "        display(Image.fromarray(data_to_rgba(get_data())))\n",
    "        toc = time.time()\n",
    "        frame += 1\n",
    "        clear_output(wait=True)\n",
    "    print(\"{:.2f}fps\".format(frame/(toc-tic)))"
   ]
  },
  {
   "cell_type": "markdown",
   "metadata": {},
   "source": [
    "Clearly this is too slow."
   ]
  },
  {
   "cell_type": "markdown",
   "metadata": {},
   "source": [
    "## IPyWidgets"
   ]
  },
  {
   "cell_type": "markdown",
   "metadata": {},
   "source": [
    "Using an image (the `PIL` or `pillow` library) is fast enough (~20fps using the JPEG format with a 512x512 grid).  As [mentioned in this blog](https://medium.com/@kostal91/displaying-real-time-webcam-stream-in-ipython-at-relatively-high-framerate-8e67428ac522), using a JPEG format is much faster than using PNG (though the alpha-channel must be dealt with.  Here we discard it since our data rarely uses it.)."
   ]
  },
  {
   "cell_type": "code",
   "execution_count": null,
   "metadata": {},
   "outputs": [],
   "source": [
    "import io\n",
    "class MyImage(object):\n",
    "    def __init__(self, data, size=None,\n",
    "                 fmt='PNG'):\n",
    "        self.data = data\n",
    "        if size is None:\n",
    "            size = data.shape[:2][::-1]  # Images are flipped\n",
    "        self.size = size\n",
    "        if fmt == 'PNG':\n",
    "            self._repr_png_ = self.__repr_png_\n",
    "        elif fmt == 'JPEG':\n",
    "            self._repr_jpeg_ = self.__repr_jpeg_\n",
    "        \n",
    "    @property\n",
    "    def _metadata(self):\n",
    "        return dict(width=f\"{self.size[0]:d}px\", \n",
    "                    height=f\"{self.size[1]:d}px\")\n",
    "    \n",
    "    def __repr_png_(self):\n",
    "        b = io.BytesIO()\n",
    "        img = Image.fromarray(self.data)\n",
    "        img = img.resize(self.size)\n",
    "        img.save(b, 'PNG')\n",
    "        return (b.getvalue(), self._metadata)\n",
    "    def __repr_jpeg_(self):\n",
    "        \"\"\"JPEG formatter, but discards alpha\"\"\"\n",
    "        b = io.BytesIO()\n",
    "        img = Image.fromarray(self.data[..., :3])\n",
    "        #img = img.resize(self.size)\n",
    "        img.save(b, 'JPEG')\n",
    "        return (b.getvalue(), self._metadata)\n",
    "MyImage(data_to_rgba(get_data()))"
   ]
  },
  {
   "cell_type": "markdown",
   "metadata": {},
   "source": [
    "Converting to PNG is too slow, converting to JPEG is marginally acceptable."
   ]
  },
  {
   "cell_type": "markdown",
   "metadata": {},
   "source": [
    "### Output"
   ]
  },
  {
   "cell_type": "markdown",
   "metadata": {},
   "source": [
    "Here we use the `Output` widget to capture the results of display.  This provides a marginally acceptable solution with a reasonable ~10fps framerate."
   ]
  },
  {
   "cell_type": "code",
   "execution_count": null,
   "metadata": {},
   "outputs": [],
   "source": [
    "import time\n",
    "import ipywidgets\n",
    "from ipywidgets import interact\n",
    "from super_hydro.contexts import NoInterrupt\n",
    "from IPython.display import display, clear_output\n",
    "from PIL import Image\n",
    "#frame = ipywidgets.\n",
    "#out = ipywidgets.Output(layout=dict(width=f'{Nxy[0]}px', \n",
    "#                                    height=f'{Nxy[1]+100}px'))\n",
    "out = ipywidgets.Output()\n",
    "inp = ipywidgets.IntSlider()\n",
    "msg = ipywidgets.Label()\n",
    "wid = ipywidgets.VBox([inp, out, msg])\n",
    "display(wid)\n",
    "tic = time.time()\n",
    "toc = 0\n",
    "frame = 0\n",
    "data = get_data()\n",
    "with out:\n",
    "    with NoInterrupt() as interrupted:        \n",
    "        while not interrupted:\n",
    "            data = data_to_rgba(get_data())\n",
    "            #img = Image.fromarray(data[..., :3])\n",
    "            myimg = MyImage(data, fmt='JPEG')#, size=(256,)*2)\n",
    "            display(myimg)\n",
    "            # The Output() widget allows you to print, but it is slightly\n",
    "            # faster to use a pre-defined Label()\n",
    "            # print(f\"{frame/(toc-tic):.2f}fps\")\n",
    "            msg.value = f\"{frame/(toc-tic):.2f}fps\"\n",
    "            toc = time.time()\n",
    "            frame += 1\n",
    "            clear_output(wait=True)"
   ]
  },
  {
   "cell_type": "markdown",
   "metadata": {},
   "source": [
    "This is a working demonstration with marginal performance characteristics."
   ]
  },
  {
   "cell_type": "markdown",
   "metadata": {},
   "source": [
    "### Image"
   ]
  },
  {
   "cell_type": "markdown",
   "metadata": {},
   "source": [
    "Here we try using the `Image` widget."
   ]
  },
  {
   "cell_type": "code",
   "execution_count": null,
   "metadata": {},
   "outputs": [],
   "source": [
    "import time\n",
    "import ipywidgets\n",
    "from ipywidgets import interact\n",
    "from super_hydro.contexts import NoInterrupt\n",
    "from IPython.display import display, clear_output\n",
    "from PIL import Image\n",
    "img = ipywidgets.Image(format='jpeg')#, width=2*256)\n",
    "inp = ipywidgets.IntSlider()\n",
    "msg = ipywidgets.Label()\n",
    "wid = ipywidgets.VBox([inp, img, msg])\n",
    "display(wid)\n",
    "tic = time.time()\n",
    "toc = 0\n",
    "frame = 0\n",
    "data = get_data()\n",
    "with NoInterrupt() as interrupted:        \n",
    "     while not interrupted:\n",
    "        data = data_to_rgba(get_data())\n",
    "        #img = Image.fromarray(data[..., :3])\n",
    "        img.value = MyImage(data, fmt='JPEG')._MyImage__repr_jpeg_()[0]\n",
    "        #display(myimg)\n",
    "        msg.value = \"{:.2f}fps\".format(frame/(toc-tic))\n",
    "        toc = time.time()\n",
    "        frame += 1\n",
    "        # clear_output(wait=True)"
   ]
  },
  {
   "cell_type": "markdown",
   "metadata": {},
   "source": [
    "# HTML5 Canvas"
   ]
  },
  {
   "cell_type": "markdown",
   "metadata": {},
   "source": [
    "Here are some references:\n",
    "\n",
    "* [Is `putImageData` faster than `drawImage`?](https://stackoverflow.com/questions/7721898/is-putimagedata-faster-than-drawimage)"
   ]
  },
  {
   "cell_type": "code",
   "execution_count": null,
   "metadata": {},
   "outputs": [],
   "source": [
    "%%html\n",
    "<style type=\"text/css\">\n",
    "    canvas {\n",
    "        border: 1px solid black;\n",
    "    }\n",
    "</style>\n",
    "<canvas></canvas>"
   ]
  },
  {
   "cell_type": "code",
   "execution_count": null,
   "metadata": {},
   "outputs": [],
   "source": [
    "from traitlets import Unicode, Bool, validate, TraitError, Instance, Int, Bytes\n",
    "from ipywidgets import DOMWidget, register\n",
    "from ipywidgets.widgets.trait_types import bytes_serialization\n",
    "\n",
    "\n",
    "@register\n",
    "class Canvas(DOMWidget):\n",
    "    _view_name = Unicode('CanvasView').tag(sync=True)\n",
    "    _view_module = Unicode('canvas_widget').tag(sync=True)\n",
    "    _view_module_version = Unicode('0.1.0').tag(sync=True)\n",
    " \n",
    "    _rgba_data = Bytes(help=\"RGBA image data\").tag(sync=True, **bytes_serialization)\n",
    "    _image_width = Int(help=\"Image width\").tag(sync=True)\n",
    "    _image_height = Int(help=\"Image height\").tag(sync=True)\n",
    "\n",
    "    # Attributes\n",
    "    width = Int(100, help=\"Width of canvas\").tag(sync=True)\n",
    "    height = Int(200, help=\"Height of canvas\").tag(sync=True)\n",
    "    \n",
    "    @property\n",
    "    def data(self):\n",
    "        return self._data\n",
    "\n",
    "    @data.setter\n",
    "    def data(self, data):\n",
    "        self._data = data\n",
    "        #self._compressed_data = rgba_to_jpeg(data_to_rgba(data))\n",
    "        self._image_width, self._image_height = data.shape[:2]\n",
    "        self._rgba_data = data_to_rgba(data).tobytes()"
   ]
  },
  {
   "cell_type": "code",
   "execution_count": null,
   "metadata": {},
   "outputs": [],
   "source": [
    "%%javascript\n",
    "require.undef('canvas_widget');\n",
    "\n",
    "define('canvas_widget', [\"@jupyter-widgets/base\"], function(widgets) {\n",
    "    \n",
    "    var CanvasView = widgets.DOMWidgetView.extend({\n",
    "\n",
    "        // Render the view.\n",
    "        render: function() {\n",
    "            this.canvas = document.createElement(\"canvas\");\n",
    "            this.ctx = this.canvas.getContext('2d');\n",
    "            this.canvas.width = this.model.get('width');\n",
    "            this.canvas.height = this.model.get('height');\n",
    "            this.el.appendChild(this.canvas);\n",
    "            this.update()\n",
    "\n",
    "            // Python -> JavaScript update\n",
    "            this.model.on('change:width', this.update, this);\n",
    "            this.model.on('change:height', this.update, this);\n",
    "            this.model.on('change:value', this.update, this);\n",
    "            \n",
    "            // JavaScript -> Python update\n",
    "            //this.value.onchange = this.value_changed.bind(this);\n",
    "        },\n",
    "\n",
    "        update: function() {\n",
    "            var options = {'type': 'image/jpeg'};\n",
    "            var _data = this.model.get('_rgba_data')\n",
    "            var _raw_data = new Uint8ClampedArray(_data.buffer);\n",
    "            var _width = this.model.get('_image_width');\n",
    "            //debugger;\n",
    "            this._image = new ImageData(_raw_data, _width);\n",
    "            requestAnimationFrame(this.draw.bind(this));\n",
    "            //this.draw();\n",
    "            //var blob = new Blob([this.model.get('_compressed_data')], options);\n",
    "            //var promise = createImageBitmap(blob);\n",
    "            //promise.then(this.draw.bind(this));\n",
    "        },\n",
    "        \n",
    "        draw: function() {\n",
    "            //debugger;\n",
    "            var image = this._image;\n",
    "            this.canvas.width = image.width;\n",
    "            this.canvas.height = image.height;\n",
    "            this.ctx.putImageData(image, 0, 0)\n",
    "            //this.ctx.drawImage(image, 0, 0);            \n",
    "        }\n",
    "    });\n",
    "\n",
    "    return {\n",
    "        CanvasView: CanvasView\n",
    "    };\n",
    "});"
   ]
  },
  {
   "cell_type": "code",
   "execution_count": null,
   "metadata": {},
   "outputs": [],
   "source": [
    "canvas = Canvas(data=get_data())\n",
    "canvas.data = get_data()\n",
    "display(canvas)"
   ]
  },
  {
   "cell_type": "code",
   "execution_count": null,
   "metadata": {},
   "outputs": [],
   "source": [
    "import time\n",
    "tic = time.time()\n",
    "for n in range(10):\n",
    "    canvas.data = get_data()\n",
    "10/(time.time() - tic)"
   ]
  },
  {
   "cell_type": "markdown",
   "metadata": {},
   "source": [
    "With this I can get 15+fps on Chrome (but it stalls on Safari)."
   ]
  },
  {
   "cell_type": "code",
   "execution_count": null,
   "metadata": {},
   "outputs": [],
   "source": [
    "import mmf_setup.set_path.hgroot\n",
    "from IPython.display import clear_output\n",
    "from super_hydro.contexts import NoInterrupt\n",
    "tic = time.time()\n",
    "frames = 0\n",
    "with NoInterrupt() as interrupted:\n",
    "    while not interrupted:\n",
    "        canvas.data = get_data()\n",
    "        frames += 1\n",
    "        toc = time.time()\n",
    "        display(frames/(toc-tic))\n",
    "        clear_output(wait=True)"
   ]
  },
  {
   "cell_type": "markdown",
   "metadata": {},
   "source": [
    "## Matplotlib"
   ]
  },
  {
   "cell_type": "markdown",
   "metadata": {},
   "source": [
    "Here are some miscellaneous Matplotlib tools.  This is too slow."
   ]
  },
  {
   "cell_type": "code",
   "execution_count": null,
   "metadata": {},
   "outputs": [],
   "source": [
    "import matplotlib.pyplot as plt\n",
    "import matplotlib.animation\n",
    "import numpy as np\n",
    "\n",
    "t = np.linspace(0,2*np.pi)\n",
    "x = np.sin(t)\n",
    "\n",
    "fig, ax = plt.subplots()\n",
    "ax.axis([0,2*np.pi,-1,1])\n",
    "l, = ax.plot([],[])\n",
    "\n",
    "def animate(i):\n",
    "    l.set_data(t[:i], x[:i])\n",
    "\n",
    "ani = matplotlib.animation.FuncAnimation(fig, animate, frames=len(t))\n",
    "\n",
    "from IPython.display import HTML\n",
    "display(HTML(ani.to_jshtml()))\n",
    "plt.close('all')"
   ]
  },
  {
   "cell_type": "code",
   "execution_count": null,
   "metadata": {},
   "outputs": [],
   "source": [
    "play = ipywidgets.Play(\n",
    "    interval=10,\n",
    "    value=50,\n",
    "    min=0,\n",
    "    max=10000,\n",
    "    step=1,\n",
    "    description=\"Press play\",\n",
    "    show_repeat=False,\n",
    "    disabled=False\n",
    ")\n",
    "\n",
    "def on_change(change):\n",
    "    print(change)\n",
    "\n",
    "play.observe(on_change, names=\"value\")\n",
    "\n",
    "slider = ipywidgets.IntSlider()\n",
    "ipywidgets.jslink((play, 'value'), (slider, 'value'))\n",
    "ipywidgets.HBox([play, slider])\n"
   ]
  },
  {
   "cell_type": "code",
   "execution_count": null,
   "metadata": {},
   "outputs": [],
   "source": [
    "play._playing = False"
   ]
  },
  {
   "cell_type": "code",
   "execution_count": null,
   "metadata": {},
   "outputs": [],
   "source": [
    "import ipywidgets\n",
    "import time\n",
    "import numpy as np\n",
    "\n",
    "play = ipywidgets.Play(\n",
    "    interval=200,\n",
    "    value=50,\n",
    "    min=0,\n",
    "    max=10,\n",
    "    step=1,\n",
    "    description=\"Press play\",\n",
    "    show_repeat=False,    \n",
    "    disabled=False\n",
    ")\n",
    "wid = ipywidgets.IntSlider()\n",
    "txt = ipywidgets.Label()\n",
    "display(ipywidgets.VBox([wid, txt, play]))\n",
    "\n",
    "def on_value_change(change):\n",
    "    play.value = play.value % play.max\n",
    "    wid.value += 1\n",
    "    txt.value = str(play.value)\n",
    "import traitlets\n",
    "play.observe(on_value_change, names=\"value\")"
   ]
  },
  {
   "cell_type": "code",
   "execution_count": null,
   "metadata": {},
   "outputs": [],
   "source": []
  },
  {
   "cell_type": "code",
   "execution_count": null,
   "metadata": {},
   "outputs": [],
   "source": [
    "Image"
   ]
  },
  {
   "cell_type": "code",
   "execution_count": null,
   "metadata": {},
   "outputs": [],
   "source": [
    "Image.fromarray(cm.viridis(np.random.random(Nxy), bytes=True))"
   ]
  },
  {
   "cell_type": "code",
   "execution_count": null,
   "metadata": {},
   "outputs": [],
   "source": [
    "%pylab inline --no-import-all\n",
    "#%pylab notebook --no-import-all\n",
    "#%matplotlib ipyml\n",
    "\n",
    "\n",
    "from matplotlib import cm\n",
    "Nxy = (1024//2, 1024//2)\n",
    "\n",
    "np.random.seed(2)\n",
    "def get_data(Nxy=Nxy):\n",
    "    \"\"\"Basic routine done on server to generate view data.\"\"\"\n",
    "    psi = np.random.random(Nxy + (2,)).view(dtype=complex).reshape(Nxy)-0.5-0.5j\n",
    "    n = abs(psi)**2\n",
    "    array = cm.viridis((n-n.min())/(n.max()-n.min()))\n",
    "    array *= int(255/array.max())  # normalize V0_values\n",
    "    data = array.astype(dtype='uint8')\n",
    "    return data"
   ]
  },
  {
   "cell_type": "code",
   "execution_count": null,
   "metadata": {},
   "outputs": [],
   "source": [
    "%timeit data = get_data()"
   ]
  },
  {
   "cell_type": "markdown",
   "metadata": {},
   "source": [
    "On my computer, this takes 64ms, meaning we should be able to get a 15fps frame-rate."
   ]
  },
  {
   "cell_type": "code",
   "execution_count": null,
   "metadata": {},
   "outputs": [],
   "source": [
    "import time\n",
    "from mmfutils.contexts import NoInterrupt\n",
    "from IPython.display import display, clear_output\n",
    "with NoInterrupt() as interrupted:\n",
    "    fig = plt.figure(figsize=(5, 5))\n",
    "    img = plt.imshow(get_data())\n",
    "    fig.canvas.draw()\n",
    "    tic = time.time()\n",
    "    toc = 0\n",
    "    frame = 0\n",
    "    #display(fig)\n",
    "    time.sleep(1)\n",
    "    while not interrupted:\n",
    "        img.set_data(get_data())\n",
    "        fig.canvas.draw()\n",
    "        #print(\"{:.2f}fps\".format(frame/(toc-tic)))\n",
    "        #clear_output(wait=True)\n",
    "        toc = time.time()\n",
    "        frame += 1"
   ]
  },
  {
   "cell_type": "code",
   "execution_count": null,
   "metadata": {},
   "outputs": [],
   "source": [
    "with NoInterrupt() as interrupted:\n",
    "    tic = time.time()\n",
    "    toc = 0\n",
    "    frame = 0\n",
    "    while not interrupted:\n",
    "        img.set_data(get_data())\n",
    "        fig.canvas.draw()\n",
    "        print(\"{:.2f}fps\".format(frame/(toc-tic)))\n",
    "        clear_output(wait=True)\n",
    "        toc = time.time()\n",
    "        frame += 1"
   ]
  },
  {
   "cell_type": "markdown",
   "metadata": {},
   "source": [
    "# FFT"
   ]
  },
  {
   "cell_type": "markdown",
   "metadata": {},
   "source": [
    "## Computing Currents"
   ]
  },
  {
   "cell_type": "markdown",
   "metadata": {},
   "source": [
    "To compute the flow velocity, we need:\n",
    "\n",
    "$$\n",
    "  \\newcommand{\\I}{\\mathrm{i}}\n",
    "  \\DeclareMathOperator{\\FT}{FT}\n",
    "  v_x = \\frac{1}{m}\\Re\\frac{-\\I\\hbar\\nabla_x \\psi}{\\psi}\n",
    "      = \\frac{\\hbar}{m}\\Re\\frac{\\FT^{-1}\\Bigl(k_x\\FT(\\psi)\\Bigr)}{\\psi}.\n",
    "$$\n",
    "\n",
    "We want to compute this in 2D as a complex number, so we really want:\n",
    "\n",
    "$$\n",
    "  v = v_x + \\I v_y.\n",
    "$$"
   ]
  },
  {
   "cell_type": "code",
   "execution_count": null,
   "metadata": {},
   "outputs": [],
   "source": [
    "%pylab inline\n",
    "Nx, Ny = Nxy = (32, 32)\n",
    "np.random.seed(1)\n",
    "y = np.random.random((Nx, Ny*2)).view(dtype=complex) - 0.5 - 0.5j\n",
    "kx, ky = ks = np.fft.fftfreq(Nx)[:, None], np.fft.fftfreq(Ny)[None, :]\n",
    "\n",
    "def j1(y, ks):\n",
    "    yt = np.fft.fftn(y)\n",
    "    return ((np.fft.ifftn(ks[0]*yt)/y).real +\n",
    "        +1j*(np.fft.ifftn(ks[1]*yt)/y).real)\n",
    "\n",
    "def j2(y, ks):\n",
    "    yt = np.fft.fftn(y)\n",
    "    res = (np.fft.ifftn([ks[0]*yt, ks[1]*yt], \n",
    "                        axes=(1,2))/y).real\n",
    "    return res[0] + 1j*res[1]\n",
    "\n",
    "np.allclose(j1(y, ks), j2(y, ks))\n",
    "%timeit j1(y, ks)\n",
    "%timeit j2(y, ks)"
   ]
  },
  {
   "cell_type": "code",
   "execution_count": null,
   "metadata": {},
   "outputs": [],
   "source": []
  }
 ],
 "metadata": {
  "celltoolbar": "Initialization Cell",
  "kernelspec": {
   "display_name": "Python [conda env:super_hydro]",
   "language": "python",
   "name": "conda-env-super_hydro-py"
  },
  "language_info": {
   "codemirror_mode": {
    "name": "ipython",
    "version": 3
   },
   "file_extension": ".py",
   "mimetype": "text/x-python",
   "name": "python",
   "nbconvert_exporter": "python",
   "pygments_lexer": "ipython3",
   "version": "3.7.3"
  },
  "toc": {
   "base_numbering": 1,
   "nav_menu": {},
   "number_sections": true,
   "sideBar": true,
   "skip_h1_title": false,
   "title_cell": "Table of Contents",
   "title_sidebar": "Contents",
   "toc_cell": false,
   "toc_position": {},
   "toc_section_display": true,
   "toc_window_display": true
  }
 },
 "nbformat": 4,
 "nbformat_minor": 2
}
