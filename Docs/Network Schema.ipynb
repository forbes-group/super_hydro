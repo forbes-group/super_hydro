{
 "cells": [
  {
   "cell_type": "markdown",
   "metadata": {},
   "source": [
    "# Network Schema"
   ]
  },
  {
   "cell_type": "markdown",
   "metadata": {},
   "source": [
    "Server:\n",
    "\n",
    "Loop:\n",
    "* Waits to receive a task\n",
    "* Interprets the received string, or the first X characters of that string, to determine what task to do\n",
    "* Performs the requested operations\n",
    "* Ends by sending either:\n",
    "\t* A requested data set\n",
    "\t* \"success\" if the operation was completed\n",
    "\t* \"ERROR\" if the received task was unable to be interpreted\n",
    "    \n",
    "Client:\n",
    "\n",
    "* Sends a string that defines what task to do, followed by any necessary data to complete that task.\n",
    "* Waits for a response from the server; checks if \"success\" or \"ERROR\" if not expecting a data set\n",
    "* Starts next task\n"
   ]
  },
  {
   "cell_type": "code",
   "execution_count": null,
   "metadata": {},
   "outputs": [],
   "source": []
  }
 ],
 "metadata": {
  "kernelspec": {
   "display_name": "Python [conda env:super_hydro]",
   "language": "python",
   "name": "conda-env-super_hydro-py"
  },
  "language_info": {
   "codemirror_mode": {
    "name": "ipython",
    "version": 3
   },
   "file_extension": ".py",
   "mimetype": "text/x-python",
   "name": "python",
   "nbconvert_exporter": "python",
   "pygments_lexer": "ipython3",
   "version": "3.7.3"
  },
  "toc": {
   "base_numbering": 1,
   "nav_menu": {},
   "number_sections": true,
   "sideBar": true,
   "skip_h1_title": false,
   "title_cell": "Table of Contents",
   "title_sidebar": "Contents",
   "toc_cell": false,
   "toc_position": {},
   "toc_section_display": true,
   "toc_window_display": false
  }
 },
 "nbformat": 4,
 "nbformat_minor": 2
}
