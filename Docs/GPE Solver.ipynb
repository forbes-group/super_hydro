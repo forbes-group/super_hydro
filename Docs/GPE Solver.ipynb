{
 "cells": [
  {
   "cell_type": "code",
   "execution_count": null,
   "metadata": {},
   "outputs": [],
   "source": [
    "import mmf_setup;mmf_setup.nbinit()"
   ]
  },
  {
   "cell_type": "markdown",
   "metadata": {},
   "source": [
    "$$\n",
    "  \\newcommand{\\I}{\\mathrm{i}}\n",
    "  \\I\\hbar \\dot{\\psi} = \\frac{-\\hbar^2\\nabla^2}{2m}\\psi + (gn - \\mu)\\psi\n",
    "$$\n",
    "\n",
    "Length Scales"
   ]
  },
  {
   "cell_type": "markdown",
   "metadata": {},
   "source": [
    "Phonon Dispersion:\n",
    "\n",
    "$$\n",
    "  \\psi = \\sqrt{n_0}e^{\\I \\hbar k} \\left(1 + u e^{\\I (qx - \\omega t)} + v^*e^{-\\I (qx - \\omega t)}\\right)\n",
    "$$\n"
   ]
  },
  {
   "cell_type": "markdown",
   "metadata": {},
   "source": [
    "Healing length $\\xi_h$:\n",
    "\n",
    "$$\n",
    "  \\frac{\\hbar^2}{2m\\xi_h^2} = gn_0\n",
    "$$\n"
   ]
  },
  {
   "cell_type": "markdown",
   "metadata": {},
   "source": [
    "# Split Operator"
   ]
  },
  {
   "cell_type": "markdown",
   "metadata": {},
   "source": [
    "$$\n",
    "  \\newcommand{\\d}{\\mathrm{d}}\n",
    "  \\I\\hbar \\dot{\\psi} = H[\\psi]\\psi = (T + V[\\psi])\\psi\\\\\n",
    "  \\d\\psi = \\frac{H\\psi}{\\I\\hbar}\\d{t}\\\\\n",
    "  \\psi(\\d{t}) \\approx e^{\\d{t} H/\\I\\hbar}\\psi(0)\n",
    "          = e^{\\d{t} (T + V)/\\I\\hbar}\\psi(0)\n",
    "          \\approx e^{\\d{t} T/\\I\\hbar}e^{\\d{t} V/\\I\\hbar}\\psi(0)\n",
    "          \\approx e^{\\d{t} T/2\\I\\hbar}e^{\\d{t} V/\\I\\hbar}e^{\\d{t} T/2\\I\\hbar}\\psi(0)\n",
    "$$\n",
    "\n",
    "$$\n",
    "  \\psi(t) = \\left(e^{\\d{t} T/2\\I\\hbar}e^{\\d{t} V/\\I\\hbar}e^{\\d{t} T/2\\I\\hbar}\\right)^{N=t/\\d{t}}\\psi(0)\n",
    "          = e^{\\d{t} T/2\\I\\hbar}e^{\\d{t} V\\I\\hbar}\\left(e^{\\d{t} T\\I\\hbar}e^{\\d{t} V/\\I\\hbar}\\right)^{N-1}e^{\\d{t} T/2\\I\\hbar}\\psi(0)\\\\\n",
    "          = e^{-\\d{t} T/2\\I\\hbar}\\left(e^{\\d{t} T\\I\\hbar}e^{\\d{t} V/\\I\\hbar}\\right)^{N}e^{\\d{t} T/2\\I\\hbar}\\psi(0)\n",
    "$$"
   ]
  },
  {
   "cell_type": "code",
   "execution_count": null,
   "metadata": {},
   "outputs": [],
   "source": [
    "%pylab inline --no-import-all\n",
    "from importlib import reload\n",
    "import gpe;reload(gpe)\n",
    "from gpe import State\n",
    "\n",
    "s = State()"
   ]
  },
  {
   "cell_type": "markdown",
   "metadata": {},
   "source": [
    "# Demonstration"
   ]
  },
  {
   "cell_type": "markdown",
   "metadata": {},
   "source": [
    "Here we demonstrate the code without interactions.  We just move the potential in a circle."
   ]
  },
  {
   "cell_type": "code",
   "execution_count": null,
   "metadata": {},
   "outputs": [],
   "source": [
    "%pylab inline --no-import-all\n",
    "from importlib import reload\n",
    "import gpe;reload(gpe)\n",
    "from gpe import State\n",
    "from IPython.display import display, clear_output\n",
    "s = State(Nxy=(32*2,32*2), test_finger=True, soc=True)\n",
    "kx = np.fft.fftshift(s.kxy[0].ravel())\n",
    "kx2 = np.fft.fftshift(s._kx2).ravel()\n",
    "plt.plot(kx, kx2)\n",
    "#plt.plot(kx, s.get_SOC_disp_x(kx))"
   ]
  },
  {
   "cell_type": "code",
   "execution_count": null,
   "metadata": {},
   "outputs": [],
   "source": [
    "#cooling_phase=1.0)\n",
    "for n in range(100):\n",
    "    s.step(100)\n",
    "    plt.clf()\n",
    "    s.plot()\n",
    "    display(plt.gcf())\n",
    "    clear_output(wait=True)"
   ]
  },
  {
   "cell_type": "code",
   "execution_count": null,
   "metadata": {},
   "outputs": [],
   "source": [
    "%timeit s.step(20, dt=0.1)"
   ]
  },
  {
   "cell_type": "code",
   "execution_count": null,
   "metadata": {},
   "outputs": [],
   "source": []
  },
  {
   "cell_type": "markdown",
   "metadata": {},
   "source": [
    "# SOC"
   ]
  },
  {
   "cell_type": "markdown",
   "metadata": {},
   "source": [
    "The SOC Hamiltonian is a matrix:\n",
    "\n",
    "$$\n",
    "  \\op{H} = \\begin{pmatrix}\n",
    "    \\frac{\\op{p}^2}{2m} + V + gn - \\mu - \\frac{\\delta}{2} & \\frac{\\Omega}{2}e^{2\\I k_R x}\\\\\n",
    "     \\frac{\\Omega}{2}e^{-2\\I k_R x} & \\frac{\\op{p}^2}{2m} + V + gn- \\mu + \\frac{\\delta}{2}\n",
    "  \\end{pmatrix}\n",
    "$$"
   ]
  },
  {
   "cell_type": "code",
   "execution_count": null,
   "metadata": {},
   "outputs": [],
   "source": []
  }
 ],
 "metadata": {
  "kernelspec": {
   "display_name": "Python 3",
   "language": "python",
   "name": "python3"
  },
  "language_info": {
   "codemirror_mode": {
    "name": "ipython",
    "version": 3
   },
   "file_extension": ".py",
   "mimetype": "text/x-python",
   "name": "python",
   "nbconvert_exporter": "python",
   "pygments_lexer": "ipython3",
   "version": "3.9.5"
  },
  "toc": {
   "base_numbering": 1,
   "nav_menu": {},
   "number_sections": true,
   "sideBar": true,
   "skip_h1_title": false,
   "title_cell": "Table of Contents",
   "title_sidebar": "Contents",
   "toc_cell": false,
   "toc_position": {},
   "toc_section_display": "block",
   "toc_window_display": false
  }
 },
 "nbformat": 4,
 "nbformat_minor": 1
}
