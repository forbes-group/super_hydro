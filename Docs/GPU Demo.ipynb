{
 "cells": [
  {
   "cell_type": "code",
   "execution_count": null,
   "metadata": {},
   "outputs": [],
   "source": [
    "import mmf_setup;mmf_setup.nbinit()\n",
    "%pylab inline --no-import-all\n",
    "from IPython.display import display, clear_output\n",
    "from mmfutils.contexts import NoInterrupt"
   ]
  },
  {
   "cell_type": "code",
   "execution_count": null,
   "metadata": {},
   "outputs": [],
   "source": [
    "from mmfutils.plot import imcontourf\n",
    "import gpe;reload(gpe)\n",
    "from gpe import State\n",
    "\n",
    "x = np.linspace(0,1,100)\n",
    "y = np.linspace(0,1,100)\n",
    "t = 0\n",
    "\n",
    "fig = plt.figure(figsize=(10,5))\n",
    "\n",
    "with NoInterrupt() as interrupted:\n",
    "    while not interrupted:\n",
    "        t += 0.1\n",
    "\n",
    "        plt.clf()\n",
    "        \n",
    "        n = np.sin(2*np.pi*(x[:,None] - t)+y[None,:]**2)\n",
    "        imcontourf(x, y, n)\n",
    "        #plt.plot(x, np.sin(2*np.pi*x-t))\n",
    "        \n",
    "        display(fig)\n",
    "        clear_output(wait=True)"
   ]
  },
  {
   "cell_type": "code",
   "execution_count": null,
   "metadata": {},
   "outputs": [],
   "source": []
  },
  {
   "cell_type": "code",
   "execution_count": null,
   "metadata": {},
   "outputs": [],
   "source": []
  },
  {
   "cell_type": "code",
   "execution_count": null,
   "metadata": {},
   "outputs": [],
   "source": []
  }
 ],
 "metadata": {
  "kernelspec": {
   "display_name": "Python [conda root]",
   "language": "python",
   "name": "conda-root-py"
  },
  "language_info": {
   "codemirror_mode": {
    "name": "ipython",
    "version": 3
   },
   "file_extension": ".py",
   "mimetype": "text/x-python",
   "name": "python",
   "nbconvert_exporter": "python",
   "pygments_lexer": "ipython3",
   "version": "3.7.0"
  }
 },
 "nbformat": 4,
 "nbformat_minor": 2
}
