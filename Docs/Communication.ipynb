{
 "cells": [
  {
   "cell_type": "markdown",
   "metadata": {},
   "source": [
    "# Serialization"
   ]
  },
  {
   "cell_type": "code",
   "execution_count": 26,
   "metadata": {},
   "outputs": [
    {
     "name": "stdout",
     "output_type": "stream",
     "text": [
      "21.4 µs ± 408 ns per loop (mean ± std. dev. of 7 runs, 10000 loops each)\n",
      "21.5 µs ± 551 ns per loop (mean ± std. dev. of 7 runs, 10000 loops each)\n"
     ]
    }
   ],
   "source": [
    "import numpy as np\n",
    "A = np.random.random((128, 128)) + 1j\n",
    "%timeit A.tostring()\n",
    "%timeit A.tobytes()"
   ]
  },
  {
   "cell_type": "code",
   "execution_count": 25,
   "metadata": {},
   "outputs": [
    {
     "name": "stdout",
     "output_type": "stream",
     "text": [
      "18.8 µs ± 323 ns per loop (mean ± std. dev. of 7 runs, 100000 loops each)\n",
      "1.59 µs ± 30.6 ns per loop (mean ± std. dev. of 7 runs, 1000000 loops each)\n",
      "1.18 µs ± 14.1 ns per loop (mean ± std. dev. of 7 runs, 1000000 loops each)\n"
     ]
    }
   ],
   "source": [
    "s = A.tobytes()\n",
    "B = np.frombuffer(A, dtype=complex).reshape(A.shape)\n",
    "C = np.frombuffer(s, dtype=complex).reshape(A.shape)\n",
    "assert np.allclose(A, C)\n",
    "assert np.allclose(A, B)\n",
    "\n",
    "%timeit np.frombuffer(A, dtype=complex).reshape(A.shape)\n",
    "%timeit np.frombuffer(s, dtype=complex).reshape(A.shape)\n",
    "\n"
   ]
  },
  {
   "cell_type": "markdown",
   "metadata": {},
   "source": [
    "# References"
   ]
  },
  {
   "cell_type": "markdown",
   "metadata": {},
   "source": [
    "* https://github.com/lebedov/msgpack-numpy"
   ]
  }
 ],
 "metadata": {
  "kernelspec": {
   "display_name": "Python [conda env:_tov]",
   "language": "python",
   "name": "conda-env-_tov-py"
  },
  "language_info": {
   "codemirror_mode": {
    "name": "ipython",
    "version": 3
   },
   "file_extension": ".py",
   "mimetype": "text/x-python",
   "name": "python",
   "nbconvert_exporter": "python",
   "pygments_lexer": "ipython3",
   "version": "3.6.6"
  },
  "toc": {
   "base_numbering": 1,
   "nav_menu": {},
   "number_sections": true,
   "sideBar": true,
   "skip_h1_title": false,
   "title_cell": "Table of Contents",
   "title_sidebar": "Contents",
   "toc_cell": false,
   "toc_position": {},
   "toc_section_display": true,
   "toc_window_display": false
  }
 },
 "nbformat": 4,
 "nbformat_minor": 2
}
