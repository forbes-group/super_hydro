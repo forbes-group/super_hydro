{
 "cells": [
  {
   "cell_type": "markdown",
   "metadata": {},
   "source": [
    "# Notebook Client"
   ]
  },
  {
   "cell_type": "markdown",
   "metadata": {},
   "source": [
    "# Demonstration"
   ]
  },
  {
   "cell_type": "code",
   "execution_count": null,
   "metadata": {},
   "outputs": [],
   "source": [
    "%%javascript\n",
    "IPython.OutputArea.prototype._should_scroll = function(lines) { return false; }"
   ]
  },
  {
   "cell_type": "code",
   "execution_count": null,
   "metadata": {},
   "outputs": [],
   "source": [
    "%pylab inline\n",
    "from mmf_setup.set_path import hgroot\n",
    "from importlib import reload\n",
    "from super_hydro.physics import helpers;reload(helpers)\n",
    "from super_hydro.physics import gpe;reload(gpe)\n",
    "from super_hydro.physics import gpe2;reload(gpe2)\n",
    "from super_hydro.contexts import NoInterrupt\n",
    "from super_hydro.server import server; reload(server)\n",
    "from super_hydro.client import notebook; reload(notebook); reload(notebook.widgets)\n",
    "\n",
    "notebook.run(model='gpe.BEC', Nx=256//4, Ny=256//4, cylinder=True)\n",
    "#notebook.run(model='gpe2.SOC2', Nx=256//4, Ny=256//4)\n",
    "#notebook.run(model='gpe.BEC', Nx=32, Ny=32)\n",
    "#notebook.run(run_server=False)"
   ]
  },
  {
   "cell_type": "code",
   "execution_count": null,
   "metadata": {},
   "outputs": [],
   "source": [
    "from mmf_setup.set_path import hgroot\n",
    "import io\n",
    "import numpy as np\n",
    "from ipywidgets import FloatSlider, Image\n",
    "import PIL.Image\n",
    "\n",
    "A = (np.random.random((100, 100, 3))*255).astype('uint8')\n",
    "img = PIL.Image.fromarray(A)\n",
    "b = io.BytesIO()\n",
    "img.save(b, 'jpeg')\n",
    "from super_hydro import widgets as w\n",
    "\n",
    "img = w.ipywidgets.Image(value=b.getvalue())\n",
    "img.layout.object_fit = 'scale_down'\n",
    "img.layout.width = \"100%\"\n",
    "img.layout.width = \"100%\"\n",
    "box = w.ipywidgets.Box([img])#, layout=dict(width='100%', height='100%'))\n",
    "w.VBox([\n",
    "    w.FloatSlider(),\n",
    "    w.HBox([\n",
    "        box,\n",
    "        w.FloatSlider(orientation='vertical'),\n",
    "])])"
   ]
  },
  {
   "cell_type": "code",
   "execution_count": null,
   "metadata": {},
   "outputs": [],
   "source": [
    "tic = time.perf_counter()\n",
    "time.sleep(0.1)\n",
    "time.perf_counter() - tic"
   ]
  },
  {
   "cell_type": "code",
   "execution_count": null,
   "metadata": {},
   "outputs": [],
   "source": [
    "app.run()"
   ]
  },
  {
   "cell_type": "markdown",
   "metadata": {},
   "source": [
    "# Design"
   ]
  },
  {
   "cell_type": "markdown",
   "metadata": {},
   "source": [
    "We base the notebook client on the [`IPyWidget`](https://ipywidgets.readthedocs.io/en/stable/) library.  This now has support on [Google's CoLaboratory]()"
   ]
  },
  {
   "cell_type": "markdown",
   "metadata": {},
   "source": [
    "This notebook provides a web-based client using matplotlib."
   ]
  },
  {
   "cell_type": "code",
   "execution_count": null,
   "metadata": {},
   "outputs": [],
   "source": [
    "%pylab inline\n",
    "from mmf_setup.set_path import hgroot\n",
    "from importlib import reload\n",
    "from super_hydro.client import notebook; reload(notebook);\n",
    "from super_hydro import widgets as w;reload(w)"
   ]
  },
  {
   "cell_type": "code",
   "execution_count": null,
   "metadata": {},
   "outputs": [],
   "source": [
    "import time\n",
    "def draw1(d):\n",
    "    IPython.display.display(PIL.Image.fromarray(d))\n",
    "\n",
    "fig = plt.figure()\n",
    "img = plt.imshow(d)\n",
    "\n",
    "\n",
    "def draw2(d):\n",
    "    img.set_data(d)\n",
    "    IPython.display.display(fig)\n",
    "\n",
    "\n",
    "    \n",
    "n = 0\n",
    "tic = time.time()\n",
    "while True:\n",
    "    draw2(d)\n",
    "    n += 1\n",
    "    print(\"{}fps\".format(n/(time.time()-tic)))\n",
    "    IPython.display.clear_output(wait=True)    "
   ]
  },
  {
   "cell_type": "code",
   "execution_count": null,
   "metadata": {},
   "outputs": [],
   "source": [
    "import IPython.display\n",
    "import PIL.Image\n",
    "from io import StringIO\n",
    "#Use 'jpeg' instead of 'png' (~5 times faster)\n",
    "def showarray(a, fmt='jpeg'):\n",
    "    f = StringIO()\n",
    "    PIL.Image.fromarray(a[..., :3]).save(f, fmt)\n",
    "    IPython.display.display(IPython.display.Image(data=f.getvalue()))\n",
    "showarray(d)"
   ]
  },
  {
   "cell_type": "code",
   "execution_count": null,
   "metadata": {},
   "outputs": [],
   "source": [
    "d3 = d[..., :3]\n",
    "from PIL import Image\n",
    "Image.fromarray(d)"
   ]
  },
  {
   "cell_type": "code",
   "execution_count": null,
   "metadata": {},
   "outputs": [],
   "source": [
    "d.shape"
   ]
  },
  {
   "cell_type": "code",
   "execution_count": null,
   "metadata": {},
   "outputs": [],
   "source": [
    "import PIL\n",
    "PIL.__version__"
   ]
  },
  {
   "cell_type": "code",
   "execution_count": null,
   "metadata": {},
   "outputs": [],
   "source": [
    "slider.trait_names()"
   ]
  },
  {
   "cell_type": "code",
   "execution_count": null,
   "metadata": {},
   "outputs": [],
   "source": [
    "import ipywidgets\n",
    "slider = ipywidgets.IntSlider(description=\"Hi\")\n",
    "wid = ipywidgets.VBox([slider])\n",
    "repr(wid)"
   ]
  },
  {
   "cell_type": "code",
   "execution_count": null,
   "metadata": {},
   "outputs": [],
   "source": [
    "import traitlets\n",
    "class IntSlider(ipywidgets.IntSlider):\n",
    "    name = traitlets.ObjectName().tag(sync=True)\n",
    "repr(IntSlider(name=\"a\"))"
   ]
  },
  {
   "cell_type": "code",
   "execution_count": null,
   "metadata": {},
   "outputs": [],
   "source": [
    "import ipywidgets\n",
    "all_widgets = []\n",
    "for _w in ipywidgets.__dict__:\n",
    "    w = getattr(ipywidgets, _w)\n",
    "    if isinstance(w, type) and issubclass(w, ipywidgets.CoreWidget):\n",
    "        all_widgets.append(_w)\n",
    "all_widgets"
   ]
  },
  {
   "cell_type": "code",
   "execution_count": null,
   "metadata": {},
   "outputs": [],
   "source": [
    "ipywidgets.VBox.__bases__[0].__bases__"
   ]
  },
  {
   "cell_type": "code",
   "execution_count": null,
   "metadata": {},
   "outputs": [],
   "source": [
    "import ipywidgets\n",
    "from super_hydro import widgets as w; reload(w)\n",
    "repr(w.Text())"
   ]
  },
  {
   "cell_type": "code",
   "execution_count": null,
   "metadata": {},
   "outputs": [],
   "source": [
    "layout = w.VBox([\n",
    "        w.FloatLogSlider(name='cooling',\n",
    "                         base=10, min=-10, max=1, step=0.2,\n",
    "                         description='Cooling'),\n",
    "        w.density])"
   ]
  },
  {
   "cell_type": "code",
   "execution_count": null,
   "metadata": {},
   "outputs": [],
   "source": [
    "layout.children"
   ]
  },
  {
   "cell_type": "markdown",
   "metadata": {},
   "source": [
    "# Event Loop"
   ]
  },
  {
   "cell_type": "markdown",
   "metadata": {},
   "source": [
    "## No Event Loop"
   ]
  },
  {
   "cell_type": "markdown",
   "metadata": {},
   "source": [
    "I have been having an issue with figuring out how to update the display with data from the server.  The simplest solution is to simply get data from the server, display it, then wait.  This, however, does not allow the user to update the controls.  (In the following example, the moving the slider does not change the value seen in python.)"
   ]
  },
  {
   "cell_type": "code",
   "execution_count": null,
   "metadata": {},
   "outputs": [],
   "source": [
    "import ipywidgets\n",
    "import time\n",
    "from super_hydro.contexts import NoInterrupt\n",
    "frame = 0\n",
    "_int = ipywidgets.IntSlider()\n",
    "_txt = ipywidgets.Label()\n",
    "_wid = ipywidgets.VBox([_int, _txt])\n",
    "display(_wid)\n",
    "with NoInterrupt() as interrupted:\n",
    "    while not interrupted:\n",
    "        frame += 1\n",
    "        _txt.value = str(f\"frame: {frame}, slider: {_int.value}\")\n",
    "        time.sleep(0.5)"
   ]
  },
  {
   "cell_type": "markdown",
   "metadata": {},
   "source": [
    "## Custom Event Loop"
   ]
  },
  {
   "cell_type": "markdown",
   "metadata": {},
   "source": [
    "We can implement a custom event loop as long as we ensure that we call `kernel.do_one_iteration()` enough times.  This will allow the widgets to work."
   ]
  },
  {
   "cell_type": "code",
   "execution_count": null,
   "metadata": {},
   "outputs": [],
   "source": [
    "ip.kernel._poll_interval"
   ]
  },
  {
   "cell_type": "code",
   "execution_count": null,
   "metadata": {},
   "outputs": [],
   "source": [
    "import IPython\n",
    "ip = IPython.get_ipython()\n",
    "import ipywidgets\n",
    "import time\n",
    "from mmf_setup.set_path import hgroot\n",
    "from super_hydro.contexts import NoInterrupt\n",
    "\n",
    "_int = ipywidgets.IntSlider()\n",
    "_txt = ipywidgets.Label()\n",
    "_wid = ipywidgets.VBox([_int, _txt])\n",
    "display(_wid)\n",
    "\n",
    "with NoInterrupt() as interrupted:\n",
    "    frame = 0\n",
    "    while not interrupted:\n",
    "        frame += 1\n",
    "        _txt.value = str(f\"frame: {frame}, slider: {_int.value}\")\n",
    "        for n in range(10):\n",
    "            ip.kernel.do_one_iteration()"
   ]
  },
  {
   "cell_type": "markdown",
   "metadata": {},
   "source": [
    "## Play"
   ]
  },
  {
   "cell_type": "markdown",
   "metadata": {},
   "source": [
    "One solution, is to use the `Play` widget, which sends update events as javascript messages.  There are several issues with this:\n",
    "\n",
    "1. All control of playback lies in the javascript.  The python kernel does not block, so there is no way to interrupt from the kernel.\n",
    "2. Infinite playback is not possible.\n",
    "3. Sometimes javascript messages get lost (try making the interval very small).\n",
    "4. Stop button and replay just change the counter.  This is not ideal in terms of control.\n",
    "5. Can't figure out how to autostart this."
   ]
  },
  {
   "cell_type": "code",
   "execution_count": null,
   "metadata": {},
   "outputs": [],
   "source": [
    "import ipywidgets\n",
    "ipywidgets.Widget.close_all()\n",
    "import time\n",
    "from super_hydro.contexts import NoInterrupt\n",
    "frame = 0\n",
    "_int = ipywidgets.IntSlider(description=\"interval\")\n",
    "_txt = ipywidgets.Label()\n",
    "_play = ipywidgets.Play(interval=1)\n",
    "_wid = ipywidgets.VBox([_int, _txt, _play])\n",
    "display(_wid)\n",
    "\n",
    "def update(change):\n",
    "    global frame, _txt, _int\n",
    "    frame += 1\n",
    "    _play.interval = _int.value\n",
    "    _txt.value = str(f\"frame: {frame}, slider: {_int.value}\")\n",
    "\n",
    "_play.observe(update, names=\"value\")"
   ]
  },
  {
   "cell_type": "markdown",
   "metadata": {},
   "source": [
    "## Threads"
   ]
  },
  {
   "cell_type": "markdown",
   "metadata": {},
   "source": [
    "One option for full control is to have the display updates run in a separate thread.  Then we can control this with buttons in the GUI, or allow the update to be driven by the server."
   ]
  },
  {
   "cell_type": "code",
   "execution_count": null,
   "metadata": {},
   "outputs": [],
   "source": [
    "import time\n",
    "import threading\n",
    "import ipywidgets\n",
    "ipywidgets.Widget.close_all()\n",
    "from super_hydro.contexts import NoInterrupt\n",
    "\n",
    "_int = ipywidgets.IntSlider(value=100, description=\"interval\")\n",
    "_running = ipywidgets.ToggleButton(value=True, icon='play', width=\"10px\")\n",
    "_txt = ipywidgets.Label()\n",
    "_play = ipywidgets.HBox([_running])\n",
    "_wid = ipywidgets.VBox([_int, _txt, _play])\n",
    "display(_wid)\n",
    "\n",
    "def update(display):\n",
    "    display.interval = _int.value\n",
    "    _txt.value = str(f\"frame: {display.frame}, slider: {_int.value}\")\n",
    "\n",
    "class Display(object):\n",
    "    def __init__(self, running, update):\n",
    "        self.interval = 1\n",
    "        self.running = running\n",
    "        self.update = update\n",
    "        self.frame = 0\n",
    "\n",
    "    def run(self):\n",
    "        while self.running.value:\n",
    "            self.frame += 1\n",
    "            self.update(self)\n",
    "            time.sleep(self.interval/1000)\n",
    "    \n",
    "disp = Display(running=_running, update=update)\n",
    "thread = threading.Thread(target=disp.run)\n",
    "thread.start()"
   ]
  },
  {
   "cell_type": "code",
   "execution_count": null,
   "metadata": {},
   "outputs": [],
   "source": [
    "import ipywidgets\n",
    "import numpy as np\n",
    "from matplotlib import cm\n",
    "import PIL.Image\n",
    "data = cm.viridis(np.random.random((32,32)), bytes=True)\n",
    "img = PIL.Image.fromarray(data)\n",
    "ipywidgets.Image(value=img._repr_png_(), format='png')\n"
   ]
  },
  {
   "cell_type": "code",
   "execution_count": null,
   "metadata": {},
   "outputs": [],
   "source": [
    "%pylab inline\n",
    "from IPython.display import clear_output\n",
    "import PIL\n",
    "import time\n",
    "import ipywidgets as w\n",
    "from matplotlib import cm\n",
    "Nxy = (64*4, 64*4)\n",
    "data = np.random.seed(2)\n",
    "N = w.IntSlider(min=2, max=256, step=1)\n",
    "out = w.Output()\n",
    "msg = w.Text(value=\"Hi\")\n",
    "display(w.VBox([N, out, msg]))\n",
    "with out:\n",
    "  tic = time.time()\n",
    "  for _n in range(100):\n",
    "    data = np.random.random(Nxy)\n",
    "    img = PIL.Image.fromarray(cm.viridis(data, bytes=True))\n",
    "    clear_output(wait=True)\n",
    "    display(img)\n",
    "    msg.value = f\"fps={_n/(time.time()-tic)}\"\n",
    "\n",
    "#i = w.Image(value=img._repr_png_(), format='png')"
   ]
  },
  {
   "cell_type": "code",
   "execution_count": null,
   "metadata": {},
   "outputs": [],
   "source": [
    "l = w.Label(value=\"Hi\")"
   ]
  },
  {
   "cell_type": "code",
   "execution_count": null,
   "metadata": {},
   "outputs": [],
   "source": [
    "import ipywidgets\n",
    "ipywidgets.__version__"
   ]
  },
  {
   "cell_type": "code",
   "execution_count": null,
   "metadata": {},
   "outputs": [],
   "source": [
    "l = ipywidgets.Label(value=\"Hi\")\n",
    "l.trait_names()\n",
    "import IPython, zmq\n",
    "IPython.__version__, zmq.__version__"
   ]
  },
  {
   "cell_type": "code",
   "execution_count": null,
   "metadata": {},
   "outputs": [],
   "source": [
    "import ipywidgets\n",
    "l = ipywidgets.Label(value=\"Hi\")\n",
    "import trace, sys\n",
    "tracer = trace.Trace(\n",
    "    #ignoredirs=[sys.prefix, sys.exec_prefix],\n",
    "    trace=1,\n",
    "    count=0)\n",
    "tracer.run('ipywidgets.Label(value=\"Hi\")')"
   ]
  },
  {
   "cell_type": "markdown",
   "metadata": {},
   "source": [
    "# Canvas"
   ]
  },
  {
   "cell_type": "markdown",
   "metadata": {},
   "source": [
    "[Jupyter Canvas Widget](https://github.com/Who8MyLunch/Jupyter_Canvas_Widget)"
   ]
  },
  {
   "cell_type": "code",
   "execution_count": null,
   "metadata": {},
   "outputs": [],
   "source": [
    "import numpy as np\n",
    "N = 512\n",
    "As = (np.random.random((10, N, N, 4))*255).astype(int)\n",
    "As[..., 3] = 255"
   ]
  },
  {
   "cell_type": "code",
   "execution_count": null,
   "metadata": {},
   "outputs": [],
   "source": [
    "from mmf_setup.set_path import hgroot\n",
    "import numpy as np\n",
    "import ipywidgets\n",
    "import IPython\n",
    "import jpy_canvas\n",
    "import time\n",
    "\n",
    "from super_hydro.contexts import NoInterrupt\n",
    "canvas = jpy_canvas.Canvas(data=As[0])\n",
    "fps = ipywidgets.Label()\n",
    "display(ipywidgets.VBox([canvas, fps]))\n",
    "tic = time.time()\n",
    "frame = 0\n",
    "with NoInterrupt() as interrupted:\n",
    "    for A in As:\n",
    "        if interrupted:\n",
    "            break\n",
    "        #A = np.random.random((N, N, 3))\n",
    "        canvas.data = A\n",
    "        toc = time.time()\n",
    "        frame += 1\n",
    "        fps.value = f\"{frame/(toc-tic)}\""
   ]
  },
  {
   "cell_type": "code",
   "execution_count": null,
   "metadata": {},
   "outputs": [],
   "source": [
    "%pylab inline\n",
    "from mmf_setup.set_path import hgroot\n",
    "import numpy as np\n",
    "import ipywidgets\n",
    "import IPython\n",
    "import fastcanvas\n",
    "import time\n",
    "\n",
    "N = 512\n",
    "from super_hydro.contexts import NoInterrupt\n",
    "As = (np.random.random((10, N, N, 4)) * 255).astype('uint8')\n",
    "As[..., 3] = 255\n",
    "canvas = fastcanvas.RawCanvas(data=As[0])\n",
    "fps = ipywidgets.Label()\n",
    "display(ipywidgets.VBox([canvas, fps]))\n",
    "tic = time.time()\n",
    "frame = 0\n",
    "with NoInterrupt() as interrupted:\n",
    "    for A in As:\n",
    "        if interrupted:\n",
    "            break\n",
    "        #A = np.random.random((N, N, 3))\n",
    "        canvas.data = A\n",
    "        time.sleep(0.05)\n",
    "        toc = time.time()\n",
    "        frame += 1\n",
    "        fps.value = f\"{frame/(toc-tic)}\"\n",
    "print(time.time() - tic)"
   ]
  },
  {
   "cell_type": "code",
   "execution_count": null,
   "metadata": {},
   "outputs": [],
   "source": [
    "import math\n",
    "\n",
    "cv2 = fastcanvas.RawCanvas()\n",
    "\n",
    "def gaussian(x, a, b, c, d=0):\n",
    "    return a * math.exp(-(x - b)**2 / (2 * c**2)) + d\n",
    "\n",
    "height = 100\n",
    "width = 600\n",
    "\n",
    "gradient = np.zeros((height, width, 4), dtype='uint8')\n",
    "\n",
    "for x in range(gradient.shape[1]):\n",
    "    r = int(gaussian(x, 158.8242, 201, 87.0739) + gaussian(x, 158.8242, 402, 87.0739))\n",
    "    g = int(gaussian(x, 129.9851, 157.7571, 108.0298) + gaussian(x, 200.6831, 399.4535, 143.6828))\n",
    "    b = int(gaussian(x, 231.3135, 206., 201.5447) + gaussian(x, 17.1017, 395.8819, 39.3148))\n",
    "    for y in range(gradient.shape[0]):\n",
    "        gradient[y, x, :] = r, g, b, 255\n",
    "\n",
    "cv2.data = gradient\n",
    "cv2"
   ]
  },
  {
   "cell_type": "markdown",
   "metadata": {},
   "source": [
    "# Density Widget"
   ]
  },
  {
   "cell_type": "code",
   "execution_count": null,
   "metadata": {},
   "outputs": [],
   "source": [
    "from density_widget import example\n",
    "example.HelloWorld()"
   ]
  },
  {
   "cell_type": "code",
   "execution_count": null,
   "metadata": {},
   "outputs": [],
   "source": []
  }
 ],
 "metadata": {
  "kernelspec": {
   "display_name": "Python [conda env:super-hydro]",
   "language": "python",
   "name": "conda-env-super-hydro-py"
  },
  "language_info": {
   "codemirror_mode": {
    "name": "ipython",
    "version": 3
   },
   "file_extension": ".py",
   "mimetype": "text/x-python",
   "name": "python",
   "nbconvert_exporter": "python",
   "pygments_lexer": "ipython3",
   "version": "3.7.3"
  },
  "toc": {
   "base_numbering": 1,
   "nav_menu": {},
   "number_sections": true,
   "sideBar": true,
   "skip_h1_title": false,
   "title_cell": "Table of Contents",
   "title_sidebar": "Contents",
   "toc_cell": false,
   "toc_position": {},
   "toc_section_display": true,
   "toc_window_display": true
  }
 },
 "nbformat": 4,
 "nbformat_minor": 2
}
