{
 "cells": [
  {
   "cell_type": "markdown",
   "metadata": {
    "toc": true
   },
   "source": [
    "<h1>Table of Contents<span class=\"tocSkip\"></span></h1>\n",
    "<div class=\"toc\"><ul class=\"toc-item\"><li><span><a href=\"#Architecture\" data-toc-modified-id=\"Architecture-1\"><span class=\"toc-item-num\">1&nbsp;&nbsp;</span>Architecture</a></span><ul class=\"toc-item\"><li><span><a href=\"#Name:-&quot;super_hydro&quot;\" data-toc-modified-id=\"Name:-&quot;super_hydro&quot;-1.1\"><span class=\"toc-item-num\">1.1&nbsp;&nbsp;</span>Name: \"super_hydro\"</a></span></li></ul></li><li><span><a href=\"#Configuration\" data-toc-modified-id=\"Configuration-2\"><span class=\"toc-item-num\">2&nbsp;&nbsp;</span>Configuration</a></span></li><li><span><a href=\"#Communication\" data-toc-modified-id=\"Communication-3\"><span class=\"toc-item-num\">3&nbsp;&nbsp;</span>Communication</a></span></li><li><span><a href=\"#Logging\" data-toc-modified-id=\"Logging-4\"><span class=\"toc-item-num\">4&nbsp;&nbsp;</span>Logging</a></span></li><li><span><a href=\"#References\" data-toc-modified-id=\"References-5\"><span class=\"toc-item-num\">5&nbsp;&nbsp;</span>References</a></span></li></ul></div>"
   ]
  },
  {
   "cell_type": "markdown",
   "metadata": {},
   "source": [
    "# Architecture"
   ]
  },
  {
   "cell_type": "markdown",
   "metadata": {},
   "source": [
    "Here we describe our basic architecture of our application, including configuration and communication protocols.  Our application consists of a server and multiple clients.  The server performs the computation, while the clients display the results and provide real-time inputs and controls.\n",
    "\n",
    "For stability, we use [ØMQ] via the [pyzmq](https://pyzmq.readthedocs.io/en/latest/) library to implement the base level communication layer and define a simple protocol.\n",
    "\n",
    "[ØMQ]: http://zeromq.org"
   ]
  },
  {
   "cell_type": "markdown",
   "metadata": {},
   "source": [
    "## Name: \"super_hydro\""
   ]
  },
  {
   "cell_type": "markdown",
   "metadata": {},
   "source": [
    "As of 9 September 2018, there are only 69 matches on Google for the search term [\"super_hydro\"](https://www.google.com/search?q=%22super_hydro%22) (with quotes) and most are squirreled away (email addresses, etc.)  This seems like a safe choice for a project name.  For comparison [\"SuperHydro\"](https://www.google.com/search?q=%22SuperHydro%22) returned about 21k matches.\n",
    "\n",
    "* Environment variables will be prefixed with `SUPER_HYDRO_` to minimize conflicts.\n",
    "* The main module is `super_hydro`.\n",
    "* Config files will use `super_hydro`."
   ]
  },
  {
   "cell_type": "markdown",
   "metadata": {},
   "source": [
    "# Configuration"
   ]
  },
  {
   "cell_type": "markdown",
   "metadata": {},
   "source": [
    "Configuration takes place in several layers.  From lowest to highest precedence, we have:\n",
    "\n",
    "1. Defaults hard-coded into the program.\n",
    "2. Environmental variables.\n",
    "3. Configuration files.\n",
    "4. Command-line options.\n",
    "\n",
    "The [ConfigArgParse](https://github.com/bw2/ConfigArgParse) library seems to provide this behavior out of the box, so we start with this.  A couple of comments:\n",
    "\n",
    "* Options with a long name `--option` can be set in a config file with the same name.\n",
    "* Options without `-` or `--` are positional.\n",
    "* Sections are not used (by design) but can be included as comments in the config files.\n",
    "\n",
    "Configuration options are specified in the [`super_hydro/config.py`](/edit/super_hydro/config.py) file which reads these from various config files (`~/.config/super_hydro.conf` or `./super_hydro.conf` preferred), environment variables, or command-line arguments."
   ]
  },
  {
   "cell_type": "markdown",
   "metadata": {},
   "source": [
    "*An alternative [strategy suggested by Von Welch](http://blog.vwelch.com/2011/04/combining-configparser-and-argparse.html) combines [`configparser`](https://docs.python.org/3/library/configparser.html) for reading the config files with [`argparse`](https://docs.python.org/3/library/argparse.html) for processing the command line.*"
   ]
  },
  {
   "cell_type": "markdown",
   "metadata": {},
   "source": [
    "To configure the communication layer, the server must have an IP address (URL) specifying where it is located, and a port on which it listens for connections.  These are specified in the application config file."
   ]
  },
  {
   "cell_type": "markdown",
   "metadata": {},
   "source": [
    "# Communication"
   ]
  },
  {
   "cell_type": "markdown",
   "metadata": {},
   "source": [
    "To simplify communication we use [ØMQ] via the [pyzmq](https://pyzmq.readthedocs.io/en/latest/) library to implement the base level communication layer and define a simple protocol through `Client` and `Server` classes in [`super_hydro/communication.py`](/edit/super_hydro/communication.py).  Clients can issue the following commands to the server:\n",
    "\n",
    "* `obj = get(msg)`: This requests data from the server and will return the object sent back by the server.\n",
    "* `request(msg)`: This asks the server to do something but does not request data from the server.\n",
    "* `send(msg, obj)`: This will send data to the server.\n",
    "\n",
    "Note: all messages should be byte objects, not strings (i.e. `msg=b\"Window.size\"` not `msg=\"Window.size\"`).\n",
    "\n",
    "Data (`obj`s) are serialized using `json.dumps(obj).encode()` and deserialized by `json.loads(msg.decode())`.\n",
    "\n",
    "[ØMQ]: http://zeromq.org"
   ]
  },
  {
   "cell_type": "markdown",
   "metadata": {},
   "source": [
    "Currently the code employs the `zmq.REQ` (Server) and `zmq.REP` (Client) socket types for which each message requires a send and receive.  This is simply [described here](https://learning-0mq-with-pyzmq.readthedocs.io/en/latest/pyzmq/patterns/client_server.html) but may not allow multiple clients to connect to the server.  (It definitely allows a client to connect with multiple servers, but this is not the pattern we want.)"
   ]
  },
  {
   "cell_type": "code",
   "execution_count": 26,
   "metadata": {},
   "outputs": [
    {
     "name": "stdout",
     "output_type": "stream",
     "text": [
      "21.4 µs ± 408 ns per loop (mean ± std. dev. of 7 runs, 10000 loops each)\n",
      "21.5 µs ± 551 ns per loop (mean ± std. dev. of 7 runs, 10000 loops each)\n"
     ]
    }
   ],
   "source": [
    "import numpy as np\n",
    "A = np.random.random((128, 128)) + 1j\n",
    "%timeit A.tostring()\n",
    "%timeit A.tobytes()"
   ]
  },
  {
   "cell_type": "code",
   "execution_count": 25,
   "metadata": {},
   "outputs": [
    {
     "name": "stdout",
     "output_type": "stream",
     "text": [
      "18.8 µs ± 323 ns per loop (mean ± std. dev. of 7 runs, 100000 loops each)\n",
      "1.59 µs ± 30.6 ns per loop (mean ± std. dev. of 7 runs, 1000000 loops each)\n",
      "1.18 µs ± 14.1 ns per loop (mean ± std. dev. of 7 runs, 1000000 loops each)\n"
     ]
    }
   ],
   "source": [
    "s = A.tobytes()\n",
    "B = np.frombuffer(A, dtype=complex).reshape(A.shape)\n",
    "C = np.frombuffer(s, dtype=complex).reshape(A.shape)\n",
    "assert np.allclose(A, C)\n",
    "assert np.allclose(A, B)\n",
    "\n",
    "%timeit np.frombuffer(A, dtype=complex).reshape(A.shape)\n",
    "%timeit np.frombuffer(s, dtype=complex).reshape(A.shape)\n",
    "\n"
   ]
  },
  {
   "cell_type": "markdown",
   "metadata": {},
   "source": [
    "# Logging"
   ]
  },
  {
   "cell_type": "markdown",
   "metadata": {},
   "source": [
    "Logging is currently done through the [`logging`](https://docs.python.org/3/library/logging.html) module through the `Logger` class in [`super_hydro/utils.py`](/edit/super_hydro/utils.py).  Two mechanisms are provided in the code:\n",
    "\n",
    "* Output a message at a specified logging level (default is INFO):\n",
    "\n",
    "  ```python\n",
    "  log(msg, level=logging.INFO)\n",
    "  ```\n",
    "  \n",
    "* Frame a task with messages at the start and end with a specified logging level:\n",
    "\n",
    "  ```python\n",
    "  with log_task(msg, level=logging.INFO):\n",
    "      ...\n",
    "  ```\n",
    "\n",
    "For the clients, we might want to use the logging facilities of the front end."
   ]
  },
  {
   "cell_type": "markdown",
   "metadata": {},
   "source": [
    "# References"
   ]
  },
  {
   "cell_type": "markdown",
   "metadata": {},
   "source": [
    "* [Which is the best way to allow configuration options be overridden at the command line in Python?\n",
    "](https://stackoverflow.com/questions/3609852/which-is-the-best-way-to-allow-configuration-options-be-overridden-at-the-comman/5826167)\n",
    "* https://github.com/lebedov/msgpack-numpy"
   ]
  }
 ],
 "metadata": {
  "kernelspec": {
   "display_name": "Python [conda env:_superhydro]",
   "language": "python",
   "name": "conda-env-_superhydro-py"
  },
  "language_info": {
   "codemirror_mode": {
    "name": "ipython",
    "version": 3
   },
   "file_extension": ".py",
   "mimetype": "text/x-python",
   "name": "python",
   "nbconvert_exporter": "python",
   "pygments_lexer": "ipython3",
   "version": "3.7.0"
  },
  "toc": {
   "base_numbering": 1,
   "nav_menu": {},
   "number_sections": true,
   "sideBar": true,
   "skip_h1_title": false,
   "title_cell": "Table of Contents",
   "title_sidebar": "Contents",
   "toc_cell": true,
   "toc_position": {},
   "toc_section_display": true,
   "toc_window_display": true
  }
 },
 "nbformat": 4,
 "nbformat_minor": 2
}
