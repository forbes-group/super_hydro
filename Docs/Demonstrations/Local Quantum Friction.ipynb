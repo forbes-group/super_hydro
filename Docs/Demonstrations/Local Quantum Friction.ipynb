{
 "cells": [
  {
   "cell_type": "markdown",
   "metadata": {},
   "source": [
    "# Local Quantum Friction"
   ]
  },
  {
   "cell_type": "markdown",
   "metadata": {},
   "source": [
    "## Introduction\n",
    "\n",
    "A common problem with both simulations and experiments is to prepare a quantum system in the ground state.  Experimentally one can usually obtain a good approximation of the ground state by allowing high-energy particles to evaporate at the cost of losing particles.  (The real problem is when one wants to prepare a ground state with a single particle.)  Here we discuss a particular technique useful for finding the ground state of quantum simulations suitable for application to large systems that require high-performance computing (HPC) clusters.\n",
    "\n",
    "## Fermionic DFT\n",
    "\n",
    "With simulations, one has a variety of techniques, but with varying computational cost.  The motivation for the method described here is that of finding the ground state in a systems of fermions using density functional theory (DFT).  The state of a fermionic DFT consists of a set of single-particle states $\\psi = \\{\\psi_n\\}$.  Each of these single-particle states $\\psi_n$ must be orthogonal to each of the others to ensure that the Pauli exclusion principle is satisfied.  (The physical state used in the DFT is a Slater determinant of these \"orbitals\".)  The challend is that, for larger systems, these states can comprise terrabytes of data, and must be distributed over a HPC cluster.  Most of the minimization techniques destroy the orthogonality of these single-particle states, requireing continual reorthogonalization (i.e. via the Gram-Schmidt process) which communication between all of the compute nodes.  Communication is one of the slowest aspects of computing on a cluster, and this communication effectively prohibits the application of standard minimization techniques for large systems.\n",
    "\n",
    "In contrast, real-time evolution by applying the Hamiltonian can be efficiently implemented efficiently.  Such evolution \n",
    "\n",
    "$$\n",
    "  \\newcommand{\\I}{\\mathrm{i}}\n",
    "  \\newcommand{\\d}{\\mathrm{d}}\n",
    "  \\newcommand{\\vect}[1]{\\vec{#1}}\n",
    "  \\newcommand{\\op}[1]{\\hat{#1}}\n",
    "  \\newcommand{\\abs}[1]{\\lvert#1\\rvert}\n",
    "  \\newcommand{\\pdiff}[2]{\\frac{\\partial #1}{\\partial #2}}\n",
    "  \\newcommand{\\ket}[1]{\\lvert#1\\rangle}\n",
    "  \\newcommand{\\bra}[1]{\\langle#1\\rvert}\n",
    "  \\newcommand{\\braket}[1]{\\langle#1\\rangle}\n",
    "  \\DeclareMathOperator{\\Tr}{Tr}\n",
    "  \\I \\hbar\\pdiff{\\psi_n}{t} = \\op{H}\\psi_n.\n",
    "$$\n",
    "\n",
    "requires communicating the same Hamiltonian $\\op{H}[\\{\\psi_n\\}]$ to each of the nodes, but this typically only requires sending the effective potential - the equivalent of a single wavefunction of information - to each of the nodes which is feasible for large states.  (Technically, this is computed by a single reduce operation over the cluster.)\n",
    "\n",
    "The method of local quantum friction discussed here provides real-time evolution with a modified Hamiltonian $\\op{H}_f$ so as to remove energy from the system while maintaining orthonormality of the single-particle states.  We shall demonstrate this technique here using bosons simulated with the GPE.  Since the bosonic DFT depends on a single wavefunction (sometimes called an \"orbital free\" DFT), one has access to the other techniques, but we proceed keeping the fermionic example in mind."
   ]
  },
  {
   "cell_type": "markdown",
   "metadata": {},
   "source": [
    "## Formulation"
   ]
  },
  {
   "cell_type": "markdown",
   "metadata": {},
   "source": [
    "Consider the GPE: the ground state can be defined as a constrained variation of an energy functional $E[\\psi]$ while fixing the particle number $N[\\psi]$.  The variational condition defines the time-evolution of the system:\n",
    "\n",
    "$$\n",
    "  \\I \\hbar\\pdiff{\\psi}{t} \n",
    "  = (\\op{H}[\\psi] - \\mu)\\psi\n",
    "  = \\pdiff{(E[\\psi] - \\mu N[\\psi])}{\\psi^\\dagger},\\\\\n",
    "  E[\\psi] = \\int \\d^3\\vect{x}\\left(\n",
    "    \\frac{\\hbar^2\\abs{\\vect{\\nabla}\\psi}^2}{2m} \n",
    "    + \\frac{g}{2}n^2(\\vect{x})\n",
    "    + V(\\vect{x})n(\\vect{x})\n",
    "  \\right),\n",
    "  \\qquad\n",
    "  N[\\psi] = \\int \\d^3{x}\\; n(\\vect{x}),\\\\\n",
    "  n(\\vect{x}) = \\abs{\\psi(\\vect{x})}^2.\n",
    "$$\n",
    "\n",
    "This gives rise to the usual GPE effective Hamiltonian:\n",
    "\n",
    "$$\n",
    "  \\op{H}[\\psi] = \\frac{-\\hbar^2\\nabla^2}{2m} + gn(\\vect{x}) + V(\\vect{x}).\n",
    "$$"
   ]
  },
  {
   "cell_type": "markdown",
   "metadata": {},
   "source": [
    "### Imaginary Time Cooling"
   ]
  },
  {
   "cell_type": "markdown",
   "metadata": {},
   "source": [
    "The most straight-forward approach to the minimization problem is the method of steepest descent - going downhill:\n",
    "\n",
    "$$\n",
    "  \\d \\psi \\propto -\\pdiff{E[\\psi]}{\\psi^\\dagger} \\propto - \\op{H}\\psi.\n",
    "$$\n",
    "\n",
    "*Note: There is a slight subtlety here since we are minimizing a function of a complex field $\\psi$.  A careful treatment breaking $\\psi$ into real and imaginary parts coupled with the fact that the energy is a real symmetric function $E[\\psi^\\dagger, \\psi] = E[\\psi, \\psi^\\dagger]$ shows that $\\d{\\psi} \\propto -\\partial{E}/\\partial{\\psi^\\dagger}$ indeed gives the correct descent diretion.*\n",
    "\n",
    "Thus, we can implement a continuous gradient descent if we evolve\n",
    "\n",
    "$$\n",
    "  \\hbar\\pdiff{\\psi}{\\tau} = - \\op{H}\\psi = - \\I\\hbar \\pdiff{\\psi}{t}\n",
    "$$\n",
    "\n",
    "with respect $\\tau = -\\I t$ which is equivalent to our original evolution with respect to an \"imaginary time\" $t = \\I \\tau$.  Mathematically, this can be expressed by including a \"cooling phase\" in front of the evolution:\n",
    "\n",
    "$$\n",
    "  e^{\\I\\phi} \\I\\hbar \\pdiff{\\psi}{t} = \\op{H}\\psi.\n",
    "$$\n",
    "\n",
    "Real-time evolution is implemented when $e^{\\I \\phi} = 1$, while imaginary-time cooling is implemented when $e^{\\I\\phi} = \\I$.  Complex-time evolution with $e^{\\I\\phi} \\propto 1 + \\epsilon \\I$ can be used to mimic superfluid dynamics with dissipation.  This is implemented in the simulations through the cooling parameter $\\epsilon$.  Imaginary time cooling is realized with large values of $\\epsilon$.\n",
    "\n",
    "Directly implementing evolution with an imaginary component to the phase will not only reduce the energy, but will also reduce the particle number.  Generally this is not desirable, so we must rescale the wave-function to restore the particle number.  Scaling the wavefunction $\\psi \\rightarrow s(t)\\psi$ corresponds to a term in the evolution $\\partial \\psi/\\partial t \\propto s'(t)\\psi$.  This can be implemented by adding a constant to Hamiltonian, aka a chemical potential:\n",
    "\n",
    "$$\n",
    "  e^{\\I\\phi} \\I\\hbar \\pdiff{\\psi}{t} = (\\op{H} - \\mu)\\psi.\n",
    "$$\n",
    "\n",
    "A little investigation shows that one should take:\n",
    "\n",
    "$$\n",
    "  \\mu(t) = \\frac{\\braket{\\psi|\\op{H}|\\psi}}{\\braket{\\psi|\\psi}}.\n",
    "$$\n",
    "\n",
    "Expressed in another way, we make the change in the state $\\ket{\\d\\psi} \\propto \\op{H}\\ket{\\psi}$ orthogonal to $\\ket{\\psi}$ so that the state simply \"rotates\" without changing length:\n",
    "\n",
    "$$\n",
    "  \\ket{\\d\\psi} \\propto (\\op{H} - \\mu)\\ket{\\psi}, \\qquad \\braket{\\d\\psi|\\psi} = 0.\n",
    "$$\n",
    "\n",
    "This immediately gives the condition $\\mu = \\braket{\\op{H}}$ given above, which will preserve the normalization of the state no-matter what the cooling phase.  *Incidentally, even if one performs real-time evolution, using such a chemical potential can be numerically advantageous as it minimizes the phase evolution of the state.  This has not physical significance, but reduces numerical errors and allows one to use larger time-steps.*"
   ]
  },
  {
   "cell_type": "markdown",
   "metadata": {},
   "source": [
    "### Example 1: Cooling"
   ]
  },
  {
   "cell_type": "markdown",
   "metadata": {},
   "source": [
    "Run the following simulation of a highly-excited superfluid and explore the effect of the cooling phase.  The simulation starts with a BEC in a cylindrical trap rotating with a high angular velocity.  You can addjust the cooling parameter $\\epsilon$ with the first slider.  For large amounts of cooling, you should see the system rapidly lose energy to form a set of orbiting vortices."
   ]
  },
  {
   "cell_type": "code",
   "execution_count": null,
   "metadata": {},
   "outputs": [],
   "source": [
    "%%javascript\n",
    "IPython.OutputArea.prototype._should_scroll = function(lines) { return false; }"
   ]
  },
  {
   "cell_type": "code",
   "execution_count": null,
   "metadata": {},
   "outputs": [],
   "source": [
    "# Does not work on CoLab yet\n",
    "from mmf_setup.set_path import hgroot\n",
    "from importlib import reload\n",
    "from super_hydro.client import notebook;reload(notebook)\n",
    "notebook.run(model='gpe.BEC', Nx=64, Ny=64)"
   ]
  },
  {
   "cell_type": "markdown",
   "metadata": {},
   "source": [
    "### Quantum Friction"
   ]
  },
  {
   "cell_type": "markdown",
   "metadata": {},
   "source": [
    "One can derive cooling from another perspective which allows the desired generalization.  Consider how the energy of the system $E[\\psi]$ changes when we evolve the system with a \"cooling\" Hamiltonian $\\op{H}_c = \\op{H}_c^\\dagger$, which we restrict:\n",
    "\n",
    "$$\n",
    "  \\I\\hbar \\ket{\\dot{\\psi}} \\equiv \\I\\hbar \\pdiff{\\ket{\\psi}}{t}\n",
    "  = \\op{H}_{c}\\ket{\\psi}.\n",
    "$$\n",
    "\n",
    "The change in the energy is:\n",
    "\n",
    "\\begin{align}\n",
    "  \\dot{E} &= \\bra{\\dot{\\psi}}\\pdiff{E}{\\bra{\\psi}} + \\pdiff{E}{\\ket{\\psi}}\\ket{\\dot{\\psi}},\\\\\n",
    "          &= \\braket{\\dot{\\psi}|\\op{H}|\\psi} + \\braket{\\psi|\\op{H}|\\dot{\\psi}},\\\\\n",
    "          &= \\frac{-\\braket{\\psi|\\op{H}_c\\op{H}|\\psi} + \\braket{\\psi|\\op{H}\\op{H}_c|\\psi}}{\\I\\hbar}\n",
    "          = \\frac{\\braket{\\psi|[\\op{H},\\op{H}_c]|\\psi}}{\\I\\hbar}.\n",
    "\\end{align}\n",
    "\n",
    "If we can choose $\\op{H}_c$ to ensure that the last term is negative-definite, then we have a cooling procedure.  The last term can be more usefully expressed in terms of the normalized density operator $\\op{R} = \\ket{\\psi}\\bra{\\psi}/\\braket{\\psi|\\psi}$ and using the cyclic property of the trace:\n",
    "\n",
    "$$\n",
    "  \\frac{\\braket{\\psi|[\\op{H},\\op{H}_c]|\\psi}}{\\braket{\\psi|\\psi}} \n",
    "  = \\Tr\\left(\\op{R}[\\op{H},\\op{H}_c]\\right)\n",
    "  = \\Tr\\left(\\op{H}_c[\\op{R},\\op{H}]\\right),\\qquad\n",
    "  \\hbar\\dot{E} = -\\braket{\\psi|\\psi}\\Tr\\left(\\I[\\op{R},\\op{H}]\\op{H}_c\\right).\n",
    "$$\n",
    "\n",
    "This gives the optimal choice:\n",
    "\n",
    "$$\n",
    "  \\op{H}_c = \\left(\\I[\\op{R},\\op{H}]\\right)^{\\dagger}\n",
    "           = \\I[\\op{R},\\op{H}], \\qquad\n",
    "  \\hbar\\dot{E} = -\\braket{\\psi|\\psi}\\Tr(\\op{H}_c^\\dagger\\op{H}_c),\n",
    "$$\n",
    "\n",
    "ensuring a continuous steepest descent.  It turns out that this choice is equivalent to imaginary time cooling with rescaling:\n",
    "\n",
    "$$\n",
    "  \\op{H}_c = \\frac{-\\I}{\\braket{\\psi|\\psi}}\n",
    "  (\\op{H}\\ket{\\psi}\\bra{\\psi}-\\ket{\\psi}\\bra{\\psi}\\op{H})\\\\\n",
    "  \\I\\ket{\\dot{\\psi}} = \\op{H}_c\\ket{\\psi} \n",
    "  = -\\I\\left(\n",
    "    \\op{H} - \\frac{\\braket{\\psi|\\op{H}|\\psi}}{\\braket{\\psi|\\psi}}\n",
    "  \\right)\\ket{\\psi}\n",
    "  = -\\I(\\op{H} - \\mu)\\ket{\\psi}.\n",
    "$$\n",
    "\n",
    "*One can include an arbitrary real constant in $\\op{H}_c$ but this just amounts to rescaling $t$.  It might be tempting to include a large constant so that the energy decreases rapidly, but then one will need to take correspondingly smaller time-steps exactly negating the effect.*\n",
    "\n",
    "*From now on, we will assume our states are properly normalized, dropping the factors of $\\braket{\\psi|\\psi} = 1$.*"
   ]
  },
  {
   "cell_type": "markdown",
   "metadata": {},
   "source": [
    "### Fermions"
   ]
  },
  {
   "cell_type": "markdown",
   "metadata": {},
   "source": [
    "Now consider the same approach for cooling an orbital based DFT (Hatree-Fock) whose states are formed as a Slater determinant of $N$ orthonormal single-particle states $\\ket{\\psi_n}$ where $\\braket{\\psi_m|\\psi_n} = \\delta_{mn}$.  In this case, the density matrix has the form:\n",
    "\n",
    "$$\n",
    "  \\op{R} = \\sum_{n}\\ket{\\psi_n}\\bra{\\psi_n}.\n",
    "$$\n",
    "\n",
    "The same formulation applies with maximal cooling being realized for $\\op{H}_c = \\I[\\op{R},\\op{H}]$ so that\n",
    "\n",
    "$$\n",
    "  \\op{H}_c\\ket{\\psi_i} = -\\I\\sum_{n}\\left(\n",
    "    \\op{H}\\ket{\\psi_n}\\braket{\\psi_n|\\psi_i}\n",
    "    -\n",
    "    \\ket{\\psi_n}\\braket{\\psi_n|\\op{H}|\\psi_i}\n",
    "  \\right)\n",
    "  = -\\I\\left(\n",
    "    \\op{H}\\ket{\\psi_i}\n",
    "    -\n",
    "    \\sum_{n}\\ket{\\psi_n}\\braket{\\psi_n|\\op{H}|\\psi_i}\n",
    "  \\right).\n",
    "$$\n",
    "\n",
    "This again amounts to imaginary time evolution with $\\op{H}$ plus additional corrections to ensure that the evolution maintains the orthonormality of the single-particle states $\\braket{\\psi_m|\\psi_n} = \\delta_{mn}$ (effecting a continuous Gram-Schmidt process). It is clear that overlaps between all states $H_{ni}=\\braket{\\psi_n|\\op{H}|\\psi_i}$ must be computed, making this approach expensive in terms of communication.\n",
    "\n",
    "*As before, we will now assume that all single-particle states are orthonormal $\\braket{\\psi_m|\\psi_n} = \\delta_{mn}$.*"
   ]
  },
  {
   "cell_type": "markdown",
   "metadata": {},
   "source": [
    "### Local Formulation"
   ]
  },
  {
   "cell_type": "markdown",
   "metadata": {},
   "source": [
    "Instead, one can use the same formalism, but consider alternative forms of $\\op{H}_c$ that are easier to compute.  In particular, one can consider local operators in position or momentum space:\n",
    "\n",
    "$$\n",
    "  \\op{H}_c = \\beta_K\\op{K}_c + \\beta_V\\op{V}_c\n",
    "$$\n",
    "\n",
    "where $\\op{V}_c$ is a potential diagonal in position space $\\braket{x|\\op{V}_c|x} = V_c(x)$ and $\\op{K}_c$ is \"potential\" diagonal in momentum space $\\braket{k|\\op{K}_c|k} = K_c(k)$:\n",
    "\n",
    "$$\n",
    "  \\op{K}_c = \\int\\frac{\\d{k}}{2\\pi}\\;\\ket{k}K_c(k)\\bra{k}, \\qquad\n",
    "  \\op{V}_c = \\int\\d{x}\\;\\ket{x}V_c(x)\\bra{x}.\n",
    "$$\n",
    "\n",
    "Proceeding as before, we can assure that the energy decreases if\n",
    "\n",
    "\\begin{gather}\n",
    "  \\hbar \\dot{E} = -\\I\\Tr(\\op{H}_c[\\op{R}, \\op{H}]) \\leq 0\\\\\n",
    "  \\begin{aligned}\n",
    "    V_c(x) &= \\I\\braket{x|[\\op{R},\\op{H}]|x} \n",
    "           = \\hbar \\dot{n}(x), &\n",
    "    K_c(k) &= \\I\\braket{k|[\\op{R},\\op{H}]|k}\n",
    "           = \\hbar\\dot{n}(k),\n",
    "  \\end{aligned}\n",
    "\\end{gather}\n",
    "\n",
    "where the time-derivatives are taken with respect to evolution with the original Hamiltonian:\n",
    "\n",
    "$$\n",
    "  \\hbar\\dot{n}(x) = \\hbar\\braket{x|\\dot{\\op{R}}|x} \n",
    "                  = -\\I\\braket{x|[\\op{H},\\op{R}]|x}, \\qquad\n",
    "  \\hbar\\dot{n}(k) = \\hbar\\braket{k|\\dot{\\op{R}}|k} \n",
    "                 = -\\I\\braket{k|[\\op{H},\\op{R}]|k}.\n",
    "$$\n",
    "\n",
    "*If the Hamiltonian separates $\\op{H} = \\op{K} + \\op{V}$ into pieces that are local in momentum and position space respectively, then we can simplify these:*\n",
    "\n",
    "$$\n",
    "  \\braket{x|[\\op{R},\\op{H}]|x} = \\braket{x|[\\op{R},\\op{K}]|x},\n",
    "  \\qquad\n",
    "  \\braket{k|[\\op{R},\\op{H}]|k} = \\braket{k|[\\op{R},\\op{V}]|k}.\n",
    "$$\n",
    "\n",
    "The meaning of these \"cooling\" potential is elucidated by considering the continuity equation:\n",
    "\n",
    "$$\n",
    "  \\dot{n}(x) = -\\vect{\\nabla}\\cdot\\vect{j}(x) \\propto V_c(x).\n",
    "$$\n",
    "\n",
    "The if the density is increasing at $x$ due to converging current, then the cooling potential will increase at this point to slow the converging flow, thereby removing kinetic energy from the system.  The interpretation for $V_K(k)$ is similar in the dual space, though less conventional."
   ]
  },
  {
   "cell_type": "markdown",
   "metadata": {},
   "source": [
    "Here are some explicit formulae:\n",
    "\n",
    "$$\n",
    "  V_c(x) = 2\\Im\\Bigl(\\psi^*(x)\\braket{x|\\op{K}|\\psi}\\Bigr)\n",
    "         = 2\\Im\\Bigl(\\psi^*(x)\\braket{x|\\op{H}|\\psi}\\Bigr),\\qquad\n",
    "  K_c(k) = 2\\Im\\Bigl(\\psi^*(k)\\braket{k|\\op{V}|\\psi}\\Bigr)\n",
    "         = 2\\Im\\Bigl(\\psi^*(k)\\braket{k|\\op{H}|\\psi_}\\Bigr).\n",
    "$$\n",
    "\n",
    "Thus, we can simply apply the original Hamiltonian $\\op{H}$ to $\\ket{\\psi}$ and consider the diagonal pieces in position and momentum space.  In the fermionic cases, these would need to be summed over all single-particle wave-functions.\n",
    "\n",
    "$$\n",
    "  V_c(x) = \\sum_i 2\\Im\\Bigl(\\psi_i^*(x)\\braket{x|\\op{K}|\\psi_i}\\Bigr),\\qquad\n",
    "  K_c(k) = \\sum_i 2\\Im\\Bigl(\\psi_i^*(k)\\braket{k|\\op{V}|\\psi_i}\\Bigr).\n",
    "$$\n"
   ]
  },
  {
   "cell_type": "markdown",
   "metadata": {},
   "source": [
    "## Departure from Locality"
   ]
  },
  {
   "cell_type": "markdown",
   "metadata": {},
   "source": [
    "We can generalize these operators slightly to cool in a non-local fashion.  For example, consider the following cooling Hamiltonian.  (The motivation here is that the operators $\\op{D}$ are derivatives, so this Hamiltonian is quasi-local.)\n",
    "\n",
    "$$\n",
    "  \\op{H}_c = \\int \\d{x}\\; \\op{D}_a^\\dagger\\ket{x}V_{ab}(x)\\bra{x}\\op{D}_b + \\text{h.c.},\\\\\n",
    "  \\hbar \\dot{E} = -\\I\\left(\n",
    "    \\int\\d{x}\\;V_{ab}(x)\n",
    "    \\braket{x|\\op{D}_b[\\op{R},\\op{H}]\\op{D}_a^\\dagger|x}\n",
    "    + \\text{h.c.}\n",
    "  \\right).\n",
    "$$\n",
    "\n",
    "We can ensure cooling if we take:\n",
    "\n",
    "$$\n",
    "  \\hbar V_{ab}(x) \n",
    "  = (\\I\\hbar\\braket{x|\\op{D}_b[\\op{R},\\op{H}]\\op{D}_a^\\dagger|x})^*\n",
    "  = \\I\\hbar\\braket{x|\\op{D}_a[\\op{R},\\op{H}]\\op{D}_b^\\dagger|x}\\\\\n",
    "  = \\braket{x|\\op{D}_a|\\psi}\\braket{x|\\op{D}_b|\\dot{\\psi}}^*\n",
    "  + \\braket{x|\\op{D}_a|\\dot{\\psi}}\\braket{x|\\op{D}_b|\\psi}^*.\n",
    "$$\n",
    "\n",
    "If $\\op{D}_{a,b}(x)$ are just derivative operators $\\braket{x|\\op{D}_{a}|\\psi} = \\psi^{(a)}(x)$, then we have\n",
    "\n",
    "$$\n",
    "  \\hbar V_{ab}(x) \n",
    "  = \\psi^{(a)}(x)\\overline{\\dot{\\psi}^{(b)}(x)}\n",
    "  + \\dot{\\psi}^{(a)}(x)\\overline{\\psi^{(b)}(x)},\n",
    "$$\n",
    "\n",
    "where\n",
    "\n",
    "$$\n",
    "  \\dot{\\psi}(x) = -\\I\\hbar\\braket{x|\\op{H}|\\psi}\n",
    "$$\n",
    "\n",
    "is the time-derivative with respect to the original Hamiltonian.\n",
    "\n"
   ]
  },
  {
   "cell_type": "markdown",
   "metadata": {},
   "source": [
    "### Aurel's Notes"
   ]
  },
  {
   "cell_type": "markdown",
   "metadata": {},
   "source": [
    "In Aurel's notes, he considers:\n",
    "\n",
    "\\begin{align}\n",
    "  V_0(x) &= 2V_{00}(x) = \\sum_{n}\\left(\n",
    "    \\psi_n(x)\\dot{\\psi}_n^*(x) + \\dot{\\psi}_n(x)\\psi_n^*(x)\n",
    "  \\right)\n",
    "  = \\sum_{n} \\pdiff{\\psi_n(x)\\psi_n^*(x)}{t}\n",
    "  = \\sum_{n} \\dot{n}_n(x), \\\\\n",
    "  \\vect{V}_1(x) &= V_{0i}(x) \n",
    "    = \\sum_{n}\\left(\n",
    "      \\psi_n(x)\\vect{\\nabla}\\dot{\\psi}_n^*(x)\n",
    "      + \\dot{\\psi}_n(x)\\vect{\\nabla}\\psi_n^*(x)\\right)\n",
    "    = \\sum_{n}\\pdiff{}{t}\\left(\n",
    "      \\psi_n(x)\\vect{\\nabla}\\psi_n^*(x)\\right)\\\\\n",
    "  \\overleftrightarrow{V_2}(x) &= V_{ij}(x)\n",
    "    = \\sum_{n}\\left(\n",
    "      \\overleftarrow{\\nabla}\\psi_n(x)\\overrightarrow{\\nabla}\\dot{\\psi}_n^*(x)\n",
    "      + \\overleftarrow{\\nabla}\\dot{\\psi}_n(x)\\overrightarrow{\\nabla}\\psi_n^*(x)\\right)  \n",
    "    = \\sum_{n}\\pdiff{}{t}\\left(\n",
    "      \\overleftarrow{\\nabla}\\psi_n(x)\\overrightarrow{\\nabla}\\psi_n^*(x)\n",
    "\\right)\\\\  \n",
    "\\end{align}"
   ]
  },
  {
   "cell_type": "markdown",
   "metadata": {},
   "source": [
    "# Explicit Demonstration"
   ]
  },
  {
   "cell_type": "markdown",
   "metadata": {},
   "source": [
    "Here we provide an explicit demonstration with a 1D BEC in a box.  We use the split-operator evolution method, $\\op{V}_c$, $\\op{K}_c$, or both.  This is not the most efficient implementation (excessive FFT calls are made) but the structure should be clear."
   ]
  },
  {
   "cell_type": "code",
   "execution_count": null,
   "metadata": {},
   "outputs": [],
   "source": [
    "%pylab inline --no-import-all\n",
    "import numpy as np\n",
    "class CoolingEg(object):\n",
    "    g = hbar = m = 1.0\n",
    "    def __init__(self, beta_0=1.0, beta_V=1.0 ,beta_K=1.0, N=256, dx=0.1, \n",
    "                 dt_Emax=1.0):\n",
    "        \"\"\"\n",
    "        Arguments\n",
    "        ---------\n",
    "        beta_0 : float\n",
    "           Portion of the original Hamiltonian H to include.\n",
    "        beta_V : float\n",
    "           Portion of the position cooling potential V_c.\n",
    "        beta_K : float\n",
    "            Portion of the momentum cooling potential K_c\n",
    "        \"\"\"\n",
    "        self.N = N\n",
    "        self.dx = dx\n",
    "        self.L = dx*N\n",
    "        self.x = np.arange(N)*dx - self.L/2\n",
    "        self.k = 2*np.pi * np.fft.fftfreq(N, dx)\n",
    "        self.beta_0 = beta_0\n",
    "        self.beta_V = beta_V\n",
    "        self.beta_K = beta_K\n",
    "        self._K2 = (self.hbar*self.k)**2/2/self.m\n",
    "        Emax = self._K2.max()\n",
    "        self.dt = dt_Emax * self.hbar/Emax\n",
    "\n",
    "    def step(self, psi, n=1):\n",
    "        \"\"\"Evolve the state psi by applying n steps of the \n",
    "        Split-Operator method.\"\"\"\n",
    "        psi = self.apply_expK(psi, factor=0.5)\n",
    "        for n in range(n):\n",
    "            psi = self.apply_expV(psi)\n",
    "            psi = self.apply_expK(psi)\n",
    "        psi = self.apply_expK(psi, factor=-0.5)\n",
    "        return psi\n",
    "\n",
    "    def apply_expK(self, psi, factor=1):\n",
    "        psi_k = np.fft.fft(psi)\n",
    "        Kc = self.get_Kc(psi=psi)\n",
    "        return np.fft.ifft(\n",
    "            np.exp(-1j*self.dt*factor*(self.beta_0*self._K2 + Kc))\n",
    "            * psi_k)\n",
    "        \n",
    "    def apply_expV(self, psi, factor=1):\n",
    "        Vc = self.get_Vc(psi)\n",
    "        n = abs(psi)**2\n",
    "        V = self.g*n\n",
    "        return np.exp(-1j*self.dt*factor*(self.beta_0*V + Vc)) * psi\n",
    "\n",
    "    def apply_H(self, psi):\n",
    "        n = abs(psi)**2\n",
    "        psi_k = np.fft.fft(psi)\n",
    "        Kpsi_k = self._K2*psi_k\n",
    "        Vpsi = self.g*n*psi\n",
    "        return Kpsi + Vpsi\n",
    "\n",
    "    def get_Vc(self, psi):\n",
    "        psi_k = np.fft.fft(psi)\n",
    "        Kpsi = np.fft.ifft(self._K2*psi_k)\n",
    "        Vc = 2*(psi.conj()*Kpsi).imag/(abs(psi)**2).max()\n",
    "        return self.beta_V*Vc\n",
    "\n",
    "    def get_Kc(self, psi):\n",
    "        n = abs(psi)**2\n",
    "        psi_k = np.fft.fft(psi)\n",
    "        V = self.g*n\n",
    "        Vpsi_k = np.fft.fft(V*psi)\n",
    "        Kc = 2*(psi_k.conj()*Vpsi_k).imag/(abs(psi_k)**2).max()\n",
    "        return self.beta_K*Kc\n",
    "\n",
    "    def get_E_N(self, psi):\n",
    "        \"\"\"Return the energy and particle number `(E,N)`.\"\"\"\n",
    "        dx = self.dx\n",
    "        n = abs(psi)**2\n",
    "        K = abs(np.fft.ifft(self.hbar*self.k*np.fft.fft(psi)))**2/2/self.m\n",
    "        E = ((self.g*n**2/2 + K).sum()*dx).real\n",
    "        N = n.sum()*dx\n",
    "        return E, N\n",
    "    \n",
    "    def plot(self, psi):\n",
    "        plt.clf()\n",
    "        plt.subplot(121)\n",
    "        plt.plot(self.x, abs(psi)**2)\n",
    "        plt.ylim(0,2)\n",
    "        plt.twinx()\n",
    "        Vc = self.get_Vc(psi)\n",
    "        plt.plot(self.x, Vc, 'C1')\n",
    "        Kc = self.get_Kc(psi)\n",
    "        plt.plot(self.x, abs(np.fft.ifft(Kc)*len(self.x))**2, 'C2')\n",
    "        #plt.ylim(-2,2)\n",
    "        E, N = self.get_E_N(psi)\n",
    "        plt.suptitle(f\"E={E:.4f}, N={N:.4f}\")\n",
    "        return plt.gcf()\n",
    "\n",
    "    def _plot(self, psi):\n",
    "        plt.clf()\n",
    "        plt.plot(self.x, abs(psi)**2)\n",
    "        plt.ylim(0,2)\n",
    "        plt.twinx()\n",
    "        Kc = self.get_Kc(psi)\n",
    "        y = np.fft.ifft(Kc)\n",
    "        print(abs(y.real).max(), abs(y.imag).max())\n",
    "        y /= abs(y).max()\n",
    "        plt.plot(self.x, y.real, 'C2')\n",
    "        plt.ylim(-1,1)\n",
    "        E, N = self.get_E_N(psi)\n",
    "        plt.suptitle(f\"E={E:.4f}, N={N:.4f}\")\n",
    "        return plt.gcf()\n",
    "    "
   ]
  },
  {
   "cell_type": "code",
   "execution_count": null,
   "metadata": {},
   "outputs": [],
   "source": [
    "eg = eg_VK = CoolingEg()\n",
    "eg_K = CoolingEg(beta_V=0.0)\n",
    "eg_V = CoolingEg(beta_K=0.0)\n",
    "#psi = np.random.random(eg.N) + 1j*np.random.random(eg.N) - 0.5 - 0.5j\n",
    "psi0 = 0*eg.x + 1 + 1.0*np.exp(-eg.x**2/2)\n",
    "psi_ground = 0*psi0 + np.sqrt((abs(psi0)**2).mean())\n",
    "E0, N0 = eg.get_E_N(psi_ground)\n",
    "Es = [[], [], []]\n",
    "psis = [psi0, psi0, psi0]\n",
    "egs = [eg_VK, eg_K, eg_V]\n",
    "Ndata = 100\n",
    "Nstep = 100\n",
    "for _n in range(Ndata):\n",
    "    for n, eg in enumerate(egs):\n",
    "        psis[n] = eg.step(psis[n], Nstep)\n",
    "        E, N = eg.get_E_N(psis[n]) \n",
    "        Es[n].append(E - E0)\n",
    "Es = np.asarray(Es)"
   ]
  },
  {
   "cell_type": "code",
   "execution_count": null,
   "metadata": {},
   "outputs": [],
   "source": [
    "plt.semilogy(Es.T)\n",
    "plt.xlabel(\"Step\")\n",
    "plt.ylabel(\"E-E0\")\n",
    "plt.legend(['V+K', 'K', 'V'])\n",
    "plt.savefig(\"Cooling.pdf\")"
   ]
  },
  {
   "cell_type": "code",
   "execution_count": null,
   "metadata": {},
   "outputs": [],
   "source": [
    "# Animation, but does not work on CoLab yet.\n",
    "from mmf_setup.set_path import hgroot\n",
    "from super_hydro.contexts import NoInterrupt\n",
    "from IPython.display import clear_output\n",
    "\n",
    "eg = CoolingEg(dt_Emax=1.0, beta_V=1, beta_K=1)\n",
    "psi = 1*psi0\n",
    "NoInterrupt.unregister()\n",
    "with NoInterrupt() as interrupted:\n",
    "    while not interrupted:\n",
    "        psi = eg.step(psi, 100)\n",
    "        display(eg.plot(psi))\n",
    "        clear_output(wait=True)        "
   ]
  },
  {
   "cell_type": "markdown",
   "metadata": {},
   "source": [
    "## Local Friction"
   ]
  },
  {
   "cell_type": "markdown",
   "metadata": {},
   "source": [
    "Here we demonstrate how the cooling potential $\\op{V}_c$ can be used to implement semi-absorbing boundary conditions.  We simply multiply $V_c(x)$ by a function which only enables this at the boundaries."
   ]
  },
  {
   "cell_type": "code",
   "execution_count": null,
   "metadata": {},
   "outputs": [],
   "source": [
    "class CoolingBoundary(CoolingEg):\n",
    "    def __init__(self, **kw):\n",
    "        super().__init__(**kw)\n",
    "        self.beta_K = 0\n",
    "        self.mask = np.where(abs(self.x) < 0.8*self.L/2,\n",
    "                             0.0, \n",
    "                             1.0)\n",
    "    def get_Vc(self, psi):\n",
    "        return super().get_Vc(psi)*self.mask"
   ]
  },
  {
   "cell_type": "markdown",
   "metadata": {},
   "source": [
    "$$\n",
    "  \\hbar\\dot{n} = \\I \\psi^\\dagger(x)\\braket{x|\\op{K}|\\psi} + \\text{h.c.}\n",
    "$$"
   ]
  },
  {
   "cell_type": "code",
   "execution_count": null,
   "metadata": {},
   "outputs": [],
   "source": [
    "eg = CoolingBoundary(beta_V=10.0, dt_Emax=0.1)\n",
    "psi = 0*eg.x + 1 + 1.0*np.exp(-eg.x**2/2)\n",
    "NoInterrupt.unregister()\n",
    "with NoInterrupt() as interrupted:\n",
    "    while not interrupted:\n",
    "        psi = eg.step(psi, 1000)\n",
    "        display(eg.plot(psi))\n",
    "        clear_output(wait=True)        "
   ]
  },
  {
   "cell_type": "markdown",
   "metadata": {},
   "source": [
    "$$\n",
    "  \\I\\hbar\\dot{\\psi}_k(y) =(H\\psi)(y)+ \\int \\dot{\\rho}(y,x)\\psi_k(x)\\d{x}\\\\\n",
    "  \\I\\hbar\\dot{\\psi}_k(y) =(H\\psi)(y) + V_c(x)\\psi(x) \n",
    "                         + \\int V_k(y-x)\\psi_k(x)\\d{x}\n",
    "         + \\int V_+(y+x)V_-(y-x)\\psi_k(x)\\d{x}\n",
    "$$"
   ]
  },
  {
   "cell_type": "code",
   "execution_count": null,
   "metadata": {},
   "outputs": [],
   "source": []
  }
 ],
 "metadata": {
  "kernelspec": {
   "display_name": "Python [conda env:super_hydro]",
   "language": "python",
   "name": "conda-env-super_hydro-py"
  },
  "language_info": {
   "codemirror_mode": {
    "name": "ipython",
    "version": 3
   },
   "file_extension": ".py",
   "mimetype": "text/x-python",
   "name": "python",
   "nbconvert_exporter": "python",
   "pygments_lexer": "ipython3",
   "version": "3.7.3"
  },
  "toc": {
   "base_numbering": 1,
   "nav_menu": {},
   "number_sections": true,
   "sideBar": true,
   "skip_h1_title": true,
   "title_cell": "Table of Contents",
   "title_sidebar": "Contents",
   "toc_cell": false,
   "toc_position": {},
   "toc_section_display": true,
   "toc_window_display": true
  }
 },
 "nbformat": 4,
 "nbformat_minor": 2
}
