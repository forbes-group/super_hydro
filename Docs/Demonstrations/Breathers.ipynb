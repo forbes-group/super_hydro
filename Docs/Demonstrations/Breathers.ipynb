{
 "cells": [
  {
   "cell_type": "markdown",
   "metadata": {},
   "source": [
    "# Scale-Invariant Breathers"
   ]
  },
  {
   "cell_type": "markdown",
   "metadata": {},
   "source": [
    "## Introduction\n",
    "\n",
    "Dalibard et al. [Saint-Jalm:2019] demonstrate that in 2D with a harmonic trap, BECs exhibit a scale invariance that allows recurrance in various initial conditions.  In particular, if one prepares a cloud in a triangle, then this will oscillate with high fidelity when placed in a harmonic trap.\n",
    "\n",
    "[Saint-Jalm:2019]: 'R. Saint-Jalm, P. C. M. Castilho, É. Le Cerf, B. Bakkali-Hassani, J.-L. Ville, S. Nascimbene, J. Beugnon, and Jean Dalibard, \"Dynamical Symmetry and Breathers in a Two-Dimensional Bose Gas\", prx 9(2), 021035 (2019)'"
   ]
  },
  {
   "cell_type": "markdown",
   "metadata": {},
   "source": [
    "$$\n",
    "  \\newcommand{\\I}{\\mathrm{i}}\n",
    "  \\newcommand{\\d}{\\mathrm{d}}\n",
    "  \\newcommand{\\vect}[1]{\\vec{#1}}\n",
    "  \\newcommand{\\op}[1]{\\hat{#1}}\n",
    "  \\newcommand{\\abs}[1]{\\lvert#1\\rvert}\n",
    "  \\newcommand{\\pdiff}[2]{\\frac{\\partial #1}{\\partial #2}}\n",
    "  \\newcommand{\\ket}[1]{\\lvert#1\\rangle}\n",
    "  \\newcommand{\\bra}[1]{\\langle#1\\rvert}\n",
    "  \\newcommand{\\braket}[1]{\\langle#1\\rangle}\n",
    "  \\DeclareMathOperator{\\Tr}{Tr}\n",
    "  \\I \\hbar\\pdiff{\\psi_n}{t} = \\op{H}\\psi_n.\n",
    "$$"
   ]
  },
  {
   "cell_type": "code",
   "execution_count": null,
   "metadata": {},
   "outputs": [],
   "source": [
    "%%javascript\n",
    "IPython.OutputArea.prototype._should_scroll = function(lines) { return false; }"
   ]
  },
  {
   "cell_type": "code",
   "execution_count": null,
   "metadata": {},
   "outputs": [],
   "source": [
    "# Does not work on CoLab yet\n",
    "from mmf_setup.set_path import hgroot\n",
    "from importlib import reload\n",
    "from super_hydro.physics import gpe;reload(gpe)\n",
    "from super_hydro.client import notebook;reload(notebook)\n",
    "notebook.run(model='gpe.BECFlow',\n",
    "             cooling=1e-10,\n",
    "             tracer_particles=10,\n",
    "             random_phase=False)"
   ]
  },
  {
   "cell_type": "code",
   "execution_count": null,
   "metadata": {},
   "outputs": [],
   "source": [
    "# Does not work on CoLab yet\n",
    "from mmf_setup.set_path import hgroot\n",
    "from importlib import reload\n",
    "from super_hydro.physics import gpe;reload(gpe)\n",
    "from super_hydro.client import notebook;reload(notebook)\n",
    "notebook.run(model='gpe.BECBreather',\n",
    "             R=0.3, a_HO=0.04, \n",
    "             Nx=32*8, Ny=32*8, \n",
    "             Nshape=99,\n",
    "             cooling=1e-10,\n",
    "             tracer_particles=0,\n",
    "             random_phase=False)"
   ]
  },
  {
   "cell_type": "code",
   "execution_count": null,
   "metadata": {},
   "outputs": [],
   "source": [
    "%pylab inline --no-import-all\n",
    "x = np.linspace(-1.5, 1.5, 1000)[:, None]\n",
    "y = x.T\n",
    "plt.imshow(abs(abs(x)+abs(y)) < 1)"
   ]
  },
  {
   "cell_type": "markdown",
   "metadata": {},
   "source": [
    "$$\n",
    "  z = re^{\\I\\theta} = x + \\I y\n",
    "  z^{\\alpha} = r^\\alpha e^{\\I\\alpha\\theta}\n",
    "$$"
   ]
  },
  {
   "cell_type": "markdown",
   "metadata": {},
   "source": [
    "$$\n",
    "  z \\mapsto z^2 +c\n",
    "$$"
   ]
  },
  {
   "cell_type": "code",
   "execution_count": null,
   "metadata": {},
   "outputs": [],
   "source": [
    "z = x+1j*y\n",
    "\n",
    "N = 7\n",
    "#plt.i5show(((z/abs(z))**(1)).real.T < 0.8)\n",
    "alpha = N\n",
    "theta = (np.angle(z)+np.pi) % (2*np.pi/N) - np.pi/N\n",
    "r = abs(z)\n",
    "a = r*np.exp(1j*theta)\n",
    "#a = np.where(abs(np.angle(a)) < np.pi/2, 1, 0)\n",
    "plt.imshow(a.T.real<1)"
   ]
  },
  {
   "cell_type": "code",
   "execution_count": null,
   "metadata": {},
   "outputs": [],
   "source": [
    "th = np.linspace(0, 2*np.pi, 100)\n",
    "z = np.exp(1j*th)\n",
    "N = 3\n",
    "plt.plot(th, )"
   ]
  },
  {
   "cell_type": "code",
   "execution_count": null,
   "metadata": {},
   "outputs": [],
   "source": [
    "def f(z):\n",
    "    return z**2 + c\n",
    "\n",
    "c = 0\n",
    "\n",
    "f(f(f(1.5)))"
   ]
  },
  {
   "cell_type": "code",
   "execution_count": null,
   "metadata": {},
   "outputs": [],
   "source": []
  }
 ],
 "metadata": {
  "kernelspec": {
   "display_name": "Python [conda env:super_hydro]",
   "language": "python",
   "name": "conda-env-super_hydro-py"
  },
  "language_info": {
   "codemirror_mode": {
    "name": "ipython",
    "version": 3
   },
   "file_extension": ".py",
   "mimetype": "text/x-python",
   "name": "python",
   "nbconvert_exporter": "python",
   "pygments_lexer": "ipython3",
   "version": "3.7.3"
  },
  "toc": {
   "base_numbering": 1,
   "nav_menu": {},
   "number_sections": true,
   "sideBar": true,
   "skip_h1_title": true,
   "title_cell": "Table of Contents",
   "title_sidebar": "Contents",
   "toc_cell": false,
   "toc_position": {},
   "toc_section_display": true,
   "toc_window_display": true
  }
 },
 "nbformat": 4,
 "nbformat_minor": 2
}
