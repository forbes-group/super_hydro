{
 "cells": [
  {
   "cell_type": "markdown",
   "metadata": {},
   "source": [
    "# Vortex Demonstration"
   ]
  },
  {
   "cell_type": "markdown",
   "metadata": {},
   "source": [
    "## Introduction"
   ]
  },
  {
   "cell_type": "code",
   "execution_count": null,
   "metadata": {},
   "outputs": [],
   "source": [
    "%%javascript\n",
    "IPython.OutputArea.prototype._should_scroll = function(lines) { return false; }"
   ]
  },
  {
   "cell_type": "code",
   "execution_count": null,
   "metadata": {},
   "outputs": [],
   "source": [
    "# Does not work on CoLab yet\n",
    "from mmf_setup.set_path import hgroot\n",
    "from importlib import reload\n",
    "from super_hydro.physics import gpe;reload(gpe)\n",
    "from super_hydro.client import notebook;reload(notebook)\n",
    "notebook.run(model='gpe.BECVortices',\n",
    "             Nx=32*4, Ny=32*4, dt_t_scale=1,\n",
    "             cooling=1,\n",
    "             bump_N=15,\n",
    "             bump_h=0.1,\n",
    "             tracer_particles=0,\n",
    "             network_server=False,\n",
    "            )"
   ]
  },
  {
   "cell_type": "markdown",
   "metadata": {},
   "source": [
    "$$\n",
    "  \\I \\op{\\dot{\\psi}} = (\\op{H}_0 + \\op{H}_c)\\ket{\\psi}\\\\\n",
    "  E = \\braket{\\psi|\\op{\\Omega}|\\psi}, \\qquad\n",
    "  \\op{\\Omega} = \\op{H}_0 - \\Omega \\op{L}_z\\\\\n",
    "  \\\\\n",
    "  \\dot{E} = \\I\\braket{\\psi|[(\\op{H}_0 + \\op{H}_c), \\op{\\Omega}]|\\psi}\\\\\n",
    "  \\dot{E} = \\I\\Tr \\Bigl(\\op{R}[(\\op{H}_0 + \\op{H}_c), \\op{\\Omega}]\\Bigr)\\\\\n",
    "  \\dot{E} = \\I\\Tr \\Bigl((\\op{H}_0 + \\op{H}_c)[\\op{\\Omega},\\op{R}]\\Bigr)\n",
    "  = \\I \\braket{\\psi|[\\op{H}_0,\\op{\\Omega}]|\\psi}\n",
    "  + \\I\\Tr \\Bigl(\\op{H}_c[\\op{\\Omega},\\op{R}]\\Bigr)\n",
    "$$"
   ]
  },
  {
   "cell_type": "markdown",
   "metadata": {},
   "source": [
    "$$\n",
    "  \\op{H}_c = - \\I [\\op{R}, \\op{\\Omega}]\\\\\n",
    "  \\op{H}_c = \\op{V}_c + \\op{K}_c\n",
    "$$"
   ]
  },
  {
   "cell_type": "markdown",
   "metadata": {},
   "source": [
    "$$\n",
    "  \\ket{\\psi(t+\\d{t})} = e^{(\\op{H}+\\op{H_c})\\d{t}/\\I}\\ket{\\psi} \n",
    "  ???????????\\approx\n",
    "  e^{\\op{K}\\d{t}/2\\I}e^{\\op{V}\\d{t}/\\I}e^{\\op{K}\\d{t}/2\\I}\\ket{\\psi}\n",
    "$$"
   ]
  },
  {
   "cell_type": "markdown",
   "metadata": {},
   "source": [
    "$$\n",
    "  \\op{H}_c = \\I [\\op{H}_0, \\ket{\\psi}\\bra{\\psi}]\\\\\n",
    "  V_x(x) = \\braket{x|[\\op{H}, \\ket{\\psi}\\bra{\\psi}]|x}\n",
    "$$"
   ]
  },
  {
   "cell_type": "code",
   "execution_count": null,
   "metadata": {},
   "outputs": [],
   "source": []
  }
 ],
 "metadata": {
  "kernelspec": {
   "display_name": "Python 3",
   "language": "python",
   "name": "python3"
  },
  "language_info": {
   "codemirror_mode": {
    "name": "ipython",
    "version": 3
   },
   "file_extension": ".py",
   "mimetype": "text/x-python",
   "name": "python",
   "nbconvert_exporter": "python",
   "pygments_lexer": "ipython3",
   "version": "3.9.5"
  },
  "toc": {
   "base_numbering": 1,
   "nav_menu": {},
   "number_sections": true,
   "sideBar": true,
   "skip_h1_title": true,
   "title_cell": "Table of Contents",
   "title_sidebar": "Contents",
   "toc_cell": false,
   "toc_position": {},
   "toc_section_display": true,
   "toc_window_display": true
  }
 },
 "nbformat": 4,
 "nbformat_minor": 2
}
