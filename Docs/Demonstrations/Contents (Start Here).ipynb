{
 "cells": [
  {
   "cell_type": "markdown",
   "metadata": {},
   "source": [
    "# Super-Hydro Demonstration List"
   ]
  },
  {
   "cell_type": "markdown",
   "metadata": {},
   "source": [
    "Here is a list of the existing demonstrations.  The default demonstration should be able to be run here, but follow the link to the appropriate notebook for details and many more examples.  Just execute the cells to run the default demonstration.\n",
    "\n",
    "*(If parts of the demonstration are hidden in a scrolling output cell, execute the following cell which will disable scrolling making it possible to view the entire explorer.)*"
   ]
  },
  {
   "cell_type": "code",
   "execution_count": null,
   "metadata": {},
   "outputs": [],
   "source": [
    "%%javascript\n",
    "// Execute this cell to suppress Jupyter output scrolling.\n",
    "IPython.OutputArea.prototype._should_scroll = function(lines) { return false; }"
   ]
  },
  {
   "cell_type": "markdown",
   "metadata": {},
   "source": [
    "## [Breathers.ipynb](Breathers.ipynb)"
   ]
  },
  {
   "cell_type": "code",
   "execution_count": null,
   "metadata": {},
   "outputs": [],
   "source": [
    "# Does not work on CoLab yet\n",
    "from mmf_setup.set_path import hgroot\n",
    "from importlib import reload\n",
    "from super_hydro.physics import gpe\n",
    "from super_hydro.client import notebook\n",
    "\n",
    "notebook.run(\n",
    "    model=\"gpe.BECBreather\",\n",
    "    R=0.3,\n",
    "    a_HO=0.04,\n",
    "    dt_t_scale=0.5,\n",
    "    Nx=32 * 8,\n",
    "    Ny=32 * 8,\n",
    "    Nshape=3,\n",
    "    cooling=1e-10,\n",
    "    tracer_particles=0,\n",
    "    network_server=False,\n",
    ")"
   ]
  },
  {
   "cell_type": "code",
   "execution_count": null,
   "metadata": {},
   "outputs": [],
   "source": []
  }
 ],
 "metadata": {
  "kernelspec": {
   "display_name": "Python 3",
   "language": "python",
   "name": "python3"
  },
  "language_info": {
   "codemirror_mode": {
    "name": "ipython",
    "version": 3
   },
   "file_extension": ".py",
   "mimetype": "text/x-python",
   "name": "python",
   "nbconvert_exporter": "python",
   "pygments_lexer": "ipython3",
   "version": "3.9.5"
  },
  "toc": {
   "base_numbering": 1,
   "nav_menu": {},
   "number_sections": true,
   "sideBar": true,
   "skip_h1_title": false,
   "title_cell": "Table of Contents",
   "title_sidebar": "Contents",
   "toc_cell": false,
   "toc_position": {},
   "toc_section_display": true,
   "toc_window_display": false
  },
  "varInspector": {
   "cols": {
    "lenName": 16,
    "lenType": 16,
    "lenVar": 40
   },
   "kernels_config": {
    "python": {
     "delete_cmd_postfix": "",
     "delete_cmd_prefix": "del ",
     "library": "var_list.py",
     "varRefreshCmd": "print(var_dic_list())"
    },
    "r": {
     "delete_cmd_postfix": ") ",
     "delete_cmd_prefix": "rm(",
     "library": "var_list.r",
     "varRefreshCmd": "cat(var_dic_list()) "
    }
   },
   "types_to_exclude": [
    "module",
    "function",
    "builtin_function_or_method",
    "instance",
    "_Feature"
   ],
   "window_display": false
  }
 },
 "nbformat": 4,
 "nbformat_minor": 2
}
