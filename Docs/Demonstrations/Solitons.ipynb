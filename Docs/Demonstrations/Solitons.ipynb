{
 "cells": [
  {
   "cell_type": "markdown",
   "metadata": {},
   "source": [
    "# Solitons in a BEC"
   ]
  },
  {
   "cell_type": "markdown",
   "metadata": {},
   "source": [
    "Here we demonstrate some of the behaviour exhibited by solutions in a Bose-Einstein Condensate (BEC) as described by the Gross-Pitaevskii equation (GPE):\n",
    "\n",
    "$$\n",
    "  \\newcommand{\\I}{\\mathrm{i}}\n",
    "  \\newcommand{\\abs}[1]{\\lvert#1\\rvert}\n",
    "  \\I \\dot{\\psi}(x, t) = \\frac{-\\hbar^2\\nabla^2 \\psi(x, t)}{2m} \n",
    "    + \\Bigl(gn(x,t) - \\mu\\Bigr)\\psi(x, t), \\qquad\n",
    "    n(x,t) = \\abs{\\psi(x, t)}^2.\n",
    "$$\n",
    "\n",
    "These equations admit the following exact solution for what is known as a grey soliton [Tsuzuki:1971]:\n",
    "\n",
    "$$\n",
    "  \\psi(x, t) = \\sqrt{n}\\left[\\I \\frac{v}{c} + \\sqrt{1-\\frac{v^2}{c^2}}\\tanh\\frac{x-vt}{l}\\right],\\\\\n",
    "  l = \\frac{\\hbar}{m \\sqrt{c^2-v^2}} = \\frac{\\sqrt{2}\\xi}{\\sqrt{1-\\frac{v^2}{c^2}}}, \\qquad\n",
    "  \\mu = gn = mc^2.\n",
    "$$\n",
    "\n",
    "This formula is for grey  solitons (of infinite size) traveling with velocity $v$ on a background density of $n$.  The speed $\\abs{v} \\leq c$ is less than the speed of sound $c = \\sqrt{gn/m}$ and the density at the center of the solution is:\n",
    "\n",
    "$$\n",
    "  n_{\\min} = \\frac{v^2}{c^2}n.\n",
    "$$\n",
    "\n",
    "Hence, stationary solutions have zero density (so-called dark solitons) which has width $l=\\sqrt{2}\\xi$ where $\\xi$ is the healing length of the system.  Moving solutions have finite density in the core (grey solitons) and are wider.\n",
    "\n",
    "[Tsuzuki:1971]: http://dx.doi.org/10.1007/BF00628744 'Toshio Tsuzuki, \"Nonlinear waves in the Pitaevskii-Gross equation\", J. Low Temp. Phys. 4(4), 441-457 (1971) '\n",
    "\n"
   ]
  },
  {
   "cell_type": "markdown",
   "metadata": {},
   "source": [
    "## Implementation Note"
   ]
  },
  {
   "cell_type": "markdown",
   "metadata": {},
   "source": [
    "To implement the soliton in a finite box, we must account for the fact that the boundary conditions are not periodic.  We assume that the box is much larger than the soliton width $L \\gg l$.  In this case, the wavefunction picks up the following phase twist:\n",
    "\n",
    "$$\n",
    "  \\frac{\\psi(L/2, t)}{\\psi(-L/2, t)}\n",
    "  = \\frac{\\I v + \\sqrt{c^2-v^2}}{\\I v - \\sqrt{c^2-v^2}},\n",
    "  = e^{\\I \\theta}, \\qquad\n",
    "  \\cos\\theta = 1 - 2\\frac{v^2}{c^2}.\n",
    "$$\n",
    "\n",
    "\n",
    "*Note: the GPE is actually integrable and one can find explicit forms for all solitons, including those of finite length, but we restrict ourselves here to solitons of infinite length for simplicity.*\n"
   ]
  },
  {
   "cell_type": "markdown",
   "metadata": {},
   "source": [
    "# Demonstration"
   ]
  },
  {
   "cell_type": "code",
   "execution_count": null,
   "metadata": {},
   "outputs": [],
   "source": [
    "%pylab inline\n",
    "from mmf_setup.set_path import hgroot\n",
    "from importlib import reload\n",
    "from super_hydro.physics import gpe;reload(gpe)\n",
    "from super_hydro.contexts import NoInterrupt\n",
    "from super_hydro.server import server; reload(server)\n",
    "from super_hydro.client import notebook; reload(notebook); reload(notebook.widgets)\n",
    "\n",
    "notebook.run(model='gpe.BECSoliton', v_c=0.5, V0_mu=0.0, Nx=256, Ny=64)\n",
    "#notebook.run(model='gpe.BEC', Nx=32, Ny=32)\n",
    "#notebook.run(run_server=False)"
   ]
  }
 ],
 "metadata": {
  "kernelspec": {
   "display_name": "Python [conda env:super_hydro]",
   "language": "python",
   "name": "conda-env-super_hydro-py"
  },
  "language_info": {
   "codemirror_mode": {
    "name": "ipython",
    "version": 3
   },
   "file_extension": ".py",
   "mimetype": "text/x-python",
   "name": "python",
   "nbconvert_exporter": "python",
   "pygments_lexer": "ipython3",
   "version": "3.7.1"
  },
  "toc": {
   "base_numbering": 1,
   "nav_menu": {},
   "number_sections": true,
   "sideBar": true,
   "skip_h1_title": false,
   "title_cell": "Table of Contents",
   "title_sidebar": "Contents",
   "toc_cell": false,
   "toc_position": {},
   "toc_section_display": true,
   "toc_window_display": true
  }
 },
 "nbformat": 4,
 "nbformat_minor": 2
}
