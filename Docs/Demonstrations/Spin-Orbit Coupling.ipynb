{
 "cells": [
  {
   "cell_type": "markdown",
   "metadata": {
    "toc": true
   },
   "source": [
    "<h1>Table of Contents<span class=\"tocSkip\"></span></h1>\n",
    "<div class=\"toc\"><ul class=\"toc-item\"><li><span><a href=\"#Bose-Einstein-Condensates-with-Spin-Orbit-Coupling\" data-toc-modified-id=\"Bose-Einstein-Condensates-with-Spin-Orbit-Coupling-1\"><span class=\"toc-item-num\">1&nbsp;&nbsp;</span>Bose-Einstein Condensates with Spin-Orbit Coupling</a></span><ul class=\"toc-item\"><li><span><a href=\"#Rotating-Phase-Basis\" data-toc-modified-id=\"Rotating-Phase-Basis-1.1\"><span class=\"toc-item-num\">1.1&nbsp;&nbsp;</span>Rotating Phase Basis</a></span></li><li><span><a href=\"#Homogeneous-Solutions\" data-toc-modified-id=\"Homogeneous-Solutions-1.2\"><span class=\"toc-item-num\">1.2&nbsp;&nbsp;</span>Homogeneous Solutions</a></span></li><li><span><a href=\"#Single-Band-Model\" data-toc-modified-id=\"Single-Band-Model-1.3\"><span class=\"toc-item-num\">1.3&nbsp;&nbsp;</span>Single-Band Model</a></span></li></ul></li><li><span><a href=\"#Demonstrations\" data-toc-modified-id=\"Demonstrations-2\"><span class=\"toc-item-num\">2&nbsp;&nbsp;</span>Demonstrations</a></span><ul class=\"toc-item\"><li><span><a href=\"#Super-Solid\" data-toc-modified-id=\"Super-Solid-2.1\"><span class=\"toc-item-num\">2.1&nbsp;&nbsp;</span>Super-Solid</a></span></li></ul></li><li><span><a href=\"#Technical-Notes\" data-toc-modified-id=\"Technical-Notes-3\"><span class=\"toc-item-num\">3&nbsp;&nbsp;</span>Technical Notes</a></span></li></ul></div>"
   ]
  },
  {
   "cell_type": "markdown",
   "metadata": {},
   "source": [
    "# Bose-Einstein Condensates with Spin-Orbit Coupling"
   ]
  },
  {
   "cell_type": "markdown",
   "metadata": {},
   "source": [
    "Here we demonstrate the dynamics of a two-component Bose-Einstein condensate (BEC) with Spin-Orbit coupling (SOC) along the x-axis (equal Rashba and Dresselhaus).  The underlying model evolves with the following set of coupled Gross-Pitaevskii equations (GPEs):\n",
    "\n",
    "$$\n",
    "\\newcommand{\\vect}[1]{\\mathbf{#1}}\n",
    "\\newcommand{\\uvect}[1]{\\hat{#1}}\n",
    "\\newcommand{\\abs}[1]{\\lvert#1\\rvert}\n",
    "\\newcommand{\\norm}[1]{\\lVert#1\\rVert}\n",
    "\\newcommand{\\I}{\\mathrm{i}}\n",
    "\\newcommand{\\ket}[1]{\\left|#1\\right\\rangle}\n",
    "\\newcommand{\\bra}[1]{\\left\\langle#1\\right|}\n",
    "\\newcommand{\\braket}[1]{\\langle#1\\rangle}\n",
    "\\newcommand{\\Braket}[1]{\\left\\langle#1\\right\\rangle}\n",
    "\\newcommand{\\op}[1]{\\mathbf{#1}}\n",
    "\\newcommand{\\mat}[1]{\\mathbf{#1}}\n",
    "\\newcommand{\\d}{\\mathrm{d}}\n",
    "\\newcommand{\\D}[1]{\\mathcal{D}[#1]\\;}\n",
    "\\newcommand{\\pdiff}[3][]{\\frac{\\partial^{#1} #2}{\\partial {#3}^{#1}}}\n",
    "\\newcommand{\\diff}[3][]{\\frac{\\d^{#1} #2}{\\d {#3}^{#1}}}\n",
    "\\newcommand{\\ddiff}[3][]{\\frac{\\delta^{#1} #2}{\\delta {#3}^{#1}}}\n",
    "\\newcommand{\\floor}[1]{\\left\\lfloor#1\\right\\rfloor}\n",
    "\\newcommand{\\ceil}[1]{\\left\\lceil#1\\right\\rceil}\n",
    "\\DeclareMathOperator{\\Tr}{Tr}\n",
    "\\DeclareMathOperator{\\erf}{erf}\n",
    "\\DeclareMathOperator{\\erfi}{erfi}\n",
    "\\DeclareMathOperator{\\sech}{sech}\n",
    "\\DeclareMathOperator{\\sn}{sn}\n",
    "\\DeclareMathOperator{\\cn}{cn}\n",
    "\\DeclareMathOperator{\\dn}{dn}\n",
    "\\DeclareMathOperator{\\sgn}{sgn}\n",
    "\\DeclareMathOperator{\\order}{O}\n",
    "\\DeclareMathOperator{\\diag}{diag}\n",
    "%\\newcommand{\\a}{\\uparrow}\n",
    "%\\newcommand{\\b}{\\downarrow}\n",
    "\\newcommand{\\a}{a}\n",
    "\\newcommand{\\b}{b}\n",
    "  \\I \\hbar \\pdiff{}{t}\n",
    "  \\begin{pmatrix}\n",
    "    \\psi_\\a(\\vect{r}, t)\\\\\n",
    "    \\psi_\\b(\\vect{r}, t)\n",
    "  \\end{pmatrix}\n",
    "  =\n",
    "  \\begin{pmatrix}\n",
    "    \\frac{\\op{p}^2}{2m} - \\frac{\\delta}{2} + U_\\a(\\vect{r}, t)\n",
    "    & \\frac{\\Omega}{2}e^{2\\I k_R x}\\\\\n",
    "    \\frac{\\Omega}{2}e^{-2\\I k_R x} \n",
    "    & \\frac{\\op{p}^2}{2m} + \\frac{\\delta}{2} + U_\\b(\\vect{r}, t)\n",
    "  \\end{pmatrix}\n",
    "  \\cdot\n",
    "  \\begin{pmatrix}\n",
    "    \\psi_\\a(\\vect{r}, t)\\\\\n",
    "    \\psi_\\b(\\vect{r}, t)\n",
    "  \\end{pmatrix}\n",
    "$$\n",
    "\n",
    "where the potentials contain both external and mean-field conteributions:\n",
    "\n",
    "$$\n",
    "  U_\\a(\\vect{r}, t) = V_a(\\vect{r}, t) \n",
    "    + g_{\\a\\a}n_\\a(\\vect{r}, t) + g_{\\a\\b}n_\\b(\\vect{r}, t), \\qquad\n",
    "  U_\\b(\\vect{r}, t) = V_\\b(\\vect{r}, t) \n",
    "  + g_{\\b\\b}n_\\b(\\vect{r}, t) + g_{\\a\\b}n_\\a(\\vect{r}, t).\n",
    "$$\n",
    "\n",
    "The off-diagonal term in this model represents a 2-photon transition induced along the x-axis by a Raman laser.  This laser simultaneously flips the \"spin\" ($\\a$, $b$) of the atoms and giving the particles a quasi-momentum kick of $\\pm 2k_R$.  In this sense, the system has a spin-orbit coupling – the momentum (orbital motion) of the particles is coupled with their \"spin\".  The parameters of the theory are:\n",
    "\n",
    "* $k_R$: Recoil momentum, transfered by Raman lasers.\n",
    "* $\\delta$: Detuning of the coupling beams from the resonance of each species.  This acts as an effective chemical potential difference between the species.\n",
    "* $\\Omega$: Raman coupling.\n",
    "* $g_{ij}$: Non-linear coupling constants, related to the scattering lengths: $g_{ij} = 4\\pi \\hbar ^2 a_{ij}/m$."
   ]
  },
  {
   "cell_type": "markdown",
   "metadata": {},
   "source": [
    "## Rotating Phase Basis"
   ]
  },
  {
   "cell_type": "markdown",
   "metadata": {},
   "source": [
    "Under certain circumstances, one can replace this equation of motion with a simpler model by transforming to a different basis, rotating the phases of the components as follows:\n",
    "\n",
    "$$\n",
    "  \\begin{pmatrix}\n",
    "    \\psi^R_\\a(\\vect{r}, t)\\\\\n",
    "    \\psi^R_\\b(\\vect{r}, t)\n",
    "  \\end{pmatrix}\n",
    "  =\n",
    "  \\begin{pmatrix}\n",
    "    e^{-\\I k_R x}\\psi_\\a(\\vect{r}, t)\\\\\n",
    "    e^{\\I k_R x}\\psi_\\b(\\vect{r}, t)\n",
    "  \\end{pmatrix}\\\\\n",
    "  \\I \\hbar \\pdiff{}{t}\n",
    "  \\begin{pmatrix}\n",
    "    \\psi^R_\\a(\\vect{r}, t)\\\\\n",
    "    \\psi^R_\\b(\\vect{r}, t)\n",
    "  \\end{pmatrix}\n",
    "  =\n",
    "  \\begin{pmatrix}\n",
    "    \\frac{(\\op{p}_x + \\hbar k_R)^2 + \\op{p}_y^2}{2m} - \\frac{\\delta}{2} + U_\\a(\\vect{r}, t)\n",
    "    & \\frac{\\Omega}{2}\\\\\n",
    "    \\frac{\\Omega}{2} \n",
    "    & \\frac{(\\op{p}_x - \\hbar k_R)^2 + \\op{p}_y^2}{2m} + \\frac{\\delta}{2} + U_\\b(\\vect{r}, t)\n",
    "  \\end{pmatrix}\n",
    "  \\cdot\n",
    "  \\begin{pmatrix}\n",
    "    \\psi^R_\\a(\\vect{r}, t)\\\\\n",
    "    \\psi^R_\\b(\\vect{r}, t)\n",
    "  \\end{pmatrix}\n",
    "$$\n",
    "\n",
    "In this form, the dispersion is modified, but the off-diagonal terms are now a simple Rabi coupling that flips the particle spin, but no longer transfers momentum."
   ]
  },
  {
   "cell_type": "markdown",
   "metadata": {},
   "source": [
    "## Homogeneous Solutions"
   ]
  },
  {
   "cell_type": "markdown",
   "metadata": {},
   "source": [
    "In the absence of external potentials, one has plane-wave solutions of the form\n",
    "\n",
    "$$\n",
    "  \\Psi_{\\vect{k}}^{R}(\\vect{r}, t)\n",
    "  = \n",
    "  \\begin{pmatrix}\n",
    "    \\psi^R_\\a(\\vect{r}, t)\\\\\n",
    "    \\psi^R_\\b(\\vect{r}, t)\n",
    "  \\end{pmatrix}\n",
    "  =\n",
    "  e^{\\I \\vect{k}\\cdot\\vect{r} - \\I\\mu t/\\hbar}\n",
    "  \\begin{pmatrix}\n",
    "    \\sqrt{n_\\a}\\\\\n",
    "    \\sqrt{n_\\b}\n",
    "  \\end{pmatrix}.\n",
    "$$\n",
    "\n",
    "where\n",
    "\n",
    "$$\n",
    "  \\begin{pmatrix}\n",
    "    \\frac{\\hbar^2 (k_x + k_R)^2}{2m} - \\frac{\\delta}{2} + g_{\\a\\a}n_\\a + g_{\\a\\b}n_\\b\n",
    "    & \\frac{\\Omega}{2}\\\\\n",
    "    \\frac{\\Omega}{2} \n",
    "    & \\frac{(k_x - k_R)^2}{2m} + \\frac{\\delta}{2} + g_{\\b\\b}n_\\b + g_{\\a\\b}n_\\a\n",
    "  \\end{pmatrix}\n",
    "  \\cdot\n",
    "  \\begin{pmatrix}\n",
    "    \\sqrt{n_\\a}\\\\\n",
    "    \\sqrt{n_\\b}\n",
    "  \\end{pmatrix}\n",
    "  = \\left(\\mu - \\frac{\\hbar^2k_y^2}{2m}\\right)\n",
    "  \\begin{pmatrix}\n",
    "    \\sqrt{n_\\a}\\\\\n",
    "    \\sqrt{n_\\b}\n",
    "  \\end{pmatrix}.\n",
    "$$\n",
    "\n",
    "If the couplings are equal $g = g_{\\a\\a} = g_{\\b\\b} = g_{\\a\\b}$, then the non-linear terms depend only on the total density $n_+ = n_\\a + n_\\b$ and this simplifies:\n",
    "\n",
    "$$\n",
    "  \\begin{pmatrix}\n",
    "    \\frac{\\hbar^2 (k_x + k_R)^2}{2m} - \\frac{\\delta}{2} & \\frac{\\Omega}{2}\\\\\n",
    "    \\frac{\\Omega}{2} & \\frac{(k_x - k_R)^2}{2m} + \\frac{\\delta}{2}\n",
    "  \\end{pmatrix}\n",
    "  \\cdot\n",
    "  \\begin{pmatrix}\n",
    "    \\sqrt{n_\\a}\\\\\n",
    "    \\sqrt{n_\\b}\n",
    "  \\end{pmatrix}\n",
    "  = \\left(\\mu - \\frac{\\hbar^2k_y^2}{2m} - gn_+\\right)\n",
    "  \\begin{pmatrix}\n",
    "    \\sqrt{n_\\a}\\\\\n",
    "    \\sqrt{n_\\b}\n",
    "  \\end{pmatrix}.\n",
    "$$\n",
    "\n",
    "This equation can be diagonalized, giving rise to two independent \"bands\" with dispersion:\n",
    "\n",
    "$$\n",
    "  \\frac{E_{\\pm}(\\hbar k k_R)}{2E_R} = \\frac{k^2 + 1}{2} \\pm \\sqrt{(k-d)^2+w^2}, \\\\\n",
    "  E_R = \\frac{\\hbar^2k_R^2}{2m}, \\qquad\n",
    "  k = \\frac{k_x}{k_R}, \\qquad\n",
    "  d = \\frac{\\delta}{4E_R}, \\qquad\n",
    "  w = \\frac{\\Omega}{4E_R}.\n",
    "$$\n",
    "\n",
    "This dispersion relationship is implemented in the code, and has a minimum at quasi-momentum $k_0$ where $E_-'(\\hbar k_0 k_R) = 0$, where $k_0 = (k_0-d)/\\sqrt{(k_0-d)^2+w^2}$."
   ]
  },
  {
   "cell_type": "markdown",
   "metadata": {},
   "source": [
    "## Single-Band Model"
   ]
  },
  {
   "cell_type": "markdown",
   "metadata": {},
   "source": [
    "In many cases, if the system is not excited to violently, one can simplify the dynamics by considering a single band theory with a modified dispersion:\n",
    "\n",
    "$$\n",
    "  \\I\\hbar \\pdiff{}{t} \\psi(\\vect{r}, t) \n",
    "  = \\left(E_-(\\op{p}_x) + \\frac{\\op{p}_y^2}{2m}\n",
    "    + gn(\\vect{r}, t) \n",
    "    + V(\\vect{r}, t)\n",
    "  \\right)\\psi(\\vect{r}, t)\n",
    "$$"
   ]
  },
  {
   "cell_type": "markdown",
   "metadata": {},
   "source": [
    "# Demonstrations"
   ]
  },
  {
   "cell_type": "code",
   "execution_count": null,
   "metadata": {},
   "outputs": [],
   "source": [
    "%pylab inline\n",
    "from mmf_setup.set_path import hgroot\n",
    "from importlib import reload\n",
    "from super_hydro.physics import gpe;reload(gpe)\n",
    "from super_hydro.physics import gpe2;reload(gpe2)\n",
    "from super_hydro.contexts import NoInterrupt\n",
    "from super_hydro.client import notebook\n",
    "\n",
    "#notebook.run(model='gpe.BECFlow', Nx=256//4, Ny=256//4)\n",
    "notebook.run(model='gpe2.SOC2', Nx=256, Ny=8)\n",
    "#notebook.run(model='gpe.BEC', Nx=32, Ny=32)\n",
    "#"
   ]
  },
  {
   "cell_type": "markdown",
   "metadata": {},
   "source": [
    "## Super-Solid"
   ]
  },
  {
   "cell_type": "code",
   "execution_count": null,
   "metadata": {},
   "outputs": [],
   "source": [
    "%pylab inline\n",
    "from mmf_setup.set_path import hgroot\n",
    "from importlib import reload\n",
    "from super_hydro.physics import gpe;reload(gpe)\n",
    "from super_hydro.physics import gpe2;reload(gpe2)\n",
    "from super_hydro.contexts import NoInterrupt\n",
    "from super_hydro.client import notebook\n",
    "\n",
    "notebook.run(model='gpe2.SuperSolid2', Nx=64, Ny=16)"
   ]
  },
  {
   "cell_type": "markdown",
   "metadata": {},
   "source": [
    "# Technical Notes"
   ]
  },
  {
   "cell_type": "markdown",
   "metadata": {},
   "source": [
    "In order to make sure that the system is strictly periodic, we must make sure that the "
   ]
  }
 ],
 "metadata": {
  "kernelspec": {
   "display_name": "Python [conda env:super-hydro]",
   "language": "python",
   "name": "conda-env-super-hydro-py"
  },
  "language_info": {
   "codemirror_mode": {
    "name": "ipython",
    "version": 3
   },
   "file_extension": ".py",
   "mimetype": "text/x-python",
   "name": "python",
   "nbconvert_exporter": "python",
   "pygments_lexer": "ipython3",
   "version": "3.7.3"
  },
  "toc": {
   "base_numbering": 1,
   "nav_menu": {},
   "number_sections": true,
   "sideBar": true,
   "skip_h1_title": false,
   "title_cell": "Table of Contents",
   "title_sidebar": "Contents",
   "toc_cell": true,
   "toc_position": {},
   "toc_section_display": true,
   "toc_window_display": true
  }
 },
 "nbformat": 4,
 "nbformat_minor": 2
}
