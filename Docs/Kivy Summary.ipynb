{
 "cells": [
  {
   "cell_type": "raw",
   "metadata": {},
   "source": [
    "In creating a new application, kivy uses .kv files to simplify management of the widgets of the program. 'Widget' in kivy is any object that recieves input events, visual or not. Creating a Hello World application can be  done by creating a class with an 'App' property, and building it. Apps are started by calling the '.run()' element of your App class."
   ]
  },
  {
   "cell_type": "code",
   "execution_count": null,
   "metadata": {},
   "outputs": [],
   "source": [
    "from kivy.app import App\n",
    "from kivy.uix.label import Label\n",
    "\n",
    "class MyTestApp(App):\n",
    "    def build(self):\n",
    "        return Label(text = 'Hello World') \n",
    "    \n",
    "if __name__ == \"__main__\":\n",
    "    MyTestApp().run()"
   ]
  },
  {
   "cell_type": "raw",
   "metadata": {},
   "source": [
    "An important thing to note is that when a .kv file is created for this application, its name must mirror the class name where the app is built for kivy to associate the file correctly. For the above example, acceptable .kv file names would be:\n",
    "    MyTestApp.kv\n",
    "    MyTest.kv\n",
    "Convention usually includes 'App' in the class name, but as long as the class has the 'App' property, leaving it out of both the class name and .kv file name still works.\n",
    "\n",
    "The widget that is returned by the build becomes the root for a widget tree. All other widgets in the application are children of this root widget. Rather than being a widget directly, the return can also be to a class which has a kivy widget as its base. For example:\n",
    "    class graph(BoxLayout)\n",
    "\n",
    "\n",
    "Widgets:\n",
    "\n",
    "Widgets, not to be confused with the Widget class, are contained in the kivy.uix module. General categories of widgets are: UX widgets, Layouts, Complex UX widgets, Behaviors widgets, and Screen manager. Whether its buttons, scroll bars, images, videos, or file selection, widgets encompass everything the user interacts with. In general, visual widgets all have methods to return information related to size, position, color, and so forth.\n",
    "\n",
    "Input Handling:\n",
    "\n",
    "Much of the input of an application is made through touch events. \"on_touch_down()\",\"on_touch_move()\", and \"on_touch_up()\" are 3 examples of events which use the 'touch' keyword. Structurally, touches need to be in the same scope as the current loop being run. "
   ]
  },
  {
   "cell_type": "code",
   "execution_count": null,
   "metadata": {},
   "outputs": [],
   "source": [
    "from kivy.app import App\n",
    "from kivy.uix.button import Button\n",
    "\n",
    "class MyGame(Button):\n",
    "    def on_touch_down(self, touch):\n",
    "        print(\"Button is pressed\", touch.x, touch.y)\n",
    "        \n",
    "class GameApp(App):\n",
    "    game = MyGame()\n",
    "    game.text = \"Hello World\"\n",
    "    return game    \n",
    "\n",
    "if __name__ == \"__main__\":\n",
    "    GameApp().run()"
   ]
  },
  {
   "cell_type": "code",
   "execution_count": null,
   "metadata": {},
   "outputs": [],
   "source": [
    "When the above example is run, it brings up an application window with \"Hello World\" in the center, and prints \"Button is pressed\" with the x,y position of the click to the console. 'touch' also has a 'pos' element. 'touch.pos' prints the position in a tuple.\n",
    "\n",
    "If we wanted to change aspects of the button, such as the text it displays, it can be done through a .kv file as follows."
   ]
  },
  {
   "cell_type": "code",
   "execution_count": null,
   "metadata": {},
   "outputs": [],
   "source": [
    "#Python File\n",
    "class MyGame(BoxLayout):\n",
    "    def change_button_text(self,widget,message):\n",
    "        widget.text = message\n",
    "\n",
    "class GameApp(App):\n",
    "    return MyGame():\n",
    "    \n",
    "    \n",
    "#Kivy File must start with \"#:kivy <version>\"\n",
    "#:kivy 1.10.0\n",
    "\n",
    "<MyGame>:\n",
    "    Button:\n",
    "        text: \"Hello World\"\n",
    "        on_touch_down: self.text = \"Goodbye\" #directly modify button\n",
    "        on_release: root.change_button_text(self,\"Hello World\") #indirectly modify button\n",
    "    "
   ]
  },
  {
   "cell_type": "code",
   "execution_count": null,
   "metadata": {},
   "outputs": [],
   "source": [
    "There are two ways to modify widgets. The first way is to modify directly through the .kv file by calling an aspect of 'self', and the second is to call a function in the corresponding class in python and passing through the widget you want modified. \n",
    "\n",
    "\n",
    "\n",
    "Clock: \n",
    "\n",
    "Kivy has a built in module for scheduling events,creating event triggers, timing instances, and reporting real and average frames per second. The module location is \"kivy.clock\". Some of the most common methods are: schedule_interval(), schedule_once(), create_trigger(), unschedule(), get_fps(), get_rfps(), idle(). A full list can be found at: \n",
    "        https://kivy.org/docs/api-kivy.clock.html"
   ]
  },
  {
   "cell_type": "code",
   "execution_count": null,
   "metadata": {},
   "outputs": [],
   "source": [
    "from kivy.uix.widget import Widget\n",
    "from kivy.clock import Clock\n",
    "\n",
    "def Demo(Widget):\n",
    "    time = 0\n",
    "    def callback(self, dt):\n",
    "        print(\"Current run time is: \", time, \"seconds\")\n",
    "        self.time += 1\n",
    "        #move objects, compute functions and so forth\n",
    "\n",
    "def MyDemoApp(App):\n",
    "    def build(self):\n",
    "        example = Demo()\n",
    "        Clock.schedule_interval(example.callback,1/1.)#fn parameters are: function to call, iterations per second\n",
    "\n",
    "if __name__ == \"__main__\":\n",
    "    MyDemoApp().run()"
   ]
  },
  {
   "cell_type": "code",
   "execution_count": null,
   "metadata": {},
   "outputs": [],
   "source": [
    "Graphing in Kivy:\n",
    "    \n",
    "Kivy does not have a built in way to put matplotlib plots into a kivy application, but fortunately, there is a package called kivy-garden that allows us to complete the task. It is important to note that every widget in kivy comes with a 'canvas' built into it, on which can be drawn the widgets shape, color, texture, and so forth. The usefulness of kivy-garden is that it allows us to draw a plot onto a canvas by treating the plot as a widget itself, and using the \"add_widget()\" method to paste it onto another kivy widget. "
   ]
  },
  {
   "cell_type": "code",
   "execution_count": null,
   "metadata": {},
   "outputs": [],
   "source": [
    "import matplotlib\n",
    "matplotlib.use('module://kivy.garden.matplotlib.backend_kivy')\n",
    "import matplotlib.pyplot as plt\n",
    "from matplotlib import cm\n",
    "\n",
    "from kivy.app import App\n",
    "from kivy.uix.boxlayout import BoxLayout\n",
    "\n",
    "import numpy as np\n",
    "\n",
    "x = np.linspace(-10,10,100)\n",
    "y = np.linspace(-10,10,100)\n",
    "X,Y = np.meshgrid(x,y)\n",
    "fig, ax = plt.subplots()\n",
    "Z = (1/X) + (1/Y)\n",
    "cs = ax.contourf(X,Y,Z,20,cmap = cm.viridis)\n",
    "cs = fig.colorbar(cs)\n",
    "fig.canvas.draw()\n",
    "\n",
    "class MyGraphApp(App):\n",
    "    def build(self):\n",
    "        graph = BoxLayout()\n",
    "        graph.add_widget(fig.canvas)\n",
    "        return graph\n",
    "    \n",
    "if __name__ == \"__main__\":\n",
    "    MyGraphApp().run()\n"
   ]
  },
  {
   "cell_type": "code",
   "execution_count": null,
   "metadata": {},
   "outputs": [],
   "source": [
    "Further information about kivy-garden can be found at:\n",
    "    https://kivy.org/docs/api-kivy.garden.html"
   ]
  }
 ],
 "metadata": {
  "kernelspec": {
   "display_name": "Python 3",
   "language": "python",
   "name": "python3"
  },
  "language_info": {
   "codemirror_mode": {
    "name": "ipython",
    "version": 3
   },
   "file_extension": ".py",
   "mimetype": "text/x-python",
   "name": "python",
   "nbconvert_exporter": "python",
   "pygments_lexer": "ipython3",
   "version": "3.9.5"
  }
 },
 "nbformat": 4,
 "nbformat_minor": 1
}
