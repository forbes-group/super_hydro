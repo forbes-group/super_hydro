{
 "cells": [
  {
   "cell_type": "markdown",
   "metadata": {},
   "source": [
    "# To Do and Ideas"
   ]
  },
  {
   "cell_type": "markdown",
   "metadata": {},
   "source": [
    "## Top Priority"
   ]
  },
  {
   "cell_type": "markdown",
   "metadata": {},
   "source": [
    "* [ ] Full-screen display client.\n",
    "  * For the physics department entrance, we need a way of launching a full-screen application that will run and allow people to interact with the program.  The current Jupyter client is not really good for this because it requires scrolling etc.  I don't think I want to go back to Kivy, but maybe.  Suggestions?  How hard would it be to make a complete Javascript client?  I think that Node.js has an SSH server.  Maybe we just make a simple Full-Screen display client with limited functionality  (basically connecting and showing stuff).\n",
    "  * [Connecting to Remote SSH Server via Node.js HTML5 Console](https://stackoverflow.com/questions/38689707/connecting-to-remote-ssh-server-via-node-js-html5-console)\n",
    "  * [ZeroMQ for Node.js](http://zeromq.github.io/zeromq.js/)\n",
    "  * There will be a touchscreen that people can use, but I am not sure how well we can interact with it.  One caveat is that all of this has to run on Windows... any ideas?  \n",
    "  * The complete system should have some buttons on the touchscreen that people can use to switch between a power-point presentation with physics department stuff and our application.  Once our application is activated, we need to display it, allow the user to interact (lower priority), and then eventually switch back to the powerpoint kiosk.\n",
    "  * The display should be active within the next couple of weeks, so this is fairly urgent.  Any ideas on how we could get something working?\n",
    "  * One idea?  Notebook + Fullscreen + RISE + Initialization Cell for autostart?\n",
    "* [ ] GPU backend. (MMF)\n",
    "* [ ] Complete some applications for demonstration.\n",
    "* [ ] Add timeouts so that if server is not running, client does not hang.  (Or if network connection goes down.)\n",
    "* [ ] Think carefully about clients killing server.  Want multiple clients."
   ]
  },
  {
   "cell_type": "markdown",
   "metadata": {},
   "source": [
    "## Medium Priority"
   ]
  },
  {
   "cell_type": "markdown",
   "metadata": {},
   "source": [
    "* [ ] Make work on CoLaboratory.\n",
    "* [ ] Make tracer particles into arrows or something similar that have static direction information.\n",
    "* [ ] Add a physical \"boat\".  I.e. something that has a certain geometry like the finger potential.  Calculate the force and torque on this object and then update it's position and orientation appropriately.  This would be interesting because it will generally not flow with the fluid, but will respond to buoyant forces.  Demonstrates flow-without-resistance.\n",
    "* [ ] Add a toolbar of possible mouse behaviours including:\n",
    "  * Finger potential.\n",
    "  * Local cooling (we should talk about the math).\n",
    "  * Add vortex, then local cooling while you hold the position.\n",
    "  * Placement/manipulation of boats?\n",
    "* [ ] When the client is paused, provide an launch screen where the user has an input field to specify the URL or IP address of the server (just the port for a server running on `localhost`) and a menu for starting a local server.  Perhaps a brief scan could be made to find all locally running servers.\n",
    "* [ ] More applications."
   ]
  },
  {
   "cell_type": "code",
   "execution_count": null,
   "metadata": {},
   "outputs": [],
   "source": []
  }
 ],
 "metadata": {
  "kernelspec": {
   "display_name": "Python [conda env:super_hydro]",
   "language": "python",
   "name": "conda-env-super_hydro-py"
  },
  "language_info": {
   "codemirror_mode": {
    "name": "ipython",
    "version": 3
   },
   "file_extension": ".py",
   "mimetype": "text/x-python",
   "name": "python",
   "nbconvert_exporter": "python",
   "pygments_lexer": "ipython3",
   "version": "3.7.3"
  },
  "toc": {
   "base_numbering": 1,
   "nav_menu": {},
   "number_sections": true,
   "sideBar": true,
   "skip_h1_title": false,
   "title_cell": "Table of Contents",
   "title_sidebar": "Contents",
   "toc_cell": false,
   "toc_position": {},
   "toc_section_display": true,
   "toc_window_display": false
  }
 },
 "nbformat": 4,
 "nbformat_minor": 2
}
