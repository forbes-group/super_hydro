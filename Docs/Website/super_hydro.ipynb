{
 "cells": [
  {
   "cell_type": "markdown",
   "metadata": {},
   "source": [
    "<img alt=\"Vortices in a rotating BEC with a pinning site and tracer particles.\" src=\"/images/super_hydro_vortices.jpg\">"
   ]
  },
  {
   "cell_type": "markdown",
   "metadata": {},
   "source": [
    "# super_hydro: Exploring Superfluids"
   ]
  },
  {
   "cell_type": "markdown",
   "metadata": {},
   "source": [
    "Nobel laureate Richard Feynman said: [\"I think I can safely say that nobody really understands quantum mechanics\"](https://cosmolearning.org/video-lectures/law-of-gravitation-an-example-of-physical-law-66-9944/).  Part of the reason is that quantum mechanics describes physical processes in a regime that is far removed from our every-day experience – namely, when particles are extremely cold and move so slowly that they behave more like waves than like particles.\n",
    "\n",
    "This application attempts to help you develop an intuition for quantum behavior by exploiting the property that collections of extremely cold atoms behave as a fluid – a superfluid – whose dynamics can be explored in real-time.  By allowing you to interact and play with simulations of these superfluids, we hope you will have fun and develop an intuition for some of the new features present in quantum systems, taking one step closer to developing an intuitive understanding of quantum mechanics.\n",
    "\n",
    "Beyond developing an intuition for quantum mechanics, this project provides an extensible and general framework for running interactive simulations capable of sufficiently high frame-rates for real-time interactions using high-performance computing techniques such as GPU acceleration.  The framework is easily extended to any application whose main interface is through a 2D density plot - including many fluid dynamical simulations.\n",
    "<!--END_TEASER-->"
   ]
  },
  {
   "cell_type": "markdown",
   "metadata": {},
   "source": [
    "## Intuitive Quantum Mechanics"
   ]
  },
  {
   "cell_type": "markdown",
   "metadata": {},
   "source": [
    "Because we interact with objects at room temperature, our intuition is based on the behavior of objects at this scale, which is well described by the laws of classical mechanics as formulated by Newton.  Our intuition starts to fail when we move away from this regime, either at speeds comparable to that of light, at which point Einstein's theory of relativity takes over and we must give up our notion of time moving at the same rate for everyone, or at very slow speeds where quantum mechanics takes over.\n",
    "\n",
    "This application takes advantage of a hydrodynamic formulation of quantum mechanics that allows you to directly visualize and explore the behaviour of quantum fluids – superfluids – to develop an intuition for what happens in states of ultra-cold matter such as can be found in cold-atom laboratories around the world (such as the [Fundamental Quantum Physics Lab at WSU](https://labs.wsu.edu/engels/)), and in neutron stars, where the neutrons form a superfluid (cold compared to relevant nuclear scales)."
   ]
  },
  {
   "cell_type": "markdown",
   "metadata": {},
   "source": [
    "# Demo"
   ]
  },
  {
   "cell_type": "markdown",
   "metadata": {},
   "source": [
    "Embedded Movie of various demo.\n",
    "\n",
    "<iframe width=\"560\" height=\"315\" src=\"https://www.youtube.com/embed/UcXwBZ7liJE\" frameborder=\"0\" allow=\"accelerometer; autoplay; encrypted-media; gyroscope; picture-in-picture\" allowfullscreen></iframe>"
   ]
  },
  {
   "cell_type": "markdown",
   "metadata": {},
   "source": [
    "## Installing"
   ]
  },
  {
   "cell_type": "markdown",
   "metadata": {},
   "source": [
    "The easiest way to install the `super_hydro` explorer is to use [Conda](https://conda.io/) and then run it using the Jupyter notebook interface:\n",
    "\n",
    "```bash\n",
    "conda env create mforbes/super_hydro\n",
    "conda activate super_hydro\n",
    "# conda install cupy  # Enable GPU support if supported.\n",
    "# pip install cupy    # If no conda image exists yet for your platform...\n",
    "jupyter notebook super_hydro/README.ipynb\n",
    "```\n",
    "\n",
    "This will create a Conda environment called `super_hydro` with everything you need to run the code.  "
   ]
  },
  {
   "cell_type": "markdown",
   "metadata": {},
   "source": [
    "# Source Code"
   ]
  },
  {
   "cell_type": "markdown",
   "metadata": {},
   "source": [
    "<a href=\"https://github.com/mforbes/super_hydro\"><img loading=\"lazy\" width=\"149\" height=\"149\" src=\"https://github.blog/wp-content/uploads/2008/12/forkme_right_red_aa0000.png?resize=149%2C149\" class=\"attachment-full size-full\" alt=\"Fork me on GitHub\" data-recalc-dims=\"1\">\n",
    "</a>\n",
    "The source-code for the `super_hydro` explorer is available on GitHub:\n",
    "\n",
    "* https://github.com/mforbes/super_hydro"
   ]
  },
  {
   "cell_type": "markdown",
   "metadata": {},
   "source": [
    "# Superfluid Hydrodynamics"
   ]
  },
  {
   "cell_type": "markdown",
   "metadata": {},
   "source": [
    "Superfluids – especially Bose-Einstein condensates (BECs) can be described quite accurately by the [Gross-Pitaevskii equation (GPE)](https://en.wikipedia.org/wiki/Gross–Pitaevskii_equation), which is a form of non-linear Schrödinger equation:\n",
    "\n",
    "$$\n",
    "\\newcommand{\\vect}[1]{\\mathbf{#1}}\n",
    "\\newcommand{\\abs}[1]{\\lvert#1\\rvert}\n",
    "\\newcommand{\\I}{\\mathrm{i}}\n",
    "\\newcommand{\\d}{\\mathrm{d}}\n",
    "\\newcommand{\\pdiff}[3][]{\\frac{\\partial^{#1} #2}{\\partial {#3}^{#1}}}\n",
    "\\newcommand{\\diff}[3][]{\\frac{\\d^{#1} #2}{\\d {#3}^{#1}}}\n",
    "  \\I\\hbar\\pdiff{\\Psi(x, t)}{t} = \\left(\n",
    "    -\\frac{\\hbar^2}{2m}\\nabla^2 + V(x, t) + \\overbrace{g\\abs{\\Psi(x, t)}^2}^{\\text{non-linear term}}\n",
    "  \\right)\\Psi(x, t).\n",
    "$$\n",
    "\n",
    "Here $\\Psi(x, t)$ is the complex condensate wavefunction and $n(x, t) = \\abs{\\Psi(x, t)}^2$ is the density of the superfluid at point $x$ and time $t$.  At low densities, one can neglect the non-linear term and the condensate wave-function evolves exactly as a single quantum particle would behave.  As the number of particles increases, however, they interact through this non-linear \"mean-field\" term, giving rise to many interesting non-linear phenomena such as sound waves (phonons), solitons, and vortices.\n",
    "\n",
    "Understanding a complex-valued function like the wavefunction $\\Psi(x, t)$ can be a challenge – it is not something most people have developed an intuition for.  However, one can find a more relatable representation through what is called a [Madelung transformation](https://en.wikipedia.org/wiki/Madelung_equations):\n",
    "\n",
    "$$\n",
    "  \\Psi(x, t) = \\sqrt{n(x, t)} e^{\\I \\phi(x, t)}, \\qquad u(x, t) = \\frac{\\hbar}{m}\\nabla\\phi(x, t).\n",
    "$$\n",
    "\n",
    "With this transformation, the GPE now has the following hydrodynamic form:\n",
    "\n",
    "$$\n",
    "  \\pdiff{n(x, t)}{t} + \\nabla\\Bigl(n(x, t)u(x,t)\\Bigr)= 0,\\\\\n",
    "  \\diff{u(x, t)}{t} = \\pdiff{u(x, t)}{t} + u(x, t) \\cdot \\nabla u(x, t) = \n",
    "  -\\frac{1}{m}\\nabla\\left(\n",
    "    \\overbrace{-\\frac{\\hbar^2}{2m}\\frac{\\nabla^2 \\sqrt{n(x, t)}}{\\sqrt{n(x, t)}}}^{\\text{quantum potential}}\n",
    "    + V(x, t) + g n(x, t)\n",
    "  \\right).\n",
    "$$\n",
    "\n",
    "These equations describe a fluid with density $n(x, t)$ and flow velocity $u(x, t)$.  All of the quantum effects now appear in the so-called quantum potential.  Otherwise, these equations have exactly the same form as the [Euler equations](https://en.wikipedia.org/wiki/Euler_equations_(fluid_dynamics)) which describe a perfect fluid.\n",
    "\n",
    "Note: this description is exactly equivalent to the original GPE, but now allows us to interpret and visualize the quantum dynamics as a classical fluid.  The `super_hydro` explorer provides a visualization for the two components: $n(x, t)$ as a background density image, and the flow $u(x, t)$ is represented by moving \"tracer particles\" which trace out the [Bohmian trajectories](https://en.wikipedia.org/wiki/De_Broglie–Bohm_theory).\n"
   ]
  },
  {
   "cell_type": "markdown",
   "metadata": {},
   "source": [
    "# Funding"
   ]
  },
  {
   "cell_type": "markdown",
   "metadata": {},
   "source": [
    "<a href=\"https://www.nsf.gov\"><img width=\"10%\" src=\"https://www.nsf.gov/images/logos/NSF_4-Color_bitmap_Logo.png\" /></a>\n",
    "This material is based upon work supported by the National Science Foundation under Grant Number 1707691. Any opinions, findings, and conclusions or recommendations expressed in this material are those of the author(s) and do not necessarily reflect the views of the National Science Foundation.\n",
    "\n"
   ]
  }
 ],
 "metadata": {
  "anaconda-cloud": {},
  "kernelspec": {
   "display_name": "Python [conda env:super_hydro] *",
   "language": "python",
   "name": "conda-env-super_hydro-py"
  },
  "language_info": {
   "codemirror_mode": {
    "name": "ipython",
    "version": 3
   },
   "file_extension": ".py",
   "mimetype": "text/x-python",
   "name": "python",
   "nbconvert_exporter": "python",
   "pygments_lexer": "ipython3",
   "version": "3.7.7"
  },
  "nikola": {
   "date": "2020-06-01 12:00 PST",
   "description": "",
   "link": "",
   "slug": "super_hydro",
   "tags": "highlight",
   "title": "super_hydro: Superfluid Hydrodynamics Explorer",
   "type": "text"
  },
  "toc": {
   "base_numbering": "1",
   "nav_menu": {
    "height": "12px",
    "width": "252px"
   },
   "number_sections": true,
   "sideBar": true,
   "skip_h1_title": true,
   "title_cell": "Table of Contents",
   "title_sidebar": "Contents",
   "toc_cell": false,
   "toc_position": {},
   "toc_section_display": "block",
   "toc_window_display": true
  }
 },
 "nbformat": 4,
 "nbformat_minor": 2
}
