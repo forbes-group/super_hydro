{
 "cells": [
  {
   "cell_type": "markdown",
   "metadata": {},
   "source": [
    "<img alt=\"Schematic of an expanding BEC entering the regime of negative mass.\" src=\"/images/super_hydro1.svg\">"
   ]
  },
  {
   "cell_type": "markdown",
   "metadata": {},
   "source": [
    "# super_hydro: Exploring Superfluids"
   ]
  },
  {
   "cell_type": "markdown",
   "metadata": {},
   "source": [
    "Quantum mechanics is hard to understand b/c lack of intution.  But some intuition comes from fluid dynamics.  Here let you play.  (Feynman's quote). \n",
    "<!--END_TEASER-->"
   ]
  },
  {
   "cell_type": "markdown",
   "metadata": {},
   "source": [
    "# Demo"
   ]
  },
  {
   "cell_type": "markdown",
   "metadata": {},
   "source": [
    "Embedded Movie of various demo.\n",
    "\n",
    "<iframe width=\"560\" height=\"315\" src=\"https://www.youtube.com/embed/StTqXEQ2l-Y\" frameborder=\"0\" allow=\"accelerometer; autoplay; encrypted-media; gyroscope; picture-in-picture\" allowfullscreen></iframe>"
   ]
  },
  {
   "cell_type": "markdown",
   "metadata": {},
   "source": [
    "## Installing"
   ]
  },
  {
   "cell_type": "markdown",
   "metadata": {},
   "source": [
    "The easiest way to install the `super_hydro` explorer is to use [Conda](https://conda.io/) and then run it using the Jupyter notebook interface:\n",
    "\n",
    "```bash\n",
    "conda env create mforbes/super_hydro\n",
    "conda activate super_hydro\n",
    "# conda install cupy  # Enable GPU support if supported.\n",
    "# pip install cupy    # If no conda image exists yet for your platform...\n",
    "jupyter notebook super_hydro/README.ipynb\n",
    "```\n",
    "\n",
    "This will create a Conda environment called `super_hydro` with everything you need to run the code.  "
   ]
  },
  {
   "cell_type": "markdown",
   "metadata": {},
   "source": [
    "# Superfluid Hydrodynamics"
   ]
  },
  {
   "cell_type": "markdown",
   "metadata": {},
   "source": [
    "GPE etc."
   ]
  },
  {
   "cell_type": "code",
   "execution_count": null,
   "metadata": {},
   "outputs": [],
   "source": []
  }
 ],
 "metadata": {
  "anaconda-cloud": {},
  "kernelspec": {
   "display_name": "Python 3",
   "language": "python",
   "name": "python3"
  },
  "language_info": {
   "codemirror_mode": {
    "name": "ipython",
    "version": 3
   },
   "file_extension": ".py",
   "mimetype": "text/x-python",
   "name": "python",
   "nbconvert_exporter": "python",
   "pygments_lexer": "ipython3",
   "version": "3.7.7"
  },
  "nikola": {
   "date": "2020-06-01 12:00 PST",
   "description": "",
   "link": "",
   "slug": "super_hydro",
   "tags": "highlight",
   "title": "super_hydro: Superfluid Hydrodynamics Explorer",
   "type": "text"
  },
  "toc": {
   "base_numbering": "1",
   "nav_menu": {
    "height": "12px",
    "width": "252px"
   },
   "number_sections": true,
   "sideBar": true,
   "skip_h1_title": true,
   "title_cell": "Table of Contents",
   "title_sidebar": "Contents",
   "toc_cell": false,
   "toc_position": {},
   "toc_section_display": "block",
   "toc_window_display": true
  }
 },
 "nbformat": 4,
 "nbformat_minor": 2
}
