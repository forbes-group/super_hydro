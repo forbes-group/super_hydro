{
 "cells": [
  {
   "cell_type": "markdown",
   "metadata": {},
   "source": [
    "# Installation"
   ]
  },
  {
   "cell_type": "markdown",
   "metadata": {},
   "source": [
    "To install the `super_hydro` superfluid explorer, we recommend using [Conda](https://anaconda.org/anaconda/conda) to setup an appropriate environment."
   ]
  },
  {
   "cell_type": "markdown",
   "metadata": {},
   "source": [
    "## TL;DR"
   ]
  },
  {
   "cell_type": "markdown",
   "metadata": {},
   "source": [
    "```bash\n",
    "conda env create -f environment.env\n",
    "```"
   ]
  },
  {
   "cell_type": "markdown",
   "metadata": {},
   "source": [
    "The explorer consists of two components: the client and the server.  Both of these can run on the same machine, but one can also run the server on a different machine (ideally a fairly high-performance machine with an Nvidia GPU supporting CUDA).\n",
    "\n",
    "Two clients are supported:\n",
    "\n",
    "* Notebook Client: This runs in a Jupyter Notebook.\n",
    "* Kivy Client: This runs as its own application using the Kivy gaming platform."
   ]
  },
  {
   "cell_type": "markdown",
   "metadata": {},
   "source": [
    "## Notebook Client"
   ]
  },
  {
   "cell_type": "markdown",
   "metadata": {},
   "source": [
    "The notebook client requires some Javascript to be installed, which cannot be done using just Conda.  For this, you must also install a Jupyter Notebook extension."
   ]
  },
  {
   "cell_type": "markdown",
   "metadata": {},
   "source": [
    "# Mac OS X"
   ]
  },
  {
   "cell_type": "markdown",
   "metadata": {},
   "source": [
    "Installing [Kivy] on Mac OS X was a pain.\n",
    "\n",
    "* There is currently no Anaconda package.\n",
    "* The App installs nicely, but one cannot easily install matplotlib into that since this is a framework build\n",
    "\n",
    "* What worked was installing Kivy into a conda environment from the source\n",
    "\n",
    "```bash\n",
    "pip install git+https://github.com/kivy/kivy.git\n",
    "```\n",
    "  \n",
    "https://github.com/kivy/kivy/wiki/Connecting-Kivy-with-Anaconda-(OSX)\n",
    "\n",
    "[Kivy]: https://kivy.org/#home"
   ]
  },
  {
   "cell_type": "markdown",
   "metadata": {},
   "source": [
    "# Windows 10 WSL"
   ]
  },
  {
   "cell_type": "markdown",
   "metadata": {},
   "source": [
    "```\n",
    "sudo apg get mesa\n",
    "sudo apt get libglew-dev\n",
    "pip install kivi\n",
    "```\n",
    "\n",
    "* [Xming](https://sourceforge.net/projects/xming/)\n"
   ]
  }
 ],
 "metadata": {
  "kernelspec": {
   "display_name": "Python [conda env:super_hydro]",
   "language": "python",
   "name": "conda-env-super_hydro-py"
  },
  "language_info": {
   "codemirror_mode": {
    "name": "ipython",
    "version": 3
   },
   "file_extension": ".py",
   "mimetype": "text/x-python",
   "name": "python",
   "nbconvert_exporter": "python",
   "pygments_lexer": "ipython3",
   "version": "3.7.3"
  },
  "toc": {
   "base_numbering": 1,
   "nav_menu": {},
   "number_sections": true,
   "sideBar": true,
   "skip_h1_title": false,
   "title_cell": "Table of Contents",
   "title_sidebar": "Contents",
   "toc_cell": false,
   "toc_position": {},
   "toc_section_display": "block",
   "toc_window_display": false
  }
 },
 "nbformat": 4,
 "nbformat_minor": 2
}
