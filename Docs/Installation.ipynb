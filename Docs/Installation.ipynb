{
 "cells": [
  {
   "cell_type": "markdown",
   "metadata": {},
   "source": [
    "# Mac OS X"
   ]
  },
  {
   "cell_type": "markdown",
   "metadata": {},
   "source": [
    "Installing [Kivy] on Mac OS X was a pain.\n",
    "\n",
    "* There is currently no Anaconda package.\n",
    "* The App installs nicely, but one cannot easily install matplotlib into that since this is a framework build\n",
    "\n",
    "* What worked was installing Kivy into a conda environment from the source\n",
    "\n",
    "```bash\n",
    "pip install git+https://github.com/kivy/kivy.git\n",
    "```\n",
    "  \n",
    "https://github.com/kivy/kivy/wiki/Connecting-Kivy-with-Anaconda-(OSX)\n",
    "\n",
    "[Kivy]: https://kivy.org/#home"
   ]
  },
  {
   "cell_type": "markdown",
   "metadata": {},
   "source": [
    "# Windows 10 WSL"
   ]
  },
  {
   "cell_type": "markdown",
   "metadata": {},
   "source": [
    "```\n",
    "sudo apg get mesa\n",
    "sudo apt get libglew-dev\n",
    "pip install kivi\n",
    "```\n",
    "\n",
    "* [Xming](https://sourceforge.net/projects/xming/)\n"
   ]
  }
 ],
 "metadata": {
  "kernelspec": {
   "display_name": "Python 2 (Ubuntu, plain)",
   "language": "python",
   "name": "python2-ubuntu"
  },
  "language_info": {
   "codemirror_mode": {
    "name": "ipython",
    "version": 2
   },
   "file_extension": ".py",
   "mimetype": "text/x-python",
   "name": "python",
   "nbconvert_exporter": "python",
   "pygments_lexer": "ipython2",
   "version": "2.7.13"
  },
  "toc": {
   "nav_menu": {},
   "number_sections": true,
   "sideBar": true,
   "skip_h1_title": false,
   "toc_cell": false,
   "toc_position": {},
   "toc_section_display": "block",
   "toc_window_display": false
  }
 },
 "nbformat": 4,
 "nbformat_minor": 2
}
