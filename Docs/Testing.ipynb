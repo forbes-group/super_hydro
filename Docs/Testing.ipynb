{
 "cells": [
  {
   "cell_type": "code",
   "execution_count": null,
   "metadata": {
    "init_cell": true
   },
   "outputs": [],
   "source": [
    "import mmf_setup;mmf_setup.nbinit()"
   ]
  },
  {
   "cell_type": "code",
   "execution_count": null,
   "metadata": {},
   "outputs": [],
   "source": [
    "from importlib import reload\n",
    "import super_hydro.server.server\n",
    "import super_hydro.client.dumb\n",
    "reload(super_hydro.server.server)\n",
    "reload(super_hydro.client.dumb)"
   ]
  },
  {
   "cell_type": "code",
   "execution_count": null,
   "metadata": {},
   "outputs": [],
   "source": [
    "# Connect to a running network server\n",
    "app = super_hydro.client.dumb.run(run_server=False, network_server=True)\n",
    "app.server.get_available_commands()"
   ]
  },
  {
   "cell_type": "code",
   "execution_count": null,
   "metadata": {},
   "outputs": [],
   "source": [
    "# Start a local server\n",
    "app = super_hydro.client.dumb.run(run_server=True, network_server=False)\n",
    "try:\n",
    "    print(app.server.get_available_commands())\n",
    "    #app.server.set({'cooling': 10})\n",
    "    print(app.server._get('finger_x'))\n",
    "finally:\n",
    "    app.quit()"
   ]
  },
  {
   "cell_type": "code",
   "execution_count": null,
   "metadata": {},
   "outputs": [],
   "source": [
    "from super_hydro.physics import gpe\n",
    "from super_hydro.server import server\n",
    "parser = server.config.get_server_parser()\n",
    "opts, other_args = parser.parse_known_args(args=[])\n",
    "opts.State = gpe.BEC\n",
    "s = server.Server(opts=opts)\n",
    "s.get_available_commands()"
   ]
  },
  {
   "cell_type": "code",
   "execution_count": null,
   "metadata": {},
   "outputs": [],
   "source": [
    "notebook.run(model='gpe.BECFlow',\n",
    "             R=0.3, a_HO=0.04,\n",
    "             dt_t_scale=0.5,\n",
    "             Nx=32*8, Ny=32*8, \n",
    "             Nshape=5,\n",
    "             cooling=1e-10,\n",
    "             tracer_particles=0,\n",
    "             #network_server=False,\n",
    "             random_phase=True,\n",
    "            )"
   ]
  },
  {
   "cell_type": "code",
   "execution_count": null,
   "metadata": {},
   "outputs": [],
   "source": [
    "%%javascript\n",
    "IPython.OutputArea.prototype._should_scroll = function(lines) { return false; }"
   ]
  },
  {
   "cell_type": "code",
   "execution_count": null,
   "metadata": {},
   "outputs": [],
   "source": [
    "# Does not work on CoLab yet\n",
    "from mmf_setup.set_path import hgroot\n",
    "from importlib import reload\n",
    "from super_hydro.physics import gpe;reload(gpe)\n",
    "from super_hydro.client import notebook;reload(notebook)"
   ]
  },
  {
   "cell_type": "code",
   "execution_count": null,
   "metadata": {},
   "outputs": [],
   "source": [
    "notebook.run(network_server=True,\n",
    "             run_server=False,\n",
    "             )"
   ]
  },
  {
   "cell_type": "code",
   "execution_count": null,
   "metadata": {},
   "outputs": [],
   "source": []
  }
 ],
 "metadata": {
  "celltoolbar": "Initialization Cell",
  "kernelspec": {
   "display_name": "Python [conda env:super_hydro] *",
   "language": "python",
   "name": "conda-env-super_hydro-py"
  },
  "language_info": {
   "codemirror_mode": {
    "name": "ipython",
    "version": 3
   },
   "file_extension": ".py",
   "mimetype": "text/x-python",
   "name": "python",
   "nbconvert_exporter": "python",
   "pygments_lexer": "ipython3",
   "version": "3.7.7"
  },
  "toc": {
   "base_numbering": 1,
   "nav_menu": {},
   "number_sections": true,
   "sideBar": true,
   "skip_h1_title": false,
   "title_cell": "Table of Contents",
   "title_sidebar": "Contents",
   "toc_cell": false,
   "toc_position": {},
   "toc_section_display": true,
   "toc_window_display": false
  }
 },
 "nbformat": 4,
 "nbformat_minor": 4
}
