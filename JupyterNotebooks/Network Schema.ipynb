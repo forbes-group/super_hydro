{
 "cells": [
  {
   "cell_type": "markdown",
   "metadata": {},
   "source": [
    "# Network Schema"
   ]
  },
  {
   "cell_type": "markdown",
   "metadata": {},
   "source": [
    "Server:\n",
    "\n",
    "Loop:\n",
    "• Waits to receive a task\n",
    "• Interprets the received string, or the first X characters of that string, to determine what task to do\n",
    "• Performs the requested operations\n",
    "• Ends by sending either:\n",
    "\t• A requested data set\n",
    "\t• \"success\" if the operation was completed\n",
    "\t• \"ERROR\" if the received task was unable to be interpreted\n",
    "    \n",
    "Client:\n",
    "\n",
    "• Sends a string that defines what task to do, followed by any necessary data to complete that task.\n",
    "• Waits for a response from the server; checks if \"success\" or \"ERROR\" if not expecting a data set\n",
    "• Starts next task\n"
   ]
  }
 ],
 "metadata": {
  "kernelspec": {
   "display_name": "Python [conda env:Miniconda3]",
   "language": "python",
   "name": "conda-env-Miniconda3-py"
  },
  "language_info": {
   "codemirror_mode": {
    "name": "ipython",
    "version": 3
   },
   "file_extension": ".py",
   "mimetype": "text/x-python",
   "name": "python",
   "nbconvert_exporter": "python",
   "pygments_lexer": "ipython3",
   "version": "3.6.5"
  }
 },
 "nbformat": 4,
 "nbformat_minor": 2
}
