{
 "cells": [
  {
   "cell_type": "markdown",
   "metadata": {},
   "source": []
  },
  {
   "cell_type": "code",
   "execution_count": null,
   "metadata": {},
   "outputs": [],
   "source": [
    "import mmf_setup;mmf_setup.nbinit()"
   ]
  },
  {
   "cell_type": "markdown",
   "metadata": {},
   "source": [
    "$$\n",
    "  \\newcommand{\\I}{\\mathrm{i}}\n",
    "  \\I\\hbar \\dot{\\psi} = \\frac{-\\hbar^2\\nabla^2}{2m}\\psi + (gn - \\mu)\\psi\n",
    "$$\n",
    "\n",
    "Length Scales"
   ]
  },
  {
   "cell_type": "markdown",
   "metadata": {},
   "source": [
    "Phonon Dispersion:\n",
    "\n",
    "$$\n",
    "  \\psi = \\sqrt{n_0}e^{\\I \\hbar k} \\left(1 + u e^{\\I (qx - \\omega t)} + v^*e^{-\\I (qx - \\omega t)}\\right)\n",
    "$$\n"
   ]
  },
  {
   "cell_type": "markdown",
   "metadata": {},
   "source": [
    "Healing length $\\xi_h$:\n",
    "\n",
    "$$\n",
    "  \\frac{\\hbar^2}{2m\\xi_h^2} = gn_0\n",
    "$$\n"
   ]
  },
  {
   "cell_type": "markdown",
   "metadata": {},
   "source": [
    "# SOC Dispersion"
   ]
  },
  {
   "cell_type": "markdown",
   "metadata": {},
   "source": [
    "$$\n",
    "E(k) = \\frac{(k+1)^2}{2} \\pm \\sqrt{(k-\\delta)^2 + \\omega}\n",
    "$$"
   ]
  },
  {
   "cell_type": "code",
   "execution_count": null,
   "metadata": {},
   "outputs": [],
   "source": [
    "ks[0]-ks[1], ks[0]-ks[-1], np.pi*2/10"
   ]
  },
  {
   "cell_type": "code",
   "execution_count": null,
   "metadata": {},
   "outputs": [],
   "source": [
    "%pylab inline --no-import-all\n",
    "\n",
    "import gpe;reload(gpe)\n",
    "import numpy as np\n",
    "import numpy.fft\n",
    "\n",
    "s0 = gpe.State()\n",
    "\n",
    "ks = np.fft.fftshift(s0.kxy[0]).ravel()\n",
    "omega = 0.3\n",
    "delta = 0.5\n",
    "#ks *= 0.5\n",
    "disp, reg = s0.get_SOC_disp_x(k=ks, d=0, delta=delta, omega=omega)\n",
    "disp1, reg = s0.get_SOC_disp_x(k=ks, d=1, delta=delta, omega=omega)\n",
    "disp2, reg = s0.get_SOC_disp_x(k=ks, d=2, delta=delta, omega=omega)\n",
    "\n",
    "inds = np.where(disp2 < 0)\n",
    "plt.plot(ks,disp, 'r--')\n",
    "#plt.axvline(delta*12.5/2)\n",
    "#plt.axvline(-5.1)\n",
    "#plt.axvline(5.1)\n",
    "#plt.plot(ks-4.0,reg-5.3)\n",
    "\n",
    "#plt.plot(ks[inds],disp[inds], color='r')\n",
    "#plt.axis([-8,0,-8,0])\n",
    "#plt.axis([-3,4,-2,2])\n",
    "\n",
    "print(disp2, len(inds[0]))"
   ]
  },
  {
   "cell_type": "code",
   "execution_count": null,
   "metadata": {},
   "outputs": [],
   "source": [
    "ks.ravel()"
   ]
  },
  {
   "cell_type": "code",
   "execution_count": null,
   "metadata": {},
   "outputs": [],
   "source": [
    "\n",
    "s0 = gpe.State()\n",
    "\n",
    "s0.kxy[0]"
   ]
  },
  {
   "cell_type": "code",
   "execution_count": null,
   "metadata": {},
   "outputs": [],
   "source": []
  },
  {
   "cell_type": "code",
   "execution_count": null,
   "metadata": {},
   "outputs": [],
   "source": []
  },
  {
   "cell_type": "code",
   "execution_count": null,
   "metadata": {},
   "outputs": [],
   "source": []
  }
 ],
 "metadata": {
  "kernelspec": {
   "display_name": "Python 2",
   "language": "python",
   "name": "python2"
  },
  "language_info": {
   "codemirror_mode": {
    "name": "ipython",
    "version": 2
   },
   "file_extension": ".py",
   "mimetype": "text/x-python",
   "name": "python",
   "nbconvert_exporter": "python",
   "pygments_lexer": "ipython2",
   "version": "2.7.13"
  },
  "toc": {
   "nav_menu": {},
   "number_sections": true,
   "sideBar": true,
   "skip_h1_title": false,
   "toc_cell": false,
   "toc_position": {},
   "toc_section_display": "block",
   "toc_window_display": false
  }
 },
 "nbformat": 4,
 "nbformat_minor": 1
}
