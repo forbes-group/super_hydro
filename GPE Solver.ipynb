{
 "cells": [
  {
   "cell_type": "markdown",
   "metadata": {
    "collapsed": false
   },
   "source": [
   ]
  },
  {
   "cell_type": "code",
   "execution_count": 0,
   "metadata": {
    "collapsed": false
   },
   "outputs": [
   ],
   "source": [
    "import mmf_setup;mmf_setup.nbinit()"
   ]
  },
  {
   "cell_type": "markdown",
   "metadata": {
    "collapsed": false
   },
   "source": [
    "$$\n",
    "  \\newcommand{\\I}{\\mathrm{i}}\n",
    "  \\I\\hbar \\dot{\\psi} = \\frac{-\\hbar^2\\nabla^2}{2m}\\psi + (gn - \\mu)\\psi\n",
    "$$\n",
    "\n",
    "Length Scales"
   ]
  },
  {
   "cell_type": "markdown",
   "metadata": {
    "collapsed": false
   },
   "source": [
    "Healing length $\\xi_h$:\n",
    "\n",
    "$$\n",
    "  \\frac{\\hbar^2}{2m\\xi_h^2} = gn_0\n",
    "$$\n"
   ]
  },
  {
   "cell_type": "markdown",
   "metadata": {
    "collapsed": false
   },
   "source": [
    "# Split Operator"
   ]
  },
  {
   "cell_type": "markdown",
   "metadata": {
    "collapsed": false
   },
   "source": [
    "$$\n",
    "  \\newcommand{\\d}{\\mathrm{d}}\n",
    "  \\I\\hbar \\dot{\\psi} = H[\\psi]\\psi = (T + V[\\psi])\\psi\\\\\n",
    "  \\d\\psi = \\frac{H\\psi}{\\I\\hbar}\\d{t}\\\\\n",
    "  \\psi(\\d{t}) = e^{-\\I \\d{t} H/\\hbar}\\psi(0)\n",
    "          = e^{-\\I \\d{t} (T + V)/\\hbar}\\psi(0)\n",
    "          \\approx e^{-\\I \\hbar^{-1}\\d{t} T}e^{-\\I\\hbar^{-1}\\d{t} V}\\psi(0)\n",
    "          \\approx e^{-\\I \\hbar^{-1}\\d{t} T/2}e^{-\\I\\hbar^{-1}\\d{t} V}e^{-\\I \\hbar^{-1}\\d{t} T/2}\\psi(0)\n",
    "$$"
   ]
  },
  {
   "cell_type": "code",
   "execution_count": 0,
   "metadata": {
    "collapsed": false
   },
   "outputs": [
   ],
   "source": [
    "# healing length = 1.0\n",
    "# hbar = m = g = 1\n",
    "%pylab inline --no-import-all\n",
    "\n",
    "import numpy as np\n",
    "import numpy.fft\n",
    "\n",
    "\n",
    "class State(object):\n",
    "    def __init__(self, Nxy=(32, 32), Lxy=(10., 10.), \n",
    "                 healing_length=1.0, r0=1.0, V0=-1.0):\n",
    "        g = hbar = m = 1.0\n",
    "        self.g = g\n",
    "        self.hbar = hbar\n",
    "        self.m = m\n",
    "        self.r0 = r0\n",
    "        self.V0 = V0\n",
    "        Nx, Ny = Nxy\n",
    "        Lx, Ly = Lxy\n",
    "        dxy = dx, dy = np.divide(Lxy, Nxy)\n",
    "        x = (np.arange(Nx)*dx - Lx/2.0)[:, None]\n",
    "        y = (np.arange(Ny)*dy - Ly/2.0)[None, :]\n",
    "        self.xy = (x, y)\n",
    "        \n",
    "        kx = 2*np.pi * np.fft.fftfreq(Nx, dx)[:, None]\n",
    "        ky = 2*np.pi * np.fft.fftfreq(Ny, dy)[None, :]\n",
    "        self.kxy = (kx, ky)\n",
    "        \n",
    "        self.K = hbar**2*(kx**2 + ky**2)/2.0/m\n",
    "        \n",
    "        n0 = hbar**2/2.0/healing_length**2/g\n",
    "        self.mu = g*n0\n",
    "        self.data = np.ones(Nxy, dtype=complex) * np.sqrt(n0)\n",
    "        \n",
    "        self.x0 = self.y0 = 0\n",
    "\n",
    "    def get_density(self):\n",
    "        return abs(self.data)**2\n",
    "    \n",
    "    def set_xy0(self, x0, y0):\n",
    "        self.x0 = x0\n",
    "        self.y0 = y0\n",
    "        \n",
    "    def plot(self):\n",
    "        n = self.get_density()\n",
    "        x, y = self.xy\n",
    "        plt.pcolormesh(x.ravel(), y.ravel(), n)\n",
    "        plt.colorbar()\n",
    "        \n",
    "    def fft(self, y):\n",
    "        return np.fft.fftn(y)\n",
    "\n",
    "    def ifft(self, y):\n",
    "        return np.fft.ifftn(y)\n",
    "    \n",
    "    def get_Vext(self):\n",
    "        x, y = self.xy\n",
    "        r2 = (x - self.x0)**2 + (y - self.y0)**2\n",
    "        return self.V0*np.exp(-r2/2.0/self.r0**2)\n",
    "    \n",
    "    def apply_expK(self, dt, factor=1.0):\n",
    "        y = self.data\n",
    "        self.data[...] = self.ifft(np.exp(-1j*dt*self.K*factor/self.hbar) * self.fft(y))\n",
    "    \n",
    "    def apply_expV(self, dt, factor=1.0):\n",
    "        y = self.data\n",
    "        n = self.get_density()\n",
    "        V = self.get_Vext() + self.g*n - self.mu\n",
    "        self.data[...] = np.exp(-1j*dt*V*factor/self.hbar) * y\n",
    "    \n",
    "    def step(self, N, dt):\n",
    "        self.apply_expK(dt=dt, factor=0.5)\n",
    "        for n in range(N):\n",
    "            self.apply_expV(dt=dt, factor=1.0)\n",
    "            self.apply_expK(dt=dt, factor=1.0)\n",
    "        self.apply_expK(dt=dt, factor=-0.5)\n",
    "\n",
    "s = State()\n",
    "\n",
    "s.plot()"
   ]
  },
  {
   "cell_type": "code",
   "execution_count": 0,
   "metadata": {
    "collapsed": false
   },
   "outputs": [
   ],
   "source": [
    "%timeit s.step(2, dt=0.1)"
   ]
  },
  {
   "cell_type": "code",
   "execution_count": 0,
   "metadata": {
    "collapsed": false
   },
   "outputs": [
   ],
   "source": [
    "from IPython.display import display, clear_output\n",
    "\n",
    "for n in range(100):\n",
    "    s.step(20, dt=0.1)\n",
    "    plt.clf()\n",
    "    s.plot()\n",
    "    display(plt.gcf())\n",
    "    clear_output(wait=True)"
   ]
  },
  {
   "cell_type": "code",
   "execution_count": 0,
   "metadata": {
    "collapsed": false
   },
   "outputs": [
   ],
   "source": [
   ]
  }
 ],
 "metadata": {
  "kernelspec": {
   "display_name": "Python 3 (Anaconda)",
   "language": "python",
   "name": "anaconda3"
  },
  "language_info": {
   "codemirror_mode": {
    "name": "ipython",
    "version": 3
   },
   "file_extension": ".py",
   "mimetype": "text/x-python",
   "name": "python",
   "nbconvert_exporter": "python",
   "pygments_lexer": "ipython3",
   "version": "3.5.5"
  }
 },
 "nbformat": 4,
 "nbformat_minor": 0
}