{
 "cells": [
  {
   "cell_type": "code",
   "execution_count": null,
   "metadata": {},
   "outputs": [],
   "source": [
    "%pylab inline\n",
    "from mmfutils.plot import imcontourf, phase_contour\n",
    "\n",
    "x = np.linspace(-1,1,64)[:, None]\n",
    "y = np.linspace(-1,1,64)[None, :]\n",
    "\n",
    "\n",
    "x0 = 0\n",
    "y0 = 0 \n",
    "psi = (x+1j*y)*np.exp(-((x-x0)**2+y**2)/0.2**2/2)\n",
    "#plt.imshow(z.T, origin='lower left', extent=(-1,1,-1,1))\n",
    "imcontourf(x, y, abs(psi)**2)\n",
    "#phase_contour(x, y, psi)\n",
    "plt.colorbar()\n",
    "plt.gca().set_aspect(1)\n"
   ]
  },
  {
   "cell_type": "code",
   "execution_count": null,
   "metadata": {},
   "outputs": [],
   "source": [
    "1./60*1000"
   ]
  },
  {
   "cell_type": "code",
   "execution_count": null,
   "metadata": {},
   "outputs": [],
   "source": [
    "#%timeit (x+1j*y)*np.exp(-((x-x0)**2+y**2)/0.2**2/2) + np.fft.ifft(np.fft.fftn(psi))\n",
    "%timeit phase_contour(x, y, psi)"
   ]
  },
  {
   "cell_type": "code",
   "execution_count": null,
   "metadata": {},
   "outputs": [],
   "source": []
  },
  {
   "cell_type": "code",
   "execution_count": null,
   "metadata": {},
   "outputs": [],
   "source": []
  },
  {
   "cell_type": "code",
   "execution_count": null,
   "metadata": {},
   "outputs": [],
   "source": []
  }
 ],
 "metadata": {
  "kernelspec": {
   "display_name": "Python 2 (Ubuntu, plain)",
   "language": "python",
   "name": "python2-ubuntu"
  },
  "language_info": {
   "codemirror_mode": {
    "name": "ipython",
    "version": 2
   },
   "file_extension": ".py",
   "mimetype": "text/x-python",
   "name": "python",
   "nbconvert_exporter": "python",
   "pygments_lexer": "ipython2",
   "version": "2.7.13"
  },
  "toc": {
   "nav_menu": {},
   "number_sections": true,
   "sideBar": true,
   "skip_h1_title": false,
   "toc_cell": false,
   "toc_position": {},
   "toc_section_display": "block",
   "toc_window_display": false
  }
 },
 "nbformat": 4,
 "nbformat_minor": 1
}
